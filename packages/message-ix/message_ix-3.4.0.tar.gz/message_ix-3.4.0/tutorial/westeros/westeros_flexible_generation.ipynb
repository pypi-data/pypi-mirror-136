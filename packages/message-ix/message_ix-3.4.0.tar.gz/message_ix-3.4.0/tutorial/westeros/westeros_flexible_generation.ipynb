{
 "cells": [
  {
   "cell_type": "markdown",
   "metadata": {},
   "source": [
    "# Westeros Tutorial - Adding representation of renewables (part2/3): Introducing `flexible generation`\n",
    "\n",
    "This tutorial, which demonstrates how to apply various model features to provide a more realistic representation of renewable energy integration in the energy system, is comprised of three parts. \n",
    "\n",
    "In the first part, we introduced [`firm capacity`](https://docs.messageix.org/en/stable/model/MESSAGE/model_core.html?highlight=FIRM_CAPACITY_PROVISION#equation-firm-capacity-provision) constraints to ensure that conventional electricity generation plants supplied sufficient backup capacity to allow for high renewable electricity generation penetration. In this tutorial, we will address [`flexible generation`](https://docs.messageix.org/en/stable/model/MESSAGE/model_core.html?highlight=flexibility#equation-system-flexibility-constraint) i.e., the ability of a powerplant to ramp up and down its generation in response to the system needs. The power system needs to be flexible to respond to fluctuations in both electricity load and supply.\n",
    "\n",
    "Further information can be found in https://doi.org/10.1016/j.esr.2013.01.001 (*Sullivan et al., 2013*).\n",
    "\n",
    "**Pre-requisites**\n",
    "- You have the *MESSAGEix* framework installed and working.\n",
    "- You have run Westeros scenario which adds emission taxes (``westeros_emissions_taxes.ipynb``) and solved it successfully.\n",
    "\n",
    "## Online documentation\n",
    "\n",
    "The full framework documentation is available at [https://docs.messageix.org](https://docs.messageix.org)]."
   ]
  },
  {
   "cell_type": "code",
   "execution_count": 1,
   "metadata": {},
   "outputs": [
    {
     "data": {
      "application/javascript": [
       "IPython.OutputArea.prototype._should_scroll = function(lines) { return false; }"
      ],
      "text/plain": [
       "<IPython.core.display.Javascript object>"
      ]
     },
     "metadata": {},
     "output_type": "display_data"
    }
   ],
   "source": [
    "import pandas as pd\n",
    "import ixmp\n",
    "import message_ix\n",
    "\n",
    "from message_ix.util import make_df\n",
    "\n",
    "%matplotlib inline"
   ]
  },
  {
   "cell_type": "code",
   "execution_count": 2,
   "metadata": {},
   "outputs": [],
   "source": [
    "mp = ixmp.Platform()"
   ]
  },
  {
   "cell_type": "markdown",
   "metadata": {},
   "source": [
    "## Load an existing scenario and clone it to a new scenario\n",
    "We load the existing scenario '*carbon_tax*' and clone to a new scenario called '*flexible_generation*', to which we will apply the `flexible generation` constraint."
   ]
  },
  {
   "cell_type": "code",
   "execution_count": 3,
   "metadata": {},
   "outputs": [],
   "source": [
    "model = 'Westeros Electrified'\n",
    "base = message_ix.Scenario(mp, model=model, scenario='carbon_tax')\n",
    "scen = base.clone(model, 'flexible_generation',\n",
    "                  'illustration of flexible-generation formulation', keep_solution=False)\n",
    "scen.check_out()"
   ]
  },
  {
   "cell_type": "markdown",
   "metadata": {},
   "source": [
    "## Retrieve parameters\n",
    "We will retrieve those parameters necessary to perform subsequent additions of parameters."
   ]
  },
  {
   "cell_type": "code",
   "execution_count": 4,
   "metadata": {},
   "outputs": [],
   "source": [
    "year_df = scen.vintage_and_active_years()\n",
    "vintage_years, act_years = year_df['year_vtg'], year_df['year_act']\n",
    "model_horizon = scen.set('year')\n",
    "country = 'Westeros'"
   ]
  },
  {
   "cell_type": "markdown",
   "metadata": {},
   "source": [
    "## Describing Flexibility Requirements\n",
    "\n",
    "Electric-sector flexibility is the ability of power system to match supply and demand at any time scale. This characteristic can be represented in a stylized way as follows. Each generating technology is assigned a coefficient between −1 and 1 representing (if positive) the fraction of generation from that technology that is considered to be flexible or (if negative) the additional flexible generation required for each unit of generation from that technology. A negative coefficient on load reveals a parameterization of the amount of flexible energy the system requires solely to meet changes and uncertainty in load. (*Sullivan et al., 2013*)\n",
    "\n",
    "The coefficients used in this tutorial are derived in *Sullivan et al., 2013*.\n",
    "\n",
    "| Technology | Flexibility parameter |\n",
    "| ---------- | --------------------- |\n",
    "| Load | −0.1 |\n",
    "| Wind | −0.08 |\n",
    "| Solar PV | −0.05 |\n",
    "| Geothermal | 0 |\n",
    "| Nuclear | 0 |\n",
    "| Coal | 0.15 |\n",
    "| Biopower | 0.3 |\n",
    "| Gas-CC | 0.5 |\n",
    "| Hydropower | 0.5 |\n",
    "| H2 Electrolysis | 0.5 |\n",
    "| Oil/gas steam | 1 |\n",
    "| Gas-CT | 1 |\n",
    "| Electricity storage | 1 |\n",
    "\n",
    "Based on the above listed coefficients, our `wind_ppl` will need fleixblity equal to 8% of its activity. Likewise, the electricity grid has a flexibility need of 10%. `coal_ppl` can provide 15% of its activity as flexibility for meeting the system needs.  \n",
    "\n",
    "Recall that in the previous tutorial two rating bins were introduced for `wind_ppl`, depicting the different firm capacity requirements as market penetration increases.  We will again use the two rating bins previously defined. Here we make the assumption that the above flexibility parameter (8%) applies to the larger of two rating bins (`r2`), and assume that the smaller rating bin (`r1`) has a lower flexibility demand of 6%, correlating to the fact that the first 20% of installed capacity required contributes more to firm capacity.  "
   ]
  },
  {
   "cell_type": "code",
   "execution_count": 5,
   "metadata": {},
   "outputs": [],
   "source": [
    "base_flexibility_factor = pd.DataFrame({\n",
    "        'node_loc': country,\n",
    "        'commodity': 'electricity',\n",
    "        'level' : 'secondary',\n",
    "        'mode': 'standard',\n",
    "        'unit': '-',\n",
    "        'time': 'year',\n",
    "        'year_vtg': vintage_years,\n",
    "        'year_act': act_years,\n",
    "})\n",
    "\n",
    "base_rating = pd.DataFrame({\n",
    "        'node': country,\n",
    "        'commodity': 'electricity',\n",
    "        'level' : 'secondary', \n",
    "        'unit': '-',\n",
    "        'time': 'year',\n",
    "        'year_act': model_horizon})"
   ]
  },
  {
   "cell_type": "markdown",
   "metadata": {},
   "source": [
    "### Add and parametrize rating bins\n",
    "We will add the two rating bins and configure these for the `wind_ppl` as described above."
   ]
  },
  {
   "cell_type": "code",
   "execution_count": 6,
   "metadata": {},
   "outputs": [],
   "source": [
    "scen.add_set('rating', ['r1', 'r2'])\n",
    "\n",
    "rating_bin = make_df(base_rating, technology= 'wind_ppl', value = 0.2, rating= 'r1')\n",
    "scen.add_par('rating_bin', rating_bin)\n",
    "\n",
    "rating_bin = make_df(base_rating, technology= 'wind_ppl', value = 0.8, rating= 'r2')\n",
    "scen.add_par('rating_bin', rating_bin)"
   ]
  },
  {
   "cell_type": "markdown",
   "metadata": {},
   "source": [
    "### Add flexibility\n",
    "We will configure the flexibility for the three technologies mentiond above: `grid`, `wind_ppl` and the `coal_ppl`."
   ]
  },
  {
   "cell_type": "code",
   "execution_count": 7,
   "metadata": {},
   "outputs": [],
   "source": [
    "# For the Load (`grid`)\n",
    "flexibility_factor = make_df(base_flexibility_factor, technology= 'grid', rating= 'unrated', value = -0.1)\n",
    "scen.add_par('flexibility_factor',flexibility_factor)\n",
    "\n",
    "# For the respective rating bins of `wind_ppl`\n",
    "flexibility_factor = make_df(base_flexibility_factor, technology= 'wind_ppl', rating= 'r1', value = -0.06)\n",
    "scen.add_par('flexibility_factor',flexibility_factor)\n",
    "\n",
    "flexibility_factor = make_df(base_flexibility_factor, technology= 'wind_ppl', rating= 'r2', value = -0.08)\n",
    "scen.add_par('flexibility_factor',flexibility_factor)\n",
    "\n",
    "# For `coal_ppl`\n",
    "flexibility_factor = make_df(base_flexibility_factor, technology= 'coal_ppl', rating= 'unrated', value = 0.15)\n",
    "scen.add_par('flexibility_factor',flexibility_factor)"
   ]
  },
  {
   "cell_type": "markdown",
   "metadata": {},
   "source": [
    "Note, that `coal_ppl` has a dynamic growth constraint on activity. This constraint will render the problem infeasible due to the flexibility requirements, hence we will remove this constraint."
   ]
  },
  {
   "cell_type": "code",
   "execution_count": 8,
   "metadata": {},
   "outputs": [],
   "source": [
    "df = scen.par('growth_activity_up', filters={'technology': 'coal_ppl', 'year_act': 700})\n",
    "scen.remove_par('growth_activity_up', df)"
   ]
  },
  {
   "cell_type": "markdown",
   "metadata": {},
   "source": [
    "## Commit and solve"
   ]
  },
  {
   "cell_type": "code",
   "execution_count": 9,
   "metadata": {},
   "outputs": [],
   "source": [
    "scen.commit(comment='define parameters for flexibile-generation implementation')\n",
    "scen.set_as_default()"
   ]
  },
  {
   "cell_type": "code",
   "execution_count": 10,
   "metadata": {},
   "outputs": [],
   "source": [
    "scen.solve()"
   ]
  },
  {
   "cell_type": "code",
   "execution_count": 11,
   "metadata": {},
   "outputs": [
    {
     "data": {
      "text/plain": [
       "655211.3125"
      ]
     },
     "execution_count": 11,
     "metadata": {},
     "output_type": "execute_result"
    }
   ],
   "source": [
    "scen.var('OBJ')['lvl']"
   ]
  },
  {
   "cell_type": "markdown",
   "metadata": {},
   "source": [
    "## Plotting Results"
   ]
  },
  {
   "cell_type": "code",
   "execution_count": 12,
   "metadata": {},
   "outputs": [],
   "source": [
    "from message_ix.reporting import Reporter\n",
    "from message_ix.util.tutorial import prepare_plots\n",
    "\n",
    "rep_base = Reporter.from_scenario(base)\n",
    "prepare_plots(rep_base)\n",
    "\n",
    "rep_scen = Reporter.from_scenario(scen)\n",
    "prepare_plots(rep_scen)"
   ]
  },
  {
   "cell_type": "markdown",
   "metadata": {},
   "source": [
    "### Activity\n",
    "***\n",
    "The impact of adding the flexibility constraint to electricity generation technologies on the model behavior can be observed by comparing the activity levels between the two scenarios. In the '*carbon_tax*' scenario, from which started, electricity generation from `wind_ppl` is significantly scaled up over the years. By 720, almost all the electricity is generated by the `wind_ppl`.\n",
    "\n",
    "When adding the flexibility constraint, the `coal_ppl` is required to generate a larger portion of electricity in order to provide activity to meet the demanded flexibility by the `load` and the `wind_ppl`."
   ]
  },
  {
   "cell_type": "markdown",
   "metadata": {},
   "source": [
    "#### Scenario: '*carbon_tax*'"
   ]
  },
  {
   "cell_type": "code",
   "execution_count": 13,
   "metadata": {},
   "outputs": [
    {
     "data": {
      "text/plain": [
       "<AxesSubplot:title={'center':'Westeros Energy System Activity'}, xlabel='Year', ylabel='GWa'>"
      ]
     },
     "execution_count": 13,
     "metadata": {},
     "output_type": "execute_result"
    },
    {
     "data": {
      "image/png": "[encoded data removed]",
      "text/plain": [
       "<Figure size 432x288 with 1 Axes>"
      ]
     },
     "metadata": {
      "needs_background": "light"
     },
     "output_type": "display_data"
    }
   ],
   "source": [
    "rep_base.set_filters(t=[\"coal_ppl\", \"wind_ppl\"])\n",
    "rep_base.get(\"plot activity\")"
   ]
  },
  {
   "cell_type": "markdown",
   "metadata": {},
   "source": [
    "#### Scenario: '*flexible_generation*'"
   ]
  },
  {
   "cell_type": "code",
   "execution_count": 14,
   "metadata": {},
   "outputs": [
    {
     "data": {
      "text/plain": [
       "<AxesSubplot:title={'center':'Westeros Energy System Activity'}, xlabel='Year', ylabel='GWa'>"
      ]
     },
     "execution_count": 14,
     "metadata": {},
     "output_type": "execute_result"
    },
    {
     "data": {
      "image/png": "[encoded data removed]",
      "text/plain": [
       "<Figure size 432x288 with 1 Axes>"
      ]
     },
     "metadata": {
      "needs_background": "light"
     },
     "output_type": "display_data"
    }
   ],
   "source": [
    "rep_scen.set_filters(t=[\"coal_ppl\", \"wind_ppl\"])\n",
    "rep_scen.get(\"plot activity\")"
   ]
  },
  {
   "cell_type": "markdown",
   "metadata": {},
   "source": [
    "### Impacts on emissions\n",
    "***\n",
    "As a further consequnece, the `carbon_tax`, which remains unchanged, does not result in emission reductions achieved in the '*carbon_tax*' scenario as shown below. We can see, that the emissions in 720 increase almost fivefold. Hence, adding the flexibility requirements to the scenario will require the `carbon_tax` to be increased  significantly to achieve the same emission reducitons. Alterantively, a technology which contributes more of its activity to the flexibility constraint, like a gas combustion turbine, could be added to the model."
   ]
  },
  {
   "cell_type": "markdown",
   "metadata": {},
   "source": [
    "#### Scenario: '*carbon_tax*'"
   ]
  },
  {
   "cell_type": "code",
   "execution_count": 15,
   "metadata": {},
   "outputs": [
    {
     "data": {
      "text/html": [
       "<div>\n",
       "<style scoped>\n",
       "    .dataframe tbody tr th:only-of-type {\n",
       "        vertical-align: middle;\n",
       "    }\n",
       "\n",
       "    .dataframe tbody tr th {\n",
       "        vertical-align: top;\n",
       "    }\n",
       "\n",
       "    .dataframe thead th {\n",
       "        text-align: right;\n",
       "    }\n",
       "</style>\n",
       "<table border=\"1\" class=\"dataframe\">\n",
       "  <thead>\n",
       "    <tr style=\"text-align: right;\">\n",
       "      <th></th>\n",
       "      <th>node</th>\n",
       "      <th>emission</th>\n",
       "      <th>type_tec</th>\n",
       "      <th>year</th>\n",
       "      <th>lvl</th>\n",
       "      <th>mrg</th>\n",
       "    </tr>\n",
       "  </thead>\n",
       "  <tbody>\n",
       "    <tr>\n",
       "      <th>0</th>\n",
       "      <td>Westeros</td>\n",
       "      <td>CO2</td>\n",
       "      <td>all</td>\n",
       "      <td>700</td>\n",
       "      <td>595.968587</td>\n",
       "      <td>0.0</td>\n",
       "    </tr>\n",
       "    <tr>\n",
       "      <th>1</th>\n",
       "      <td>Westeros</td>\n",
       "      <td>CO2</td>\n",
       "      <td>all</td>\n",
       "      <td>710</td>\n",
       "      <td>725.113435</td>\n",
       "      <td>0.0</td>\n",
       "    </tr>\n",
       "    <tr>\n",
       "      <th>2</th>\n",
       "      <td>Westeros</td>\n",
       "      <td>CO2</td>\n",
       "      <td>all</td>\n",
       "      <td>720</td>\n",
       "      <td>244.030692</td>\n",
       "      <td>0.0</td>\n",
       "    </tr>\n",
       "  </tbody>\n",
       "</table>\n",
       "</div>"
      ],
      "text/plain": [
       "       node emission type_tec  year         lvl  mrg\n",
       "0  Westeros      CO2      all   700  595.968587  0.0\n",
       "1  Westeros      CO2      all   710  725.113435  0.0\n",
       "2  Westeros      CO2      all   720  244.030692  0.0"
      ]
     },
     "execution_count": 15,
     "metadata": {},
     "output_type": "execute_result"
    }
   ],
   "source": [
    "base.var('EMISS', filters={'node': 'Westeros'})"
   ]
  },
  {
   "cell_type": "code",
   "execution_count": 16,
   "metadata": {},
   "outputs": [],
   "source": [
    "#### Scenario: '*flexible_generation*'"
   ]
  },
  {
   "cell_type": "code",
   "execution_count": 17,
   "metadata": {},
   "outputs": [
    {
     "data": {
      "text/html": [
       "<div>\n",
       "<style scoped>\n",
       "    .dataframe tbody tr th:only-of-type {\n",
       "        vertical-align: middle;\n",
       "    }\n",
       "\n",
       "    .dataframe tbody tr th {\n",
       "        vertical-align: top;\n",
       "    }\n",
       "\n",
       "    .dataframe thead th {\n",
       "        text-align: right;\n",
       "    }\n",
       "</style>\n",
       "<table border=\"1\" class=\"dataframe\">\n",
       "  <thead>\n",
       "    <tr style=\"text-align: right;\">\n",
       "      <th></th>\n",
       "      <th>node</th>\n",
       "      <th>emission</th>\n",
       "      <th>type_tec</th>\n",
       "      <th>year</th>\n",
       "      <th>lvl</th>\n",
       "      <th>mrg</th>\n",
       "    </tr>\n",
       "  </thead>\n",
       "  <tbody>\n",
       "    <tr>\n",
       "      <th>0</th>\n",
       "      <td>Westeros</td>\n",
       "      <td>CO2</td>\n",
       "      <td>all</td>\n",
       "      <td>700</td>\n",
       "      <td>745.631659</td>\n",
       "      <td>0.0</td>\n",
       "    </tr>\n",
       "    <tr>\n",
       "      <th>1</th>\n",
       "      <td>Westeros</td>\n",
       "      <td>CO2</td>\n",
       "      <td>all</td>\n",
       "      <td>710</td>\n",
       "      <td>1091.922760</td>\n",
       "      <td>0.0</td>\n",
       "    </tr>\n",
       "    <tr>\n",
       "      <th>2</th>\n",
       "      <td>Westeros</td>\n",
       "      <td>CO2</td>\n",
       "      <td>all</td>\n",
       "      <td>720</td>\n",
       "      <td>1195.439614</td>\n",
       "      <td>0.0</td>\n",
       "    </tr>\n",
       "  </tbody>\n",
       "</table>\n",
       "</div>"
      ],
      "text/plain": [
       "       node emission type_tec  year          lvl  mrg\n",
       "0  Westeros      CO2      all   700   745.631659  0.0\n",
       "1  Westeros      CO2      all   710  1091.922760  0.0\n",
       "2  Westeros      CO2      all   720  1195.439614  0.0"
      ]
     },
     "execution_count": 17,
     "metadata": {},
     "output_type": "execute_result"
    }
   ],
   "source": [
    "scen.var('EMISS', filters={'node': 'Westeros'})"
   ]
  },
  {
   "cell_type": "markdown",
   "metadata": {},
   "source": [
    "## Price\n",
    "***\n",
    "Prices of electricity increase most notably in 720, as can be seen from the two plots below comparing the prices of `light`. Note that in 700, the price of `light` decreases. This is because we have removed the dynamic growth constraint for `coal_ppl` in that year, allowing more electricity to be produced by the `coal_ppl` as opposed to the more expensive `wind_ppl`."
   ]
  },
  {
   "cell_type": "markdown",
   "metadata": {},
   "source": [
    "### Scenario: '*carbon_tax*'"
   ]
  },
  {
   "cell_type": "code",
   "execution_count": 20,
   "metadata": {},
   "outputs": [
    {
     "data": {
      "text/plain": [
       "<AxesSubplot:title={'center':'Westeros Energy System Prices'}, xlabel='Year', ylabel='¢/kW·h'>"
      ]
     },
     "execution_count": 20,
     "metadata": {},
     "output_type": "execute_result"
    },
    {
     "data": {
      "image/png": "[encoded data removed]",
      "text/plain": [
       "<Figure size 432x288 with 1 Axes>"
      ]
     },
     "metadata": {
      "needs_background": "light"
     },
     "output_type": "display_data"
    }
   ],
   "source": [
    "rep_base.set_filters(t=None, c=[\"light\"])\n",
    "rep_base.get(\"plot prices\")"
   ]
  },
  {
   "cell_type": "markdown",
   "metadata": {},
   "source": [
    "### Scenario: '*flexible_generation*'"
   ]
  },
  {
   "cell_type": "code",
   "execution_count": 21,
   "metadata": {},
   "outputs": [
    {
     "data": {
      "text/plain": [
       "<AxesSubplot:title={'center':'Westeros Energy System Prices'}, xlabel='Year', ylabel='¢/kW·h'>"
      ]
     },
     "execution_count": 21,
     "metadata": {},
     "output_type": "execute_result"
    },
    {
     "data": {
      "image/png": "[encoded data removed]",
      "text/plain": [
       "<Figure size 432x288 with 1 Axes>"
      ]
     },
     "metadata": {
      "needs_background": "light"
     },
     "output_type": "display_data"
    }
   ],
   "source": [
    "rep_scen.set_filters(t=None, c=[\"light\"])\n",
    "rep_scen.get(\"plot prices\")"
   ]
  },
  {
   "cell_type": "code",
   "execution_count": 22,
   "metadata": {},
   "outputs": [],
   "source": [
    "mp.close_db()"
   ]
  }
 ],
 "metadata": {
  "kernelspec": {
   "display_name": "Python 3",
   "language": "python",
   "name": "python3"
  },
  "language_info": {
   "codemirror_mode": {
    "name": "ipython",
    "version": 3
   },
   "file_extension": ".py",
   "mimetype": "text/x-python",
   "name": "python",
   "nbconvert_exporter": "python",
   "pygments_lexer": "ipython3",
   "version": "3.7.9"
  }
 },
 "nbformat": 4,
 "nbformat_minor": 2
}
