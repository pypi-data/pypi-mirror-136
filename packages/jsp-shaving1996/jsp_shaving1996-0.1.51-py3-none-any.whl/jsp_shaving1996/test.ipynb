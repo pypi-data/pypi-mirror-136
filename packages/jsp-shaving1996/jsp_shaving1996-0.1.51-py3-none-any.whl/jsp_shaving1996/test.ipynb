{
 "cells": [
  {
   "cell_type": "code",
   "execution_count": 1,
   "metadata": {},
   "outputs": [],
   "source": [
    "from collections import defaultdict"
   ]
  },
  {
   "cell_type": "code",
   "execution_count": 2,
   "metadata": {},
   "outputs": [],
   "source": [
    "from jsp_benchmarks import JSPInstanceLoader\n",
    "from jsp_exp import Operation, Job, JSP\n",
    "import jsp_shaving1990"
   ]
  },
  {
   "cell_type": "code",
   "execution_count": 3,
   "metadata": {},
   "outputs": [],
   "source": [
    "import main as jsp_shaving1996"
   ]
  },
  {
   "cell_type": "code",
   "execution_count": 4,
   "metadata": {},
   "outputs": [],
   "source": [
    "def init_heads_and_tails(jsp):\n",
    "    # NOTE: 正しく動いている\n",
    "    # initしている時点でnaiveなshavingはしていることになる\n",
    "    for job in jsp:\n",
    "        for i in range(len(job)):\n",
    "            previous_ops, next_ops = job[:i], job[i + 1:]\n",
    "            job[i].r = sum(op.p for op in previous_ops)\n",
    "            job[i].q = sum(op.p for op in next_ops)\n",
    "\n",
    "def collect_ops_processed_by_same_machine(jsp: JSP):\n",
    "    # NOTE: 正しく動いている\n",
    "    collected = defaultdict(Job)\n",
    "    for job in jsp:\n",
    "        for op in job:\n",
    "            collected[op.processed_by].append(op)\n",
    "    return dict(collected)"
   ]
  },
  {
   "cell_type": "code",
   "execution_count": 5,
   "metadata": {},
   "outputs": [],
   "source": [
    "def update_machine(ops_on_same_machine: Job, T: int, shaving_algo, printdebug=False) -> bool:\n",
    "    # NOTE: これが最も重要！！！！！正確に動いていることを確認しよう！！！！！\n",
    "    # NOTE: headとtailの更新は直列に行って良いのか？それとも，並列のほうが良いのか？\n",
    "    # 普通に考えると直列でも良さそうなので，直列で\n",
    "    if printdebug or True:\n",
    "        machine = ops_on_same_machine[0].processed_by\n",
    "        print(f\"machine name is '{machine}'\")\n",
    "        if machine == 3:\n",
    "            print(f\"{'='*50}\")\n",
    "            print('shaving前：',ops_on_same_machine.attrtolist('r'), ops_on_same_machine.attrtolist('p'), ops_on_same_machine.attrtolist('q'))\n",
    "        # print(f\"machine name is '{machine}'\")\n",
    "        # print(ops_on_same_machine)\n",
    "    r_list, p_list, q_list = [ops_on_same_machine.attrtolist(name) for name in ('r', 'p', 'q')]\n",
    "\n",
    "    pre_heads, pre_tails = r_list, q_list\n",
    "\n",
    "    next_heads = shaving_algo.adjust_heads(r_list=pre_heads, p_list=p_list, q_list=q_list, UB=T)\n",
    "    if not next_heads or any(r > T - p - q for r, p, q in zip(next_heads, p_list, pre_tails)):\n",
    "        print(\"ここが原因だよ1!\", next_heads)\n",
    "        print(pre_heads, p_list, pre_tails)\n",
    "        return None\n",
    "\n",
    "    if printdebug:\n",
    "        if any(ph != nh for ph, nh in zip(pre_heads, next_heads)):\n",
    "            print(f\"head shaving executed at machine {ops_on_same_machine[0].processed_by}\")\n",
    "            print(f\"pre heads: {pre_heads}\")\n",
    "            print(f\"next heads: {next_heads}\")\n",
    "\n",
    "    next_tails = shaving_algo.adjust_tails(r_list=next_heads, p_list=p_list, q_list=pre_tails, UB=T)\n",
    "    if not next_tails or any(r > T - p - q for r, p, q in zip(next_heads, p_list, next_tails)):\n",
    "        print(\"ここが原因だよ2!\", next_tails)\n",
    "        print(next_heads, p_list, pre_tails)\n",
    "        return None\n",
    "\n",
    "    if printdebug:\n",
    "        if any(pt != nt for pt, nt in zip(pre_tails, next_tails)):\n",
    "            print(f\"tail shaving executed at machine {ops_on_same_machine[0].processed_by}\")\n",
    "            print(f\"pre tails: {pre_tails}\")\n",
    "            print(f\"next tails: {next_tails}\")\n",
    "\n",
    "    ops_on_same_machine.setattr(next_heads, attr_name='r')\n",
    "    ops_on_same_machine.setattr(next_tails, attr_name='q')\n",
    "\n",
    "    is_updated = (pre_heads != next_heads) or (pre_tails != next_tails)\n",
    "\n",
    "    if printdebug:\n",
    "        print(next_heads, p_list, next_tails)\n",
    "    if printdebug or True:\n",
    "        machine = ops_on_same_machine[0].processed_by\n",
    "        if machine == 3:\n",
    "            print('shaving後：', next_heads, p_list, next_tails)\n",
    "            print(f\"{'='*50}\")\n",
    "    return is_updated\n",
    "\n",
    "\n",
    "def propagate_windows(jsp: JSP, printdebug=False) -> None:\n",
    "    # NOTE: 正しく動いている\n",
    "    if printdebug:\n",
    "        print('start propagation')\n",
    "    for j in range(len(jsp)):\n",
    "        job = jsp[j]\n",
    "        if printdebug:\n",
    "            print(f\"job name is '{job.name}'\")\n",
    "        for i in range(len(job) - 1):\n",
    "            if printdebug:\n",
    "                print(f\"Operation O_{j}{i}, window: [{job[i].r}, {55-job[i].p-job[i].q}]\", job[i])\n",
    "            job[i + 1].r = max(job[i + 1].r, job[i].r + job[i].p)\n",
    "            job[i].q = max(job[i].q, job[i + 1].q + job[i + 1].p)\n",
    "    if printdebug:\n",
    "        print('end propagation')\n",
    "\n",
    "\n",
    "def icp_shaving(jsp: JSP, T: int, shaving_algo, printdebug=False) -> bool:\n",
    "    collected = collect_ops_processed_by_same_machine(jsp)\n",
    "    updated = True\n",
    "    while updated:\n",
    "        updated = False\n",
    "        for ops_on_same_machine in collected.values():\n",
    "            res = update_machine(ops_on_same_machine, T, shaving_algo, printdebug)\n",
    "            if res is None:\n",
    "                return False\n",
    "            updated = res or updated\n",
    "        if updated:\n",
    "            propagate_windows(jsp, printdebug)\n",
    "    return True"
   ]
  },
  {
   "cell_type": "code",
   "execution_count": 19,
   "metadata": {},
   "outputs": [
    {
     "name": "stdout",
     "output_type": "stream",
     "text": [
      "machine name is '2'\n",
      "machine name is '0'\n",
      "machine name is '1'\n",
      "machine name is '3'\n",
      "==================================================\n",
      "shaving前： [10, 43, 5, 15, 24, 3] [7, 4, 4, 3, 1, 3] [9, 0, 25, 17, 0, 24]\n",
      "shaving後： [10, 43, 5, 15, 24, 3] [7, 4, 4, 3, 1, 3] [9, 0, 25, 17, 0, 24]\n",
      "==================================================\n",
      "machine name is '5'\n",
      "machine name is '4'\n",
      "machine name is '2'\n",
      "machine name is '0'\n",
      "machine name is '1'\n",
      "machine name is '3'\n",
      "==================================================\n",
      "shaving前： [14, 44, 5, 15, 28, 3] [7, 4, 4, 3, 1, 3] [11, 0, 32, 17, 0, 33]\n",
      "shaving後： [14, 44, 5, 15, 28, 3] [7, 4, 4, 3, 1, 3] [11, 0, 32, 17, 0, 33]\n",
      "==================================================\n",
      "machine name is '5'\n",
      "machine name is '4'\n",
      "machine name is '2'\n",
      "machine name is '0'\n",
      "machine name is '1'\n",
      "machine name is '3'\n",
      "==================================================\n",
      "shaving前： [19, 44, 5, 18, 28, 3] [7, 4, 4, 3, 1, 3] [11, 0, 32, 17, 0, 33]\n",
      "shaving後： [19, 44, 5, 18, 28, 3] [7, 4, 4, 3, 1, 3] [11, 0, 32, 17, 0, 33]\n",
      "==================================================\n",
      "machine name is '5'\n",
      "machine name is '4'\n",
      "machine name is '2'\n",
      "machine name is '0'\n",
      "machine name is '1'\n",
      "machine name is '3'\n",
      "==================================================\n",
      "shaving前： [22, 44, 5, 18, 35, 3] [7, 4, 4, 3, 1, 3] [11, 0, 34, 17, 0, 35]\n",
      "shaving後： [22, 44, 5, 18, 35, 3] [7, 4, 4, 3, 1, 3] [11, 0, 34, 17, 0, 35]\n",
      "==================================================\n",
      "machine name is '5'\n",
      "machine name is '4'\n",
      "machine name is '2'\n",
      "machine name is '0'\n",
      "machine name is '1'\n",
      "machine name is '3'\n",
      "==================================================\n",
      "shaving前： [22, 44, 5, 18, 40, 3] [7, 4, 4, 3, 1, 3] [11, 0, 34, 18, 0, 35]\n",
      "shaving後： [22, 44, 5, 18, 40, 3] [7, 4, 4, 3, 1, 3] [11, 0, 34, 18, 0, 35]\n",
      "==================================================\n",
      "machine name is '5'\n",
      "machine name is '4'\n",
      "machine name is '2'\n",
      "machine name is '0'\n",
      "machine name is '1'\n",
      "machine name is '3'\n",
      "==================================================\n",
      "shaving前： [22, 44, 5, 21, 43, 3] [7, 4, 4, 3, 1, 3] [11, 0, 34, 24, 0, 35]\n",
      "shaving後： [24, 44, 5, 21, 43, 3] [7, 4, 4, 3, 1, 3] [11, 0, 34, 24, 0, 35]\n",
      "==================================================\n",
      "machine name is '5'\n",
      "machine name is '4'\n",
      "machine name is '2'\n",
      "machine name is '0'\n",
      "machine name is '1'\n",
      "machine name is '3'\n",
      "==================================================\n",
      "shaving前： [24, 45, 5, 23, 48, 9] [7, 4, 4, 3, 1, 3] [11, 0, 34, 26, 0, 35]\n",
      "shaving後： [26, 45, 5, 23, 48, 9] [7, 4, 4, 3, 1, 3] [11, 0, 34, 26, 0, 35]\n",
      "==================================================\n",
      "machine name is '5'\n",
      "machine name is '4'\n",
      "machine name is '2'\n",
      "machine name is '0'\n",
      "machine name is '1'\n",
      "machine name is '3'\n",
      "==================================================\n",
      "shaving前： [26, 47, 5, 23, 50, 11] [7, 4, 4, 3, 1, 3] [12, 0, 40, 27, 0, 35]\n",
      "shaving後： [26, 47, 5, 23, 51, 11] [7, 4, 4, 3, 1, 3] [12, 1, 40, 27, 0, 35]\n",
      "==================================================\n",
      "machine name is '5'\n",
      "ここが原因だよ1! []\n",
      "[36, 25, 9, 40, 43, 17] [3, 10, 8, 9, 4, 9] [9, 16, 32, 0, 9, 26]\n"
     ]
    },
    {
     "data": {
      "text/plain": [
       "False"
      ]
     },
     "execution_count": 19,
     "metadata": {},
     "output_type": "execute_result"
    }
   ],
   "source": [
    "loader = JSPInstanceLoader()\n",
    "ft06 = loader.load('ft06')\n",
    "T = ft06.meta_data.optimum\n",
    "\n",
    "init_heads_and_tails(ft06.jsp)\n",
    "j0, j1, j2, j3, j4, j5 = ft06.jsp\n",
    "\n",
    "icp_shaving(ft06.jsp, T-1, jsp_shaving1996, False)"
   ]
  },
  {
   "cell_type": "code",
   "execution_count": 20,
   "metadata": {},
   "outputs": [
    {
     "name": "stdout",
     "output_type": "stream",
     "text": [
      "決定変数の数: 270\n"
     ]
    }
   ],
   "source": [
    "l = 0\n",
    "for job in ft06.jsp:\n",
    "    for op in job:\n",
    "        l += T - op.p - op.q - op.r + 1\n",
    "else:\n",
    "    print('決定変数の数:',l)"
   ]
  },
  {
   "cell_type": "code",
   "execution_count": 8,
   "metadata": {},
   "outputs": [],
   "source": [
    "def _find_center_integer(u: int, v: int) -> int:\n",
    "    # 一番最初以外は必ず偶数個の整数が含まれているので，ピッタリ中央の整数はない\n",
    "    # ので，小数点以下を含む中央の値を計算して，その左側の値を中央の値として取り扱うこととする\n",
    "    # NOTE: 想定通りに動いている\n",
    "    import math\n",
    "    c = math.floor((u + v) / 2)\n",
    "    return c\n",
    "\n",
    "\n",
    "def get_next_interval(u: int, v: int):\n",
    "    # NOTE: 想定通りに動いている\n",
    "    return u, _find_center_integer(u, v)"
   ]
  },
  {
   "cell_type": "code",
   "execution_count": 9,
   "metadata": {},
   "outputs": [
    {
     "data": {
      "text/plain": [
       "(1, 1)"
      ]
     },
     "execution_count": 9,
     "metadata": {},
     "output_type": "execute_result"
    }
   ],
   "source": [
    "get_next_interval(u=1, v=2)"
   ]
  },
  {
   "cell_type": "code",
   "execution_count": null,
   "metadata": {},
   "outputs": [],
   "source": []
  }
 ],
 "metadata": {
  "interpreter": {
   "hash": "aee8b7b246df8f9039afb4144a1f6fd8d2ca17a180786b69acc140d282b71a49"
  },
  "kernelspec": {
   "display_name": "Python 3.9.9 64-bit",
   "language": "python",
   "name": "python3"
  },
  "language_info": {
   "codemirror_mode": {
    "name": "ipython",
    "version": 3
   },
   "file_extension": ".py",
   "mimetype": "text/x-python",
   "name": "python",
   "nbconvert_exporter": "python",
   "pygments_lexer": "ipython3",
   "version": "3.9.9"
  },
  "orig_nbformat": 4
 },
 "nbformat": 4,
 "nbformat_minor": 2
}
