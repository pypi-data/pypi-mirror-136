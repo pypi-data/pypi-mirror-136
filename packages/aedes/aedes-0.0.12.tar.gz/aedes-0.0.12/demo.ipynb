{
 "cells": [
  {
   "cell_type": "code",
   "execution_count": 1,
   "metadata": {},
   "outputs": [],
   "source": [
    "%load_ext autoreload\n",
    "%autoreload 2"
   ]
  },
  {
   "cell_type": "code",
   "execution_count": 2,
   "metadata": {},
   "outputs": [],
   "source": [
    "import pandas as pd"
   ]
  },
  {
   "cell_type": "code",
   "execution_count": 24,
   "metadata": {},
   "outputs": [],
   "source": [
    "\n",
    "import aedes\n",
    "from aedes.remote_sensing_utils import get_satellite_measures_from_AOI\n",
    "from aedes.remote_sensing_utils import perform_clustering, visualize_on_map\n",
    "\n",
    "from aedes.osm_utils import initialize_OSM_network, get_OSM_network_data, reverse_geocode_points, reverse_geocode_center_of_geojson"
   ]
  },
  {
   "cell_type": "code",
   "execution_count": 4,
   "metadata": {},
   "outputs": [],
   "source": [
    "# !pip3 install --upgrade pandas"
   ]
  },
  {
   "cell_type": "code",
   "execution_count": 5,
   "metadata": {},
   "outputs": [
    {
     "data": {
      "text/plain": [
       "'/Users/xavier/Desktop/aedes/pypi_package/aedes'"
      ]
     },
     "execution_count": 5,
     "metadata": {},
     "output_type": "execute_result"
    }
   ],
   "source": [
    "pwd"
   ]
  },
  {
   "cell_type": "code",
   "execution_count": 6,
   "metadata": {},
   "outputs": [],
   "source": [
    "# import ee\n",
    "# service_account = 'gcp-cirro-xavier-ee@gcp-cirro-xavier.iam.gserviceaccount.com'\n",
    "# credentials = ee.ServiceAccountCredentials(service_account, 'gcp-cirro-xavier-2158f076a9ef.json')\n",
    "# ee.Initialize(credentials)"
   ]
  },
  {
   "cell_type": "code",
   "execution_count": 7,
   "metadata": {},
   "outputs": [],
   "source": [
    "aedes.remote_sensing_utils.initialize()"
   ]
  },
  {
   "cell_type": "code",
   "execution_count": 8,
   "metadata": {},
   "outputs": [],
   "source": [
    "# !ls $HOME/.config/earthengine/credentials"
   ]
  },
  {
   "cell_type": "code",
   "execution_count": 9,
   "metadata": {},
   "outputs": [],
   "source": [
    "# !tail $HOME/.config/earthengine/credentials"
   ]
  },
  {
   "cell_type": "code",
   "execution_count": 27,
   "metadata": {},
   "outputs": [],
   "source": [
    "aoi_geojson = [[\n",
    "                [120.98976275,14.58936896],\n",
    "                [121.13383232,14.58936896],\n",
    "                [121.13383232,14.77641364],\n",
    "                [120.98976275,14.77641364],\n",
    "                [120.98976275,14.58936896]\n",
    "]]\n",
    "\n",
    "laguan_aoi_geojson = [[\n",
    "                [121.00197333,13.96948967],\n",
    "                [121.59683223,13.96948967],\n",
    "                [121.59683223,14.56562999],\n",
    "                [121.00197333,14.56562999],\n",
    "                [121.00197333,13.96948967]]]\n",
    "\n",
    "cotabato_aoi_geojson = [[[124.1548627939,7.1505616554],\n",
    "                         [124.3336516508,7.1505616554],\n",
    "                         [124.3336516508,7.2730654185],\n",
    "                         [124.1548627939,7.2730654185],\n",
    "                         [124.1548627939,7.1505616554]]]\n",
    "\n"
   ]
  },
  {
   "cell_type": "code",
   "execution_count": 19,
   "metadata": {},
   "outputs": [
    {
     "name": "stdout",
     "output_type": "stream",
     "text": [
      "7.21181353695 124.24425722234999\n"
     ]
    }
   ],
   "source": [
    "from shapely.geometry import box\n",
    "\n",
    "bounds = cotabato_aoi_geojson[0][0][1], cotabato_aoi_geojson[0][3][0], cotabato_aoi_geojson[0][2][1], cotabato_aoi_geojson[0][1][0]\n",
    "polygon = box(*bounds)\n",
    "\n",
    "print(polygon.centroid.x, polygon.centroid.y)"
   ]
  },
  {
   "cell_type": "code",
   "execution_count": 16,
   "metadata": {},
   "outputs": [
    {
     "data": {
      "text/plain": [
       "'Detect hotspots around Cotabato City, Maguindanao, Bangsamoro, Pilipinas / Philippines'"
      ]
     },
     "execution_count": 16,
     "metadata": {},
     "output_type": "execute_result"
    }
   ],
   "source": [
    "f\"Detect hotspots around {reverse_geocode_geojson(cotabato_aoi_geojson)}...\""
   ]
  },
  {
   "cell_type": "code",
   "execution_count": null,
   "metadata": {},
   "outputs": [],
   "source": [
    "%time satellite_df = get_satellite_measures_from_AOI(cotabato_aoi_geojson, 50)\n",
    "\n",
    "# satellite_df['labels'] = perform_clustering(satellite_df, n_clusters=3)\n",
    "\n",
    "# mapper = visualize_on_map(satellite_df)"
   ]
  },
  {
   "cell_type": "code",
   "execution_count": null,
   "metadata": {},
   "outputs": [],
   "source": [
    "satellite_df"
   ]
  },
  {
   "cell_type": "code",
   "execution_count": null,
   "metadata": {},
   "outputs": [],
   "source": [
    "rev_geocode_df = reverse_geocode_points(satellite_df)\n",
    "rev_geocode_df.head()"
   ]
  },
  {
   "cell_type": "code",
   "execution_count": null,
   "metadata": {},
   "outputs": [],
   "source": [
    "# mapper"
   ]
  },
  {
   "cell_type": "code",
   "execution_count": null,
   "metadata": {},
   "outputs": [],
   "source": [
    "%%time\n",
    "network = initialize_OSM_network(laguan_aoi_geojson)"
   ]
  },
  {
   "cell_type": "code",
   "execution_count": null,
   "metadata": {},
   "outputs": [],
   "source": [
    "%%time\n",
    "final_with_hospital_df, hospital_amenities_df, hospital_count_distance_df = get_OSM_network_data(network,\n",
    "                     satellite_df,\n",
    "                     aoi_geojson,\n",
    "                    ['clinic', 'hospital', 'doctors'],\n",
    "                    5,\n",
    "                    5000,\n",
    "                    show_viz=True)"
   ]
  },
  {
   "cell_type": "code",
   "execution_count": null,
   "metadata": {},
   "outputs": [],
   "source": [
    "%%time\n",
    "final_with_hospital_with_water_df, hospital_with_water_amenities_df, hospital_with_water_count_distance_df = get_OSM_network_data(network,\n",
    "                     final_with_hospital_df,\n",
    "                     aoi_geojson,\n",
    "                    ['toilets', 'water_point'],\n",
    "                    5,\n",
    "                    5000,\n",
    "                    show_viz=True)"
   ]
  },
  {
   "cell_type": "code",
   "execution_count": null,
   "metadata": {},
   "outputs": [],
   "source": [
    "hospital_with_water_amenities_df.head()"
   ]
  },
  {
   "cell_type": "code",
   "execution_count": null,
   "metadata": {},
   "outputs": [],
   "source": [
    "hospital_with_water_amenities_df"
   ]
  },
  {
   "cell_type": "markdown",
   "metadata": {},
   "source": [
    "Demo:  \n",
    "    - Quezon City  \n",
    "    - cotabato city  \n",
    "    - batangas city  \n",
    "    - bacolod city  \n",
    "    - butuan city  "
   ]
  },
  {
   "cell_type": "code",
   "execution_count": 21,
   "metadata": {},
   "outputs": [],
   "source": [
    "from geopy.geocoders import Nominatim\n",
    "geolocator = Nominatim(user_agent=\"ssampe\")"
   ]
  },
  {
   "cell_type": "code",
   "execution_count": null,
   "metadata": {},
   "outputs": [],
   "source": [
    "\", \".join([str(i) for i in cotabato_aoi_geojson[0][0]][::-1])"
   ]
  },
  {
   "cell_type": "code",
   "execution_count": null,
   "metadata": {},
   "outputs": [],
   "source": [
    "help(geolocator.reverse)"
   ]
  },
  {
   "cell_type": "code",
   "execution_count": null,
   "metadata": {},
   "outputs": [],
   "source": [
    "reverse_geocode = geolocator.reverse(\", \".join([str(i) for i in cotabato_aoi_geojson[0][1]][::-1]))\n",
    "reverse_geocode"
   ]
  },
  {
   "cell_type": "code",
   "execution_count": null,
   "metadata": {},
   "outputs": [],
   "source": [
    "Aroundreverse_geocode.address"
   ]
  },
  {
   "cell_type": "code",
   "execution_count": null,
   "metadata": {},
   "outputs": [],
   "source": [
    "pd.json_normalize(reverse_geocode.raw)"
   ]
  },
  {
   "cell_type": "code",
   "execution_count": null,
   "metadata": {},
   "outputs": [],
   "source": [
    "from shapely.geometry import box\n",
    "\n",
    "bounds = (-1.3187316344406208, 50.607041876988994, 1.5737316344406207, 52.40735812301099)\n",
    "polygon = box(*bounds)\n",
    "\n",
    "print(polygon.centroid.x, polygon.centroid.y)"
   ]
  },
  {
   "cell_type": "markdown",
   "metadata": {},
   "source": [
    "### Social Listening"
   ]
  },
  {
   "cell_type": "code",
   "execution_count": null,
   "metadata": {},
   "outputs": [],
   "source": [
    "from shapely.geometry import box\n",
    "\n",
    "bounds = cotabato_aoi_geojson[0][0][1], cotabato_aoi_geojson[0][3][0], cotabato_aoi_geojson[0][2][1], cotabato_aoi_geojson[0][1][0]\n",
    "polygon = box(*bounds)\n",
    "\n"
   ]
  },
  {
   "cell_type": "code",
   "execution_count": 23,
   "metadata": {},
   "outputs": [
    {
     "data": {
      "text/plain": [
       "Location(Kutang Bato Masonic Temple, Sinsuat Avenue, Ngo Compound, Poblacion Ⅶ, Cotabato City, Bangsamoro, 9605, Pilipinas / Philippines, (7.2113476, 124.2443054, 0.0))"
      ]
     },
     "execution_count": 23,
     "metadata": {},
     "output_type": "execute_result"
    }
   ],
   "source": [
    "geolocator.reverse(\", \".join([str(i) for i in [polygon.centroid.x, polygon.centroid.y]]))"
   ]
  },
  {
   "cell_type": "code",
   "execution_count": 29,
   "metadata": {},
   "outputs": [
    {
     "data": {
      "text/plain": [
       "'Punta, Rizal, Calabarzon, Pilipinas / Philippines'"
      ]
     },
     "execution_count": 29,
     "metadata": {},
     "output_type": "execute_result"
    }
   ],
   "source": [
    "reverse_geocode_center_of_geojson(laguan_aoi_geojson)"
   ]
  },
  {
   "cell_type": "code",
   "execution_count": null,
   "metadata": {},
   "outputs": [],
   "source": []
  }
 ],
 "metadata": {
  "kernelspec": {
   "display_name": "Python 3",
   "language": "python",
   "name": "python3"
  },
  "language_info": {
   "codemirror_mode": {
    "name": "ipython",
    "version": 3
   },
   "file_extension": ".py",
   "mimetype": "text/x-python",
   "name": "python",
   "nbconvert_exporter": "python",
   "pygments_lexer": "ipython3",
   "version": "3.8.5"
  }
 },
 "nbformat": 4,
 "nbformat_minor": 4
}
