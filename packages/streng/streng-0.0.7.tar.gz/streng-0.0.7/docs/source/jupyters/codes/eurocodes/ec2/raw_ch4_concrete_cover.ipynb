{
 "cells": [
  {
   "cell_type": "markdown",
   "metadata": {},
   "source": [
    "#  Eurocode 2 - Chapter 4 - Concrete cover\n",
    "\n",
    "raw functions"
   ]
  },
  {
   "cell_type": "code",
   "execution_count": 1,
   "metadata": {},
   "outputs": [],
   "source": [
    "from streng.codes.eurocodes.ec2.raw.ch4 import concrete_cover"
   ]
  },
  {
   "cell_type": "markdown",
   "metadata": {},
   "source": [
    "## cmindur"
   ]
  },
  {
   "cell_type": "code",
   "execution_count": 2,
   "metadata": {},
   "outputs": [
    {
     "name": "stdout",
     "output_type": "stream",
     "text": [
      "\n",
      "    Minimum cover cmin,dur with regard to durability for reinforcement steel\n",
      "\n",
      "    +----------------+----+-----+---------+-----+---------+---------+---------+\n",
      "    | Struct. Class  | X0 | XC1 | XC2/XC3 | XC4 | XD1/XS1 | XD2/XS2 | XD3/XS3 |\n",
      "    +================+====+=====+=========+=====+=========+=========+=========+\n",
      "    | S1             | 10 |  10 |    10   | 15  |   20    |   25    |   30    |\n",
      "    +----------------+----+-----+---------+-----+---------+---------+---------+\n",
      "    | S2             | 10 |  10 |    15   | 20  |   25    |   30    |   35    |\n",
      "    +----------------+----+-----+---------+-----+---------+---------+---------+\n",
      "    | S3             | 10 |  10 |    20   | 25  |   30    |   35    |   40    |\n",
      "    +----------------+----+-----+---------+-----+---------+---------+---------+\n",
      "    | S4             | 10 |  15 |    25   | 30  |   35    |   40    |   45    |\n",
      "    +----------------+----+-----+---------+-----+---------+---------+---------+\n",
      "    | S5             | 15 |  20 |    30   | 35  |   40    |   45    |   50    |\n",
      "    +----------------+----+-----+---------+-----+---------+---------+---------+\n",
      "    | S6             | 20 |  25 |    35   | 40  |   45    |   50    |   55    |\n",
      "    +----------------+----+-----+---------+-----+---------+---------+---------+\n",
      "\n",
      "    Args:\n",
      "        cat (str): Structural Class\n",
      "        env (str): Exposure Class\n",
      "\n",
      "    Returns:\n",
      "        int: Taken from the table above\n",
      "\n",
      "    \n"
     ]
    }
   ],
   "source": [
    "print(concrete_cover.cmindur.__doc__)"
   ]
  },
  {
   "cell_type": "code",
   "execution_count": 3,
   "metadata": {},
   "outputs": [
    {
     "name": "stdout",
     "output_type": "stream",
     "text": [
      "cmindur = 30mm\n"
     ]
    }
   ],
   "source": [
    "cmindur = concrete_cover.cmindur(cat = 'S3', env = 'XS1')\n",
    "print(f'cmindur = {cmindur}mm')"
   ]
  }
 ],
 "metadata": {
  "kernel_info": {
   "name": "python3"
  },
  "kernelspec": {
   "display_name": "Python 3",
   "language": "python",
   "name": "python3"
  },
  "language_info": {
   "codemirror_mode": {
    "name": "ipython",
    "version": 3
   },
   "file_extension": ".py",
   "mimetype": "text/x-python",
   "name": "python",
   "nbconvert_exporter": "python",
   "pygments_lexer": "ipython3",
   "version": "3.7.7"
  },
  "nteract": {
   "version": "0.11.9"
  },
  "toc": {
   "nav_menu": {},
   "number_sections": true,
   "sideBar": true,
   "skip_h1_title": false,
   "toc_cell": false,
   "toc_position": {},
   "toc_section_display": "block",
   "toc_window_display": false
  }
 },
 "nbformat": 4,
 "nbformat_minor": 4
}
