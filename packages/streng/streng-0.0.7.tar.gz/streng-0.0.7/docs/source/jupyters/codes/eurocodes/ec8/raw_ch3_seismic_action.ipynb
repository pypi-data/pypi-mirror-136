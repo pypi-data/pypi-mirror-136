{
 "cells": [
  {
   "cell_type": "markdown",
   "metadata": {},
   "source": [
    "# Eurocode 8 - Chapter 3 - seismic_action\n",
    "\n",
    "raw functions"
   ]
  },
  {
   "cell_type": "code",
   "execution_count": 1,
   "metadata": {},
   "outputs": [],
   "source": [
    "from streng.codes.eurocodes.ec8.raw.ch3.seismic_action import spectra"
   ]
  },
  {
   "cell_type": "markdown",
   "metadata": {},
   "source": [
    "## spectra"
   ]
  },
  {
   "cell_type": "markdown",
   "metadata": {},
   "source": [
    "### αg"
   ]
  },
  {
   "cell_type": "code",
   "execution_count": 2,
   "metadata": {},
   "outputs": [
    {
     "name": "stdout",
     "output_type": "stream",
     "text": [
      "\n",
      "\n",
      "    Args:\n",
      "        αgR (float): reference peak ground acceleration on type A ground\n",
      "        γI: (float): importance factor\n",
      "\n",
      "    Returns:\n",
      "        float: design ground acceleration on type A ground\n",
      "\n",
      "    \n"
     ]
    }
   ],
   "source": [
    "print(spectra.αg.__doc__)"
   ]
  },
  {
   "cell_type": "code",
   "execution_count": 3,
   "metadata": {},
   "outputs": [
    {
     "name": "stdout",
     "output_type": "stream",
     "text": [
      "αg = 0.288g\n"
     ]
    }
   ],
   "source": [
    "αg = spectra.αg(αgR=0.24,\n",
    "                γI=1.20)\n",
    "print(f'αg = {αg}g')"
   ]
  },
  {
   "cell_type": "markdown",
   "metadata": {},
   "source": [
    "### S"
   ]
  },
  {
   "cell_type": "code",
   "execution_count": 4,
   "metadata": {},
   "outputs": [
    {
     "name": "stdout",
     "output_type": "stream",
     "text": [
      "\n",
      "\n",
      "    Args:\n",
      "        ground_type (str): Ground type (A, B, C, D or E)\n",
      "        spectrum_type (int): Spectrum type 1 or 2\n",
      "\n",
      "    Returns:\n",
      "        float: soil factor\n",
      "\n",
      "    \n"
     ]
    }
   ],
   "source": [
    "print(spectra.S.__doc__)"
   ]
  },
  {
   "cell_type": "code",
   "execution_count": 5,
   "metadata": {},
   "outputs": [
    {
     "name": "stdout",
     "output_type": "stream",
     "text": [
      "S = 1.2\n"
     ]
    }
   ],
   "source": [
    "S = spectra.S(ground_type='B',\n",
    "             spectrum_type=1)\n",
    "print(f'S = {S}')"
   ]
  },
  {
   "cell_type": "markdown",
   "metadata": {},
   "source": [
    "### TB"
   ]
  },
  {
   "cell_type": "code",
   "execution_count": 6,
   "metadata": {},
   "outputs": [
    {
     "name": "stdout",
     "output_type": "stream",
     "text": [
      "\n",
      "\n",
      "    Args:\n",
      "        ground_type (str): Ground type (A, B, C, D or E)\n",
      "        spectrum_type (int): Spectrum type 1 or 2\n",
      "\n",
      "    Returns:\n",
      "        float: The lower limit of the period of the constant spectral acceleration branch\n",
      "\n",
      "    \n"
     ]
    }
   ],
   "source": [
    "print(spectra.TB.__doc__)"
   ]
  },
  {
   "cell_type": "code",
   "execution_count": 7,
   "metadata": {},
   "outputs": [
    {
     "name": "stdout",
     "output_type": "stream",
     "text": [
      "TB = 0.15\n"
     ]
    }
   ],
   "source": [
    "TB = spectra.TB(ground_type='B',\n",
    "             spectrum_type=1)\n",
    "print(f'TB = {TB}')"
   ]
  },
  {
   "cell_type": "markdown",
   "metadata": {},
   "source": [
    "### TC"
   ]
  },
  {
   "cell_type": "code",
   "execution_count": 8,
   "metadata": {},
   "outputs": [
    {
     "name": "stdout",
     "output_type": "stream",
     "text": [
      "\n",
      "\n",
      "    Args:\n",
      "        ground_type (str): Ground type (A, B, C, D or E)\n",
      "        spectrum_type (int): Spectrum type 1 or 2\n",
      "\n",
      "    Returns:\n",
      "        float: The upper limit of the period of the constant spectral acceleration branch\n",
      "\n",
      "    \n"
     ]
    }
   ],
   "source": [
    "print(spectra.TC.__doc__)"
   ]
  },
  {
   "cell_type": "code",
   "execution_count": 9,
   "metadata": {},
   "outputs": [
    {
     "name": "stdout",
     "output_type": "stream",
     "text": [
      "TC = 0.5\n"
     ]
    }
   ],
   "source": [
    "TC = spectra.TC(ground_type='B',\n",
    "             spectrum_type=1)\n",
    "print(f'TC = {TC}')"
   ]
  },
  {
   "cell_type": "markdown",
   "metadata": {},
   "source": [
    "### TD"
   ]
  },
  {
   "cell_type": "code",
   "execution_count": 10,
   "metadata": {},
   "outputs": [
    {
     "name": "stdout",
     "output_type": "stream",
     "text": [
      "\n",
      "\n",
      "    Args:\n",
      "        ground_type (str): Ground type (A, B, C, D or E)\n",
      "        spectrum_type (int): Spectrum type 1 or 2\n",
      "        national_annex (str): Country national annex. Options are: 'default', 'greek'\n",
      "\n",
      "    Returns:\n",
      "        float: The value defining the beginning of the constant displacement response range of the spectrum\n",
      "\n",
      "    \n"
     ]
    }
   ],
   "source": [
    "print(spectra.TD.__doc__)"
   ]
  },
  {
   "cell_type": "code",
   "execution_count": 11,
   "metadata": {},
   "outputs": [
    {
     "name": "stdout",
     "output_type": "stream",
     "text": [
      "TD = 2.0\n"
     ]
    }
   ],
   "source": [
    "TD = spectra.TD(ground_type='B',\n",
    "             spectrum_type=1)\n",
    "print(f'TD = {TD}')"
   ]
  },
  {
   "cell_type": "markdown",
   "metadata": {},
   "source": [
    "### Se"
   ]
  },
  {
   "cell_type": "code",
   "execution_count": 12,
   "metadata": {},
   "outputs": [
    {
     "name": "stdout",
     "output_type": "stream",
     "text": [
      "\n",
      "\n",
      "    Args:\n",
      "        T (float): The vibration period of a linear single-degree-of-freedom system\n",
      "        αg (float): The design ground acceleration on type A ground (ag = γI*agR)\n",
      "        S (float): The soil factor\n",
      "        TB (float): The lower limit of the period of the constant spectral acceleration branch\n",
      "        TC (float): The upper limit of the period of the constant spectral acceleration branch\n",
      "        TD (float): The value defining the beginning of the constant displacement response range of the spectrum\n",
      "        η (float): The damping correction factor with a reference value of η = 1 for 5% viscous damping\n",
      "\n",
      "    Returns:\n",
      "        float: The elastic acceleration response spectrum. Given using the expressions:\n",
      "\n",
      "        .. math::\n",
      "            :nowrap:\n",
      "\n",
      "            \\begin{eqnarray}\n",
      "                0 \\le T \\le T_B \\rightarrow & S_e(T) & = α_g\\cdot S \\cdot (1+\\dfrac{T}{T_B}\\cdot(η\\cdot 2.5 -1)) \\\\\n",
      "                T_B \\le T \\le T_C \\rightarrow & S_e(T) & = α_g\\cdot S \\cdot η\\cdot 2.5 \\\\\n",
      "                T_C \\le T \\le T_D \\rightarrow & S_e(T) & = α_g\\cdot S \\cdot η\\cdot 2.5\\cdot \\dfrac{T_C}{T} \\\\\n",
      "                T_D \\le T \\le 4s \\rightarrow & S_e(T) & = α_g\\cdot S \\cdot η\\cdot 2.5\\cdot \\dfrac{T_C\\cdot T_D}{T^2}\n",
      "            \\end{eqnarray}\n",
      "\n",
      "    \n"
     ]
    }
   ],
   "source": [
    "print(spectra.Se.__doc__)"
   ]
  },
  {
   "cell_type": "code",
   "execution_count": 13,
   "metadata": {},
   "outputs": [
    {
     "name": "stdout",
     "output_type": "stream",
     "text": [
      "Se = 0.72g\n"
     ]
    }
   ],
   "source": [
    "Se = spectra.Se(T=0.50,\n",
    "               αg = 0.24,\n",
    "               S=1.20,\n",
    "               TB=0.15,\n",
    "               TC=0.50,\n",
    "               TD=2.0,\n",
    "               η=1.0)\n",
    "print(f'Se = {Se}g')"
   ]
  },
  {
   "cell_type": "markdown",
   "metadata": {},
   "source": [
    "### SDe"
   ]
  },
  {
   "cell_type": "code",
   "execution_count": 14,
   "metadata": {},
   "outputs": [
    {
     "name": "stdout",
     "output_type": "stream",
     "text": [
      "\n",
      "\n",
      "    Args:\n",
      "        T (float): The vibration period of a linear single-degree-of-freedom system\n",
      "        Se (float):The elastic acceleration response spectrum\n",
      "\n",
      "    Returns:\n",
      "        float: The elastic displacement response spectrum. Given using the expression:\n",
      "\n",
      "        .. math::\n",
      "            S_{De}=S_e(T)\\cdot(\\dfrac{T}{2π})^2\n",
      "\n",
      "    \n"
     ]
    }
   ],
   "source": [
    "print(spectra.SDe.__doc__)"
   ]
  },
  {
   "cell_type": "code",
   "execution_count": 15,
   "metadata": {},
   "outputs": [
    {
     "name": "stdout",
     "output_type": "stream",
     "text": [
      "Sde = 0.045m\n"
     ]
    }
   ],
   "source": [
    "Sde = spectra.SDe(T=0.5,\n",
    "                 Se=0.72*9.81)\n",
    "print(f'Sde = {Sde:.3f}m')"
   ]
  },
  {
   "cell_type": "markdown",
   "metadata": {},
   "source": [
    "### dg"
   ]
  },
  {
   "cell_type": "code",
   "execution_count": 16,
   "metadata": {},
   "outputs": [
    {
     "name": "stdout",
     "output_type": "stream",
     "text": [
      "\n",
      "\n",
      "    Args:\n",
      "        αg (float): The design ground acceleration on type A ground (ag = γI*agR)\n",
      "        S (float): The soil factor\n",
      "        TC (float): The upper limit of the period of the constant spectral acceleration branch\n",
      "        TD (float): The value defining the beginning of the constant displacement response range of the spectrum\n",
      "\n",
      "    Returns:\n",
      "        float: Design ground displacement. Given using the expression:\n",
      "\n",
      "         .. math::\n",
      "            d_{g}=0.025\\cdot α_g \\cdot S \\cdot T_C  \\cdot T_D\n",
      "\n",
      "    \n"
     ]
    }
   ],
   "source": [
    "print(spectra.dg.__doc__)"
   ]
  },
  {
   "cell_type": "code",
   "execution_count": 17,
   "metadata": {},
   "outputs": [
    {
     "name": "stdout",
     "output_type": "stream",
     "text": [
      "dg = 0.0072g\n"
     ]
    }
   ],
   "source": [
    "dg = spectra.dg(αg=0.24,\n",
    "               S=1.20,\n",
    "               TC=0.50,\n",
    "               TD=2.0)\n",
    "print(f'dg = {dg:.4f}g')"
   ]
  },
  {
   "cell_type": "markdown",
   "metadata": {},
   "source": [
    "### Sd"
   ]
  },
  {
   "cell_type": "code",
   "execution_count": 18,
   "metadata": {},
   "outputs": [
    {
     "name": "stdout",
     "output_type": "stream",
     "text": [
      "\n",
      "\n",
      "    Args:\n",
      "        T (float): The vibration period of a linear single-degree-of-freedom system\n",
      "        αg (float): The design ground acceleration on type A ground (ag = γI*agR)\n",
      "        S (float): The soil factor\n",
      "        TB (float): The lower limit of the period of the constant spectral acceleration branch\n",
      "        TC (float): The upper limit of the period of the constant spectral acceleration branch\n",
      "        TD (float): The value defining the beginning of the constant displacement response range of the spectrum\n",
      "        q (float): The behaviour factor\n",
      "        β (float): The lower bound factor for the horizontal design spectrum. Recommended value for β is 0.2\n",
      "\n",
      "    Returns:\n",
      "        float: Design spectrum for elastic analyses. Given using the expressions:\n",
      "\n",
      "        .. math::\n",
      "            :nowrap:\n",
      "\n",
      "            \\begin{eqnarray}\n",
      "                0 \\le T \\le T_B \\rightarrow & S_d(T) & = α_g\\cdot S \\cdot (\\dfrac{2}{3}+\\dfrac{T}{T_B}\\cdot(\\dfrac{2.5}{q} - \\dfrac{2}{3})) \\\\\n",
      "                T_B \\le T \\le T_C \\rightarrow & S_d(T) & = α_g\\cdot S \\cdot \\dfrac{2.5}{q} \\\\\n",
      "                T_C \\le T \\le T_D \\rightarrow & S_d(T) & = α_g\\cdot S \\cdot \\dfrac{2.5}{q} \\cdot \\dfrac{T_C}{T} \\ge β \\cdot α_g \\\\\n",
      "                T_D \\le T \\le 4s \\rightarrow & S_d(T) & = α_g\\cdot S \\cdot \\dfrac{2.5}{q} \\cdot \\dfrac{T_C\\cdot T_D}{T^2} \\ge β \\cdot α_g\n",
      "            \\end{eqnarray}\n",
      "\n",
      "    \n"
     ]
    }
   ],
   "source": [
    "print(spectra.Sd.__doc__)"
   ]
  },
  {
   "cell_type": "code",
   "execution_count": 19,
   "metadata": {},
   "outputs": [
    {
     "name": "stdout",
     "output_type": "stream",
     "text": [
      "Sd = 0.185g\n"
     ]
    }
   ],
   "source": [
    "Sd = spectra.Sd(T=0.50,\n",
    "               αg = 0.24,\n",
    "               S=1.20,\n",
    "               TB=0.15,\n",
    "               TC=0.50,\n",
    "               TD=2.0,\n",
    "               q=3.9,\n",
    "               β=0.20)\n",
    "print(f'Sd = {Sd:.3f}g')"
   ]
  },
  {
   "cell_type": "markdown",
   "metadata": {},
   "source": [
    "### η"
   ]
  },
  {
   "cell_type": "code",
   "execution_count": 20,
   "metadata": {},
   "outputs": [
    {
     "name": "stdout",
     "output_type": "stream",
     "text": [
      "\n",
      "\n",
      "    Args:\n",
      "        ξ (float): the viscous damping ratio of the structure[%]\n",
      "\n",
      "    Returns:\n",
      "        float: The value of the damping correction factor. Given using the expressions:\n",
      "\n",
      "        .. math::\n",
      "            η = \\sqrt{\\dfrac{10}{5+ξ}} \\ge 0.55\n",
      "    \n"
     ]
    }
   ],
   "source": [
    "print(spectra.η.__doc__)"
   ]
  },
  {
   "cell_type": "code",
   "execution_count": 21,
   "metadata": {},
   "outputs": [
    {
     "name": "stdout",
     "output_type": "stream",
     "text": [
      "η(5%) = 1.00\n",
      "η(7%) = 0.91\n"
     ]
    }
   ],
   "source": [
    "η_5 = spectra.η(5)\n",
    "print(f'η(5%) = {η_5:.2f}')\n",
    "\n",
    "η_7 = spectra.η(7)\n",
    "print(f'η(7%) = {η_7:.2f}')"
   ]
  }
 ],
 "metadata": {
  "kernel_info": {
   "name": "python3"
  },
  "kernelspec": {
   "display_name": "Python 3",
   "language": "python",
   "name": "python3"
  },
  "language_info": {
   "codemirror_mode": {
    "name": "ipython",
    "version": 3
   },
   "file_extension": ".py",
   "mimetype": "text/x-python",
   "name": "python",
   "nbconvert_exporter": "python",
   "pygments_lexer": "ipython3",
   "version": "3.7.7"
  },
  "nteract": {
   "version": "0.11.9"
  },
  "toc": {
   "nav_menu": {},
   "number_sections": true,
   "sideBar": true,
   "skip_h1_title": false,
   "toc_cell": false,
   "toc_position": {},
   "toc_section_display": "block",
   "toc_window_display": false
  }
 },
 "nbformat": 4,
 "nbformat_minor": 4
}
