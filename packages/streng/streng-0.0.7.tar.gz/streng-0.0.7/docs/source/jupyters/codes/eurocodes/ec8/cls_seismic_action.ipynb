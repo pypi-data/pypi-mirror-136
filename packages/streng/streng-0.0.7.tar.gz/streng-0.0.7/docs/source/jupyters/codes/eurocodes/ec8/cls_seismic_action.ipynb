{
 "cells": [
  {
   "cell_type": "markdown",
   "metadata": {},
   "source": [
    "# Eurocode 8 - Seismic Action - Spectra"
   ]
  },
  {
   "cell_type": "code",
   "execution_count": 1,
   "metadata": {},
   "outputs": [],
   "source": [
    "from streng.codes.eurocodes.ec8.cls.seismic_action.spectra import SpectraEc8\n",
    "import matplotlib\n",
    "import matplotlib.pyplot as plt\n",
    "import numpy as np\n",
    "import math"
   ]
  },
  {
   "cell_type": "code",
   "execution_count": 2,
   "metadata": {},
   "outputs": [
    {
     "name": "stdout",
     "output_type": "stream",
     "text": [
      "Eurocode 8 response spectra\n",
      "\n",
      "    .. note::\n",
      "        If αgR values are given in g, displacements and velocities should be multiplied with 9.81\n",
      "\n",
      "    .. uml::\n",
      "\n",
      "        class SpectraEc8 {\n",
      "        .. attributes ..\n",
      "        + αgR (float)\n",
      "        + γI (float)\n",
      "        + ground_type (str)\n",
      "        + spectrum_type (int)\n",
      "        + η (float)\n",
      "        + q (float)\n",
      "        + β (float)\n",
      "        .. properties ..\n",
      "        + dg()\n",
      "        + getAllSpectra0to4()\n",
      "        .. methods ..\n",
      "        + Se(T) (float)\n",
      "        + SDe(T) (float)\n",
      "        + Sd(T) (float)\n",
      "        }\n",
      "\n",
      "    Attributes:\n",
      "        αgR (float): reference peak ground acceleration on type A ground\n",
      "        γI (float): importance factor\n",
      "        ground_type (str): Ground type (A, B, C, D or E)\n",
      "        spectrum_type (int): Spectrum type 1 or 2\n",
      "        η (float): value of the damping correction factor\n",
      "        q (float): behaviour factor\n",
      "        β (float): lower bound factor for the horizontal design spectrum. Recommended value for β is 0.2\n",
      "\n",
      "    \n"
     ]
    }
   ],
   "source": [
    "print(SpectraEc8.__doc__)"
   ]
  },
  {
   "cell_type": "code",
   "execution_count": 3,
   "metadata": {},
   "outputs": [
    {
     "name": "stdout",
     "output_type": "stream",
     "text": [
      "\n",
      "        Args:\n",
      "            T(float): Period\n",
      "\n",
      "        Returns:\n",
      "            float: The elastic acceleration response spectrum\n",
      "\n",
      "        \n"
     ]
    }
   ],
   "source": [
    "print(SpectraEc8.Se.__doc__)"
   ]
  },
  {
   "cell_type": "markdown",
   "metadata": {},
   "source": [
    "## Δεδομένα φάσματος"
   ]
  },
  {
   "cell_type": "code",
   "execution_count": 4,
   "metadata": {},
   "outputs": [],
   "source": [
    "specEC8 = SpectraEc8(αgR=0.24,\n",
    "                     γI=1.2,\n",
    "                     ground_type = 'D',\n",
    "                     spectrum_type = 1,\n",
    "                     η=1.0,\n",
    "                     q=3.9,\n",
    "                     β=0.2)"
   ]
  },
  {
   "cell_type": "markdown",
   "metadata": {},
   "source": [
    "## Elastic spectrum\n",
    "\n",
    "Δεν πειράζει αν βάλω τιμή στο q. Δεν τη λαμβάνει υπόψη."
   ]
  },
  {
   "cell_type": "code",
   "execution_count": 5,
   "metadata": {},
   "outputs": [
    {
     "data": {
      "image/png": "[encoded data removed]",
      "text/plain": [
       "<Figure size 432x288 with 1 Axes>"
      ]
     },
     "metadata": {
      "needs_background": "light"
     },
     "output_type": "display_data"
    }
   ],
   "source": [
    "x = np.linspace(1e-10, 4, 401) # Δε βάζω από το 0 για να μην προκύπτει μήνυμα λάθους όταν διαιρεί με το T\n",
    "y = specEC8.Se(x)\n",
    "\n",
    "plt.plot(x, y, lw=2, label='Elastic spectrum')\n",
    "plt.axis([0, 4, 0, 1.2 * y.max()])\n",
    "plt.ylabel('$S_{e}$ (g)') \n",
    "plt.xlabel('$T$ (sec)') #'μθpl'  \n",
    "plt.title('EC8 elastic spectrum')\n",
    "plt.legend()\n",
    "plt.show()"
   ]
  },
  {
   "cell_type": "markdown",
   "metadata": {},
   "source": [
    "## Elastic displacement spectrum"
   ]
  },
  {
   "cell_type": "code",
   "execution_count": 6,
   "metadata": {},
   "outputs": [
    {
     "data": {
      "image/png": "[encoded data removed]",
      "text/plain": [
       "<Figure size 432x288 with 1 Axes>"
      ]
     },
     "metadata": {
      "needs_background": "light"
     },
     "output_type": "display_data"
    }
   ],
   "source": [
    "y = specEC8.SDe(x)*9.81 \n",
    "plt.plot(x, y, lw=2)\n",
    "plt.axis([0, 4, 0, 1.2 * y.max()])\n",
    "plt.ylabel('$S_{De}$') \n",
    "plt.xlabel('T (sec)') #'μθpl'  \n",
    "plt.title('EC8 elastic displacement spectrum')\n",
    "plt.show()"
   ]
  },
  {
   "cell_type": "markdown",
   "metadata": {},
   "source": [
    "## Design ground displacement"
   ]
  },
  {
   "cell_type": "code",
   "execution_count": 7,
   "metadata": {},
   "outputs": [
    {
     "ename": "TypeError",
     "evalue": "'float' object is not callable",
     "output_type": "error",
     "traceback": [
      "\u001b[1;31m---------------------------------------------------------------------------\u001b[0m",
      "\u001b[1;31mTypeError\u001b[0m                                 Traceback (most recent call last)",
      "\u001b[1;32m<ipython-input-7-c95d74de0216>\u001b[0m in \u001b[0;36m<module>\u001b[1;34m\u001b[0m\n\u001b[1;32m----> 1\u001b[1;33m \u001b[0mprint\u001b[0m\u001b[1;33m(\u001b[0m\u001b[1;34mf'Design ground displacement, dg={9.81*specEC8.dg():.3f}m'\u001b[0m\u001b[1;33m)\u001b[0m\u001b[1;33m\u001b[0m\u001b[1;33m\u001b[0m\u001b[0m\n\u001b[0m",
      "\u001b[1;31mTypeError\u001b[0m: 'float' object is not callable"
     ]
    }
   ],
   "source": [
    "print(f'Design ground displacement, dg={9.81*specEC8.dg():.3f}m')"
   ]
  },
  {
   "cell_type": "markdown",
   "metadata": {},
   "source": [
    "## Design spectrum"
   ]
  },
  {
   "cell_type": "code",
   "execution_count": null,
   "metadata": {},
   "outputs": [],
   "source": [
    "y = specEC8.Sd(x)\n",
    "\n",
    "plt.plot(x, y, lw=2)\n",
    "plt.axis([0, 4, 0, 1.2 * y.max()])\n",
    "plt.ylabel('$S_{d}$ (g)') \n",
    "plt.xlabel('$T$ (sec)') #'μθpl'  \n",
    "plt.title('EC8 design spectrum')\n",
    "plt.show()"
   ]
  }
 ],
 "metadata": {
  "kernel_info": {
   "name": "python3"
  },
  "kernelspec": {
   "display_name": "Python 3",
   "language": "python",
   "name": "python3"
  },
  "language_info": {
   "codemirror_mode": {
    "name": "ipython",
    "version": 3
   },
   "file_extension": ".py",
   "mimetype": "text/x-python",
   "name": "python",
   "nbconvert_exporter": "python",
   "pygments_lexer": "ipython3",
   "version": "3.7.7"
  },
  "nteract": {
   "version": "0.11.9"
  },
  "toc": {
   "nav_menu": {},
   "number_sections": true,
   "sideBar": true,
   "skip_h1_title": false,
   "toc_cell": false,
   "toc_position": {},
   "toc_section_display": "block",
   "toc_window_display": false
  }
 },
 "nbformat": 4,
 "nbformat_minor": 4
}
