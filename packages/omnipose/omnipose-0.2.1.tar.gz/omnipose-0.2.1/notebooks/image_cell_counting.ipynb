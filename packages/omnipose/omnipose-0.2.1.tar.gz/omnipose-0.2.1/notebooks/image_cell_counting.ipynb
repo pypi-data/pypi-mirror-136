{
 "cells": [
  {
   "cell_type": "markdown",
   "id": "e2a239d5-30c1-4dd6-b9db-04a1c2e1b61a",
   "metadata": {},
   "source": [
    "# Table S1\n",
    "How many cells are in the raw datasets"
   ]
  },
  {
   "cell_type": "code",
   "execution_count": 2,
   "id": "4795ed13-2c66-4b65-bdd4-285f41258433",
   "metadata": {},
   "outputs": [
    {
     "name": "stdout",
     "output_type": "stream",
     "text": [
      "The autoreload extension is already loaded. To reload it, use:\n",
      "  %reload_ext autoreload\n",
      "2021-10-27 21:07:07,074 [INFO] ** TORCH CUDA version installed and working. **\n",
      ">>> GPU activated? 1\n"
     ]
    }
   ],
   "source": [
    "%load_ext autoreload\n",
    "%autoreload 2\n",
    "\n",
    "import numpy as np\n",
    "import time, os, sys\n",
    "from urllib.parse import urlparse\n",
    "from cellpose import models, core, utils\n",
    "from pathlib import Path\n",
    "home = str(Path.home())\n",
    "\n",
    "import time, os, sys\n",
    "import skimage.io\n",
    "import matplotlib.pyplot as plt\n",
    "plt.style.use('dark_background')\n",
    "import matplotlib as mpl\n",
    "%matplotlib inline\n",
    "mpl.rcParams['figure.dpi'] = 300\n",
    "\n",
    "use_GPU = core.use_gpu()\n",
    "print('>>> GPU activated? %d'%use_GPU)"
   ]
  },
  {
   "cell_type": "code",
   "execution_count": 68,
   "id": "29180f0a-68be-4ff2-99d2-4c1a537302d1",
   "metadata": {},
   "outputs": [
    {
     "name": "stdout",
     "output_type": "stream",
     "text": [
      "4536 141\n"
     ]
    }
   ],
   "source": [
    "# 5I_crop data\n",
    "basedir = '/home/kcutler/DataDrive/5I_crop/xy5/masks'\n",
    "images = Path(basedir).glob(\"*.png\")\n",
    "files = [str(p) for p in images]\n",
    "masks_gt = [skimage.io.imread(f) for f in files]\n",
    "counts = [len(np.unique(m)) for m in masks_gt]\n",
    "total1 = np.sum(counts)\n",
    "nimg1 = len(files)\n",
    "print(total1,nimg1)"
   ]
  },
  {
   "cell_type": "code",
   "execution_count": 67,
   "id": "c0a97c9a-dc58-47ed-8636-d9686446587a",
   "metadata": {},
   "outputs": [],
   "source": [
    "# A22 data\n",
    "basedir = '/home/kcutler/DataDrive/a22/xytRegister'\n",
    "images = Path(basedir).glob(\"*c1.tif\")\n",
    "files = [str(p) for p in images]\n",
    "imgs = [skimage.io.imread(f) for f in files]\n",
    "nimg2 = len(files)"
   ]
  },
  {
   "cell_type": "code",
   "execution_count": null,
   "id": "5581c2c2-cc3a-46f0-a9d5-a3c99daf4e8b",
   "metadata": {},
   "outputs": [],
   "source": [
    "modeldir = '/home/kcutler/DataDrive/skelpose_train/registered/models/cellpose_residual_on_style_on_concatenation_off_registered_2021_09_26_14_51_45.587717_epoch_3951'\n",
    "skel = True\n",
    "rescale = False\n",
    "nclasses = 4\n",
    "model = models.CellposeModel(gpu=use_GPU, pretrained_model=modeldir, net_avg=False, nclasses=nclasses)\n",
    "nimg = len(imgs)\n",
    "n = range(nimg)\n",
    "dist_threshold = 0 ##############\n",
    "diam_threshold = 12\n",
    "cluster = 1\n",
    "verbose = 0\n",
    "chans = [0,0]\n",
    "\n",
    "masks, flows, styles = model.eval([imgs[i] for i in n],channels=chans,diameter=None,dist_threshold=dist_threshold,\n",
    "                                  flow_threshold=0,skel=skel,resample=False,verbose=verbose,diam_threshold=diam_threshold,cluster=cluster)"
   ]
  },
  {
   "cell_type": "code",
   "execution_count": 28,
   "id": "fc7622c8-4ee5-4300-89fa-6f4fe6a1f515",
   "metadata": {},
   "outputs": [],
   "source": [
    "from cellpose import io\n",
    "# io.save_masks(imgs, masks, flows, files, tif=True, save_flows=True, save_outlines=True, dir_above=True, in_folders=True, save_txt=False)"
   ]
  },
  {
   "cell_type": "code",
   "execution_count": null,
   "id": "e9360803-1448-45af-950b-4aaea5f1e56d",
   "metadata": {},
   "outputs": [],
   "source": [
    "counts = [len(np.unique(m)) for m in masks]\n",
    "total2 = np.sum(counts)"
   ]
  },
  {
   "cell_type": "code",
   "execution_count": 66,
   "id": "3baaf4f4-8f59-4131-b48b-6d80f8726b21",
   "metadata": {},
   "outputs": [],
   "source": [
    "# caulo data\n",
    "basedir = '/home/kcutler/DataDrive/caulobacter etc/exported'\n",
    "images = Path(basedir).glob(\"*C1.tif\")\n",
    "files = [str(p) for p in images]\n",
    "imgs = [skimage.io.imread(f) for f in files]\n",
    "nimg3 = len(files)\n",
    "# masks = Path(basedir).glob(\"*cp_masks.png\")\n",
    "# maskfiles = [str(p) for p in masks]\n",
    "# msks = [skimage.io.imread(f) for f in maskfiles]"
   ]
  },
  {
   "cell_type": "code",
   "execution_count": 53,
   "id": "0f28685d-8c00-498b-bbfa-8642137b188f",
   "metadata": {},
   "outputs": [
    {
     "name": "stdout",
     "output_type": "stream",
     "text": [
      "2021-09-27 16:21:16,697 [INFO] 0%|          | 0/4 [00:00<?, ?it/s]\n",
      ">>>>> RUNNING TILED\n",
      "2021-09-27 16:21:17,694 [INFO] 25%|##5       | 1/4 [00:00<00:02,  1.00it/s]\n",
      ">>>>> RUNNING TILED\n",
      "2021-09-27 16:21:19,054 [INFO] 50%|#####     | 2/4 [00:02<00:02,  1.21s/it]\n",
      ">>>>> RUNNING TILED\n",
      "2021-09-27 16:21:20,550 [INFO] 75%|#######5  | 3/4 [00:03<00:01,  1.34s/it]\n",
      ">>>>> RUNNING TILED\n",
      "2021-09-27 16:21:21,882 [INFO] 100%|##########| 4/4 [00:05<00:00,  1.34s/it]\n",
      "2021-09-27 16:21:21,882 [INFO] 100%|##########| 4/4 [00:05<00:00,  1.30s/it]\n"
     ]
    }
   ],
   "source": [
    "nimg = len(imgs)\n",
    "n = range(nimg)\n",
    "dist_threshold = -1\n",
    "masks, flows, styles = model.eval([imgs[i] for i in n],channels=chans,diameter=None,dist_threshold=dist_threshold,\n",
    "                                  flow_threshold=0,skel=skel,resample=False,verbose=verbose,diam_threshold=diam_threshold,cluster=cluster)"
   ]
  },
  {
   "cell_type": "code",
   "execution_count": 58,
   "id": "a9f98119-1646-4439-84b3-0b189623f6c5",
   "metadata": {},
   "outputs": [
    {
     "name": "stdout",
     "output_type": "stream",
     "text": [
      "1787\n"
     ]
    }
   ],
   "source": [
    "counts = [len(np.unique(m)) for m in masks]\n",
    "total3 = np.sum(counts)\n",
    "# io.save_masks(imgs, masks, flows, files, tif=True, save_flows=True, save_outlines=True, dir_above=False, in_folders=True, save_txt=False)\n",
    "print(total3)"
   ]
  },
  {
   "cell_type": "code",
   "execution_count": 64,
   "id": "b1e1578a-16d4-4513-be97-d432e98a9da4",
   "metadata": {},
   "outputs": [],
   "source": [
    "# cex data \n",
    "basedir = '/home/kcutler/DataDrive/cephalexin/f/multi/xytRegister/masks'\n",
    "images = Path(basedir).glob(\"*.png\")\n",
    "files = [str(p) for p in images]\n",
    "masks = [skimage.io.imread(f) for f in files]\n",
    "nimg4 = len(files)"
   ]
  },
  {
   "cell_type": "code",
   "execution_count": 65,
   "id": "04105b88-1e86-4e6f-b85b-02fe04d86820",
   "metadata": {},
   "outputs": [
    {
     "name": "stdout",
     "output_type": "stream",
     "text": [
      "4482 6\n"
     ]
    }
   ],
   "source": [
    "counts = [len(np.unique(m)) for m in masks]\n",
    "total4 = np.sum(counts)\n",
    "print(total4,nimg4)"
   ]
  },
  {
   "cell_type": "code",
   "execution_count": 71,
   "id": "6ba4089d-f9a3-4fc1-98d7-32ae7cf7761f",
   "metadata": {},
   "outputs": [],
   "source": [
    "# cex data 2 (e. coli, not s.flex)\n",
    "basedir = '/home/kcutler/DataDrive/cephalexin/e'\n",
    "images = Path(basedir).glob(\"*.tif\")\n",
    "files = [str(p) for p in images]\n",
    "imgs = [skimage.io.imread(f) for f in files]\n",
    "nimg5 = len(files)"
   ]
  },
  {
   "cell_type": "code",
   "execution_count": 73,
   "id": "a951c9fa-6862-4147-9bff-b4ccac014123",
   "metadata": {},
   "outputs": [
    {
     "name": "stdout",
     "output_type": "stream",
     "text": [
      "2021-09-27 16:38:50,080 [INFO] 0%|          | 0/2 [00:00<?, ?it/s]\n",
      ">>>>> RUNNING TILED\n",
      "2021-09-27 16:39:03,928 [INFO] 50%|#####     | 1/2 [00:13<00:13, 13.85s/it]\n",
      ">>>>> RUNNING TILED\n",
      "2021-09-27 16:39:37,547 [INFO] 100%|##########| 2/2 [00:47<00:00, 25.48s/it]\n",
      "2021-09-27 16:39:37,548 [INFO] 100%|##########| 2/2 [00:47<00:00, 23.73s/it]\n"
     ]
    }
   ],
   "source": [
    "nimg = len(imgs)\n",
    "n = range(nimg)\n",
    "dist_threshold = -1\n",
    "masks, flows, styles = model.eval([imgs[i] for i in n],channels=chans,diameter=None,dist_threshold=dist_threshold,\n",
    "                                  flow_threshold=0,skel=skel,resample=False,verbose=verbose,diam_threshold=diam_threshold,cluster=cluster)"
   ]
  },
  {
   "cell_type": "code",
   "execution_count": 75,
   "id": "0a4978df-43fe-40a0-9785-ebabe692092a",
   "metadata": {},
   "outputs": [
    {
     "name": "stdout",
     "output_type": "stream",
     "text": [
      "2277 2\n"
     ]
    }
   ],
   "source": [
    "# io.save_masks(imgs, masks, flows, files, tif=True, save_flows=True, save_outlines=True, dir_above=False, in_folders=True, save_txt=False)\n",
    "counts = [len(np.unique(m)) for m in masks]\n",
    "total5 = np.sum(counts)\n",
    "print(total5,nimg5)"
   ]
  },
  {
   "cell_type": "code",
   "execution_count": 78,
   "id": "dd1e7509-de2d-4f5f-8a06-9dd1657b8aaf",
   "metadata": {},
   "outputs": [],
   "source": [
    "# dnaA data\n",
    "basedir = '/home/kcutler/DataDrive/dnaA/'\n",
    "images = Path(basedir).rglob(\"*cp_masks.png\")\n",
    "files = [str(p) for p in images]\n",
    "masks = [skimage.io.imread(f) for f in files]\n",
    "nimg6 = len(files)"
   ]
  },
  {
   "cell_type": "code",
   "execution_count": 80,
   "id": "6ea2720b-371f-4fa6-bfe0-4d2bde85c928",
   "metadata": {},
   "outputs": [
    {
     "name": "stdout",
     "output_type": "stream",
     "text": [
      "10013 540\n"
     ]
    }
   ],
   "source": [
    "counts = [len(np.unique(m)) for m in masks]\n",
    "total6 = np.sum(counts)\n",
    "print(total6,nimg6)"
   ]
  },
  {
   "cell_type": "code",
   "execution_count": 81,
   "id": "4d3df090-164b-4fef-9e61-888cc3c3f431",
   "metadata": {},
   "outputs": [],
   "source": [
    "# murA data\n",
    "basedir = '/home/kcutler/DataDrive/murA_crop/'\n",
    "images = Path(basedir).rglob(\"*cp_masks.png\")\n",
    "files = [str(p) for p in images]\n",
    "masks = [skimage.io.imread(f) for f in files]\n",
    "nimg7 = len(files)"
   ]
  },
  {
   "cell_type": "code",
   "execution_count": 83,
   "id": "15e6bfed-88f5-4d9e-bf15-7abd5abcfcc2",
   "metadata": {},
   "outputs": [
    {
     "name": "stdout",
     "output_type": "stream",
     "text": [
      "60601 2169\n"
     ]
    }
   ],
   "source": [
    "counts = [len(np.unique(m)) for m in masks]\n",
    "total7 = np.sum(counts)\n",
    "print(total7,nimg7)"
   ]
  },
  {
   "cell_type": "code",
   "execution_count": 85,
   "id": "3e30b0a4-0d38-4208-b10b-1aee42caa625",
   "metadata": {},
   "outputs": [
    {
     "name": "stdout",
     "output_type": "stream",
     "text": [
      "1313 241\n"
     ]
    }
   ],
   "source": [
    "#ftsN data\n",
    "basedir = '/home/kcutler/DataDrive/merge_ftsN/xy1/crop/xy1/masks'\n",
    "images = Path(basedir).rglob(\"*_masks.png\")\n",
    "files = [str(p) for p in images]\n",
    "masks = [skimage.io.imread(f) for f in files]\n",
    "nimg8 = len(files)\n",
    "counts = [len(np.unique(m)) for m in masks]\n",
    "total8 = np.sum(counts)\n",
    "print(total8,nimg8)"
   ]
  },
  {
   "cell_type": "code",
   "execution_count": 133,
   "id": "39a5ce8c-7f0e-4ab6-857c-0f1fde3a8123",
   "metadata": {},
   "outputs": [],
   "source": [
    "# E. coli branching mutant \n",
    "basedir = '/home/kcutler/DataDrive/4529 branching/'\n",
    "images = Path(basedir).rglob(\"*xytRegister/*c1.tif\")\n",
    "files = [str(p) for p in images]\n",
    "imgs = [skimage.io.imread(f) for f in files]\n",
    "nimg9 = len(files)\n",
    "for n in range(nimg9):\n",
    "    if len(imgs[n].shape) > 2:\n",
    "            imgs[n] = imgs[n][:,:,0]"
   ]
  },
  {
   "cell_type": "code",
   "execution_count": null,
   "id": "ffae3ba3-ff50-4a4a-84d7-57d10574b46f",
   "metadata": {},
   "outputs": [],
   "source": [
    "nimg = len(imgs)\n",
    "n = range(nimg)\n",
    "dist_threshold = -1\n",
    "masks, flows, styles = model.eval([imgs[i] for i in n],channels=chans,diameter=None,dist_threshold=dist_threshold,\n",
    "                                  flow_threshold=0,skel=skel,resample=False,verbose=verbose,diam_threshold=diam_threshold,cluster=False)"
   ]
  },
  {
   "cell_type": "code",
   "execution_count": 138,
   "id": "07df4d9a-a10e-4697-a796-9dc2b54dfa71",
   "metadata": {},
   "outputs": [],
   "source": [
    "# io.save_masks(imgs, masks, flows, files, tif=True, save_flows=True, save_outlines=True, dir_above=False, in_folders=True, save_txt=False, png=False, skel=skel)\n",
    "counts = [len(np.unique(m)) for m in masks]\n",
    "total9 = np.sum(counts)\n",
    "print(total9,nimg9)"
   ]
  },
  {
   "cell_type": "code",
   "execution_count": 141,
   "id": "14794886-4f32-4ba4-867c-f8847da9eb36",
   "metadata": {},
   "outputs": [],
   "source": [
    "# hpylori data\n",
    "basedir = '/home/kcutler/DataDrive/Hpylori'\n",
    "images = Path(basedir).rglob(\"*C1.tif\")\n",
    "files = [str(p) for p in images]\n",
    "imgs = [skimage.io.imread(f) for f in files]\n",
    "nimg10 = len(files)\n",
    "for n in range(nimg10):\n",
    "    if len(imgs[n].shape) > 2:\n",
    "            imgs[n] = imgs[n][:,:,0]"
   ]
  },
  {
   "cell_type": "code",
   "execution_count": null,
   "id": "98d76991-9d44-45ac-bf7a-3a8ff4a77a2d",
   "metadata": {},
   "outputs": [],
   "source": [
    "nimg = len(imgs)\n",
    "n = range(nimg)\n",
    "dist_threshold = -1\n",
    "masks, flows, styles = model.eval([imgs[i] for i in n],channels=chans,diameter=None,dist_threshold=dist_threshold,\n",
    "                                  flow_threshold=0,skel=skel,resample=False,verbose=verbose,diam_threshold=diam_threshold,cluster=False)"
   ]
  },
  {
   "cell_type": "code",
   "execution_count": 146,
   "id": "41398061-e770-48d2-8a00-e3179195ede0",
   "metadata": {},
   "outputs": [
    {
     "name": "stdout",
     "output_type": "stream",
     "text": [
      "1668 19\n"
     ]
    }
   ],
   "source": [
    "# io.save_masks(imgs, masks, flows, files, tif=True, save_flows=True, save_outlines=True, dir_above=False, in_folders=True, save_txt=False, png=False, skel=skel)\n",
    "counts = [len(np.unique(m)) for m in masks]\n",
    "total10 = np.sum(counts)\n",
    "print(total10,nimg10)"
   ]
  },
  {
   "cell_type": "code",
   "execution_count": 147,
   "id": "9c08b8e0-54c0-4c3a-ad98-f244b33c69b4",
   "metadata": {},
   "outputs": [
    {
     "name": "stdout",
     "output_type": "stream",
     "text": [
      "13014 15\n"
     ]
    }
   ],
   "source": [
    "# hpylori data (second round)\n",
    "basedir = '/home/kcutler/DataDrive/newHpyloriCombined'\n",
    "images = Path(basedir).rglob(\"*cp_masks.png\")\n",
    "files = [str(p) for p in images]\n",
    "masks = [skimage.io.imread(f) for f in files]\n",
    "nimg11 = len(files)\n",
    "counts = [len(np.unique(m)) for m in masks]\n",
    "total11 = np.sum(counts)\n",
    "print(total11,nimg11)"
   ]
  },
  {
   "cell_type": "code",
   "execution_count": 256,
   "id": "b90b3694-a47a-4d40-8ed4-0bdb9b377b3d",
   "metadata": {},
   "outputs": [],
   "source": [
    "# E. coli and serratia /Volumes/DataDrive/ecVSsp\n",
    "# basedir = '/home/kcutler/DataDrive/ecVSsp' wring directory, that was the snapshots\n",
    "basedir = '/home/kcutler/DataDrive/Serratia vs E. coli/'\n",
    "images = Path(basedir).rglob(\"*C1.tif\")\n",
    "files = [str(p) for p in images]\n",
    "imgs = [skimage.io.imread(f) for f in files]\n",
    "nimg12 = len(files)"
   ]
  },
  {
   "cell_type": "code",
   "execution_count": 257,
   "id": "d3831dc8-3f10-4da7-9cef-1f2ebabd490a",
   "metadata": {},
   "outputs": [
    {
     "name": "stdout",
     "output_type": "stream",
     "text": [
      "2021-09-28 23:31:39,521 [INFO] 0%|          | 0/43 [00:00<?, ?it/s]\n",
      ">>>>> RUNNING TILED\n",
      "2021-09-28 23:31:42,928 [INFO] 2%|2         | 1/43 [00:03<02:23,  3.41s/it]\n",
      ">>>>> RUNNING TILED\n",
      "2021-09-28 23:31:46,276 [INFO] 5%|4         | 2/43 [00:06<02:18,  3.37s/it]\n",
      ">>>>> RUNNING TILED\n",
      "2021-09-28 23:31:49,653 [INFO] 7%|6         | 3/43 [00:10<02:14,  3.37s/it]\n",
      ">>>>> RUNNING TILED\n",
      "2021-09-28 23:31:52,854 [INFO] 9%|9         | 4/43 [00:13<02:08,  3.31s/it]\n",
      ">>>>> RUNNING TILED\n",
      "2021-09-28 23:31:56,351 [INFO] 12%|#1        | 5/43 [00:16<02:08,  3.37s/it]\n",
      ">>>>> RUNNING TILED\n",
      "2021-09-28 23:31:59,941 [INFO] 14%|#3        | 6/43 [00:20<02:07,  3.45s/it]\n",
      ">>>>> RUNNING TILED\n",
      "2021-09-28 23:32:03,540 [INFO] 16%|#6        | 7/43 [00:24<02:05,  3.50s/it]\n",
      ">>>>> RUNNING TILED\n",
      "2021-09-28 23:32:07,251 [INFO] 19%|#8        | 8/43 [00:27<02:04,  3.57s/it]\n",
      ">>>>> RUNNING TILED\n",
      "2021-09-28 23:32:10,201 [INFO] 21%|##        | 9/43 [00:30<01:54,  3.37s/it]\n",
      ">>>>> RUNNING TILED\n",
      "2021-09-28 23:32:13,335 [INFO] 23%|##3       | 10/43 [00:33<01:48,  3.30s/it]\n",
      ">>>>> RUNNING TILED\n",
      "2021-09-28 23:32:16,433 [INFO] 26%|##5       | 11/43 [00:36<01:43,  3.24s/it]\n",
      ">>>>> RUNNING TILED\n",
      "2021-09-28 23:32:19,512 [INFO] 28%|##7       | 12/43 [00:39<01:38,  3.19s/it]\n",
      ">>>>> RUNNING TILED\n",
      "2021-09-28 23:32:22,345 [INFO] 30%|###       | 13/43 [00:42<01:32,  3.08s/it]\n",
      ">>>>> RUNNING TILED\n",
      "2021-09-28 23:32:25,562 [INFO] 33%|###2      | 14/43 [00:46<01:30,  3.12s/it]\n",
      ">>>>> RUNNING TILED\n",
      "2021-09-28 23:32:28,868 [INFO] 35%|###4      | 15/43 [00:49<01:28,  3.18s/it]\n",
      ">>>>> RUNNING TILED\n",
      "2021-09-28 23:32:32,863 [INFO] 37%|###7      | 16/43 [00:53<01:32,  3.42s/it]\n",
      ">>>>> RUNNING TILED\n",
      "2021-09-28 23:32:36,676 [INFO] 40%|###9      | 17/43 [00:57<01:32,  3.54s/it]\n",
      ">>>>> RUNNING TILED\n",
      "2021-09-28 23:32:39,660 [INFO] 42%|####1     | 18/43 [01:00<01:24,  3.37s/it]\n",
      ">>>>> RUNNING TILED\n",
      "2021-09-28 23:32:42,611 [INFO] 44%|####4     | 19/43 [01:03<01:17,  3.25s/it]\n",
      ">>>>> RUNNING TILED\n",
      "2021-09-28 23:32:45,891 [INFO] 47%|####6     | 20/43 [01:06<01:14,  3.26s/it]\n",
      ">>>>> RUNNING TILED\n",
      "2021-09-28 23:32:49,047 [INFO] 49%|####8     | 21/43 [01:09<01:10,  3.23s/it]\n",
      ">>>>> RUNNING TILED\n",
      "2021-09-28 23:32:52,562 [INFO] 51%|#####1    | 22/43 [01:13<01:09,  3.31s/it]\n",
      ">>>>> RUNNING TILED\n",
      "2021-09-28 23:32:56,142 [INFO] 53%|#####3    | 23/43 [01:16<01:07,  3.39s/it]\n",
      ">>>>> RUNNING TILED\n",
      "2021-09-28 23:32:59,173 [INFO] 56%|#####5    | 24/43 [01:19<01:02,  3.28s/it]\n",
      ">>>>> RUNNING TILED\n",
      "2021-09-28 23:33:02,282 [INFO] 58%|#####8    | 25/43 [01:22<00:58,  3.23s/it]\n",
      ">>>>> RUNNING TILED\n",
      "2021-09-28 23:33:05,547 [INFO] 60%|######    | 26/43 [01:26<00:55,  3.24s/it]\n",
      ">>>>> RUNNING TILED\n",
      "2021-09-28 23:33:08,887 [INFO] 63%|######2   | 27/43 [01:29<00:52,  3.27s/it]\n",
      ">>>>> RUNNING TILED\n",
      "2021-09-28 23:33:12,195 [INFO] 65%|######5   | 28/43 [01:32<00:49,  3.28s/it]\n",
      ">>>>> RUNNING TILED\n",
      "2021-09-28 23:33:15,131 [INFO] 67%|######7   | 29/43 [01:35<00:44,  3.18s/it]\n",
      ">>>>> RUNNING TILED\n",
      "2021-09-28 23:33:18,006 [INFO] 70%|######9   | 30/43 [01:38<00:40,  3.09s/it]\n",
      ">>>>> RUNNING TILED\n",
      "2021-09-28 23:33:21,283 [INFO] 72%|#######2  | 31/43 [01:41<00:37,  3.14s/it]\n",
      ">>>>> RUNNING TILED\n",
      "2021-09-28 23:33:24,590 [INFO] 74%|#######4  | 32/43 [01:45<00:35,  3.19s/it]\n",
      ">>>>> RUNNING TILED\n",
      "2021-09-28 23:33:28,051 [INFO] 77%|#######6  | 33/43 [01:48<00:32,  3.27s/it]\n",
      ">>>>> RUNNING TILED\n",
      "2021-09-28 23:33:31,495 [INFO] 79%|#######9  | 34/43 [01:51<00:29,  3.32s/it]\n",
      ">>>>> RUNNING TILED\n",
      "2021-09-28 23:33:35,046 [INFO] 81%|########1 | 35/43 [01:55<00:27,  3.39s/it]\n",
      ">>>>> RUNNING TILED\n",
      "2021-09-28 23:33:38,429 [INFO] 84%|########3 | 36/43 [01:58<00:23,  3.39s/it]\n",
      ">>>>> RUNNING TILED\n",
      "2021-09-28 23:33:41,625 [INFO] 86%|########6 | 37/43 [02:02<00:19,  3.33s/it]\n",
      ">>>>> RUNNING TILED\n",
      "2021-09-28 23:33:44,850 [INFO] 88%|########8 | 38/43 [02:05<00:16,  3.30s/it]\n",
      ">>>>> RUNNING TILED\n",
      "2021-09-28 23:33:48,941 [INFO] 91%|######### | 39/43 [02:09<00:14,  3.54s/it]\n",
      ">>>>> RUNNING TILED\n",
      "2021-09-28 23:33:51,968 [INFO] 93%|#########3| 40/43 [02:12<00:10,  3.38s/it]\n",
      ">>>>> RUNNING TILED\n",
      "2021-09-28 23:33:55,023 [INFO] 95%|#########5| 41/43 [02:15<00:06,  3.29s/it]\n",
      ">>>>> RUNNING TILED\n",
      "2021-09-28 23:33:58,558 [INFO] 98%|#########7| 42/43 [02:19<00:03,  3.36s/it]\n",
      ">>>>> RUNNING TILED\n",
      "2021-09-28 23:34:02,155 [INFO] 100%|##########| 43/43 [02:22<00:00,  3.43s/it]\n",
      "2021-09-28 23:34:02,155 [INFO] 100%|##########| 43/43 [02:22<00:00,  3.32s/it]\n"
     ]
    }
   ],
   "source": [
    "nimg = len(imgs)\n",
    "n = range(nimg)\n",
    "dist_threshold = -1\n",
    "masks, flows, styles = model.eval([imgs[i] for i in n],channels=chans,diameter=None,dist_threshold=dist_threshold,\n",
    "                                  flow_threshold=0,skel=skel,resample=False,verbose=verbose,diam_threshold=diam_threshold,cluster=False)"
   ]
  },
  {
   "cell_type": "code",
   "execution_count": 258,
   "id": "137be76a-57a4-4e50-8350-01bab00c5f79",
   "metadata": {},
   "outputs": [
    {
     "name": "stdout",
     "output_type": "stream",
     "text": [
      "100146 43\n"
     ]
    }
   ],
   "source": [
    "io.save_masks(imgs, masks, flows, files, tif=True, save_flows=True, save_outlines=True, dir_above=False, in_folders=True, save_txt=False, png=False, skel=skel)\n",
    "counts = [len(np.unique(m)) for m in masks]\n",
    "total12 = np.sum(counts)\n",
    "print(total12,nimg12)"
   ]
  },
  {
   "cell_type": "code",
   "execution_count": 150,
   "id": "4cf5e0d2-6a3e-4169-8636-6d61deb8eb56",
   "metadata": {},
   "outputs": [
    {
     "name": "stdout",
     "output_type": "stream",
     "text": [
      "1392 5\n"
     ]
    }
   ],
   "source": [
    "#psvb mix a\n",
    "basedir = '/home/kcutler/DataDrive/PSVB mix/a/xytRegister'\n",
    "images = Path(basedir).rglob(\"*cp_masks.png\")\n",
    "files = [str(p) for p in images]\n",
    "masks = [skimage.io.imread(f) for f in files]\n",
    "nimg13 = len(files)\n",
    "counts = [len(np.unique(m)) for m in masks]\n",
    "total13 = np.sum(counts)\n",
    "print(total13,nimg13)"
   ]
  },
  {
   "cell_type": "code",
   "execution_count": 154,
   "id": "9cfbd20a-f200-4c8c-8180-28640ffa6689",
   "metadata": {},
   "outputs": [],
   "source": [
    "#psvb mix b\n",
    "basedir = '/home/kcutler/DataDrive/PSVB mix/b/xytRegister'\n",
    "images = Path(basedir).rglob(\"*c1.tif\")\n",
    "files = [str(p) for p in images]\n",
    "imgs = [skimage.io.imread(f) for f in files]\n",
    "nimg14 = len(files)"
   ]
  },
  {
   "cell_type": "code",
   "execution_count": 155,
   "id": "e0dddf07-9feb-4d37-95f1-b25d27aec4c3",
   "metadata": {},
   "outputs": [
    {
     "name": "stdout",
     "output_type": "stream",
     "text": [
      "2021-09-27 17:39:34,657 [INFO] 0%|          | 0/9 [00:00<?, ?it/s]\n",
      ">>>>> RUNNING TILED\n",
      "2021-09-27 17:39:37,091 [INFO] 11%|#1        | 1/9 [00:02<00:19,  2.43s/it]\n",
      ">>>>> RUNNING TILED\n",
      "2021-09-27 17:39:39,480 [INFO] 22%|##2       | 2/9 [00:04<00:16,  2.41s/it]\n",
      ">>>>> RUNNING TILED\n",
      "2021-09-27 17:39:41,986 [INFO] 33%|###3      | 3/9 [00:07<00:14,  2.45s/it]\n",
      ">>>>> RUNNING TILED\n",
      "2021-09-27 17:39:44,219 [INFO] 44%|####4     | 4/9 [00:09<00:11,  2.37s/it]\n",
      ">>>>> RUNNING TILED\n",
      "2021-09-27 17:39:46,428 [INFO] 56%|#####5    | 5/9 [00:11<00:09,  2.31s/it]\n",
      ">>>>> RUNNING TILED\n",
      "2021-09-27 17:39:49,100 [INFO] 67%|######6   | 6/9 [00:14<00:07,  2.43s/it]\n",
      ">>>>> RUNNING TILED\n",
      "2021-09-27 17:39:52,326 [INFO] 78%|#######7  | 7/9 [00:17<00:05,  2.69s/it]\n",
      ">>>>> RUNNING TILED\n",
      "2021-09-27 17:39:54,458 [INFO] 89%|########8 | 8/9 [00:19<00:02,  2.51s/it]\n",
      ">>>>> RUNNING TILED\n",
      "2021-09-27 17:39:56,694 [INFO] 100%|##########| 9/9 [00:22<00:00,  2.43s/it]\n",
      "2021-09-27 17:39:56,694 [INFO] 100%|##########| 9/9 [00:22<00:00,  2.45s/it]\n"
     ]
    }
   ],
   "source": [
    "nimg = len(imgs)\n",
    "n = range(nimg)\n",
    "dist_threshold = -1\n",
    "masks, flows, styles = model.eval([imgs[i] for i in n],channels=chans,diameter=None,dist_threshold=dist_threshold,\n",
    "                                  flow_threshold=0,skel=skel,resample=False,verbose=verbose,diam_threshold=diam_threshold,cluster=False)"
   ]
  },
  {
   "cell_type": "code",
   "execution_count": 156,
   "id": "96fa6fa0-fab7-4eec-a838-8b482ef362b8",
   "metadata": {},
   "outputs": [
    {
     "name": "stdout",
     "output_type": "stream",
     "text": [
      "29532 9\n"
     ]
    }
   ],
   "source": [
    "# io.save_masks(imgs, masks, flows, files, tif=True, save_flows=True, save_outlines=True, dir_above=False, in_folders=True, save_txt=False, png=False, skel=skel)\n",
    "counts = [len(np.unique(m)) for m in masks]\n",
    "total14 = np.sum(counts)\n",
    "print(total14,nimg14)"
   ]
  },
  {
   "cell_type": "code",
   "execution_count": 157,
   "id": "edbb8b50-e8c2-4bd6-9f79-763d370ff352",
   "metadata": {},
   "outputs": [],
   "source": [
    "#psvb mix c - oops, already had the masks for that one, oh well\n",
    "basedir = '/home/kcutler/DataDrive/PSVB mix/c/xytRegister'\n",
    "images = Path(basedir).rglob(\"*c1.tif\")\n",
    "files = [str(p) for p in images]\n",
    "imgs = [skimage.io.imread(f) for f in files]\n",
    "nimg15 = len(files)"
   ]
  },
  {
   "cell_type": "code",
   "execution_count": 158,
   "id": "cc6ae57f-a1a5-47e0-a27a-f1f4f3ea7aae",
   "metadata": {},
   "outputs": [
    {
     "name": "stdout",
     "output_type": "stream",
     "text": [
      "2021-09-27 17:40:49,579 [INFO] 0%|          | 0/7 [00:00<?, ?it/s]\n",
      ">>>>> RUNNING TILED\n",
      "2021-09-27 17:40:51,280 [INFO] 14%|#4        | 1/7 [00:01<00:10,  1.70s/it]\n",
      ">>>>> RUNNING TILED\n",
      "2021-09-27 17:40:53,051 [INFO] 29%|##8       | 2/7 [00:03<00:08,  1.74s/it]\n",
      ">>>>> RUNNING TILED\n",
      "2021-09-27 17:40:54,742 [INFO] 43%|####2     | 3/7 [00:05<00:06,  1.72s/it]\n",
      ">>>>> RUNNING TILED\n",
      "2021-09-27 17:40:56,498 [INFO] 57%|#####7    | 4/7 [00:06<00:05,  1.73s/it]\n",
      ">>>>> RUNNING TILED\n",
      "2021-09-27 17:40:58,259 [INFO] 71%|#######1  | 5/7 [00:08<00:03,  1.74s/it]\n",
      ">>>>> RUNNING TILED\n",
      "2021-09-27 17:40:59,999 [INFO] 86%|########5 | 6/7 [00:10<00:01,  1.74s/it]\n",
      ">>>>> RUNNING TILED\n",
      "2021-09-27 17:41:01,696 [INFO] 100%|##########| 7/7 [00:12<00:00,  1.73s/it]\n",
      "2021-09-27 17:41:01,697 [INFO] 100%|##########| 7/7 [00:12<00:00,  1.73s/it]\n"
     ]
    }
   ],
   "source": [
    "nimg = len(imgs)\n",
    "n = range(nimg)\n",
    "dist_threshold = -1\n",
    "masks, flows, styles = model.eval([imgs[i] for i in n],channels=chans,diameter=None,dist_threshold=dist_threshold,\n",
    "                                  flow_threshold=0,skel=skel,resample=False,verbose=verbose,diam_threshold=diam_threshold,cluster=False)"
   ]
  },
  {
   "cell_type": "code",
   "execution_count": 159,
   "id": "790eed88-73e8-4f0f-8740-d43d8894dd1b",
   "metadata": {},
   "outputs": [
    {
     "name": "stdout",
     "output_type": "stream",
     "text": [
      "2357 7\n"
     ]
    }
   ],
   "source": [
    "io.save_masks(imgs, masks, flows, files, tif=True, save_flows=True, save_outlines=True, dir_above=False, in_folders=True, save_txt=False, png=False, skel=skel)\n",
    "counts = [len(np.unique(m)) for m in masks]\n",
    "total15 = np.sum(counts)\n",
    "print(total15,nimg15)"
   ]
  },
  {
   "cell_type": "code",
   "execution_count": 160,
   "id": "1e387f13-c529-42cc-8443-221794518655",
   "metadata": {},
   "outputs": [
    {
     "name": "stdout",
     "output_type": "stream",
     "text": [
      "2662 3\n"
     ]
    }
   ],
   "source": [
    "#pao1 and staph \n",
    "basedir = '/home/kcutler/DataDrive/PAO1 and staph/xytRegister'\n",
    "images = Path(basedir).rglob(\"*cp_masks.png\")\n",
    "files = [str(p) for p in images]\n",
    "masks = [skimage.io.imread(f) for f in files]\n",
    "nimg16 = len(files)\n",
    "counts = [len(np.unique(m)) for m in masks]\n",
    "total16 = np.sum(counts)\n",
    "print(total16,nimg16)"
   ]
  },
  {
   "cell_type": "code",
   "execution_count": 247,
   "id": "89078c05-d03e-44e0-81c3-99113f5bb627",
   "metadata": {},
   "outputs": [],
   "source": [
    "#streptomyces\n",
    "basedir = '/home/kcutler/DataDrive/streptomyces'\n",
    "images = Path(basedir).rglob(\"*C1.tif\")\n",
    "files = [str(p) for p in images]\n",
    "imgs = [skimage.io.imread(f) for f in files]\n",
    "nimg17 = len(files)"
   ]
  },
  {
   "cell_type": "code",
   "execution_count": 164,
   "id": "41713618-31bd-4f1e-858d-9b1c3fca9e24",
   "metadata": {},
   "outputs": [
    {
     "name": "stdout",
     "output_type": "stream",
     "text": [
      "2021-09-27 17:47:46,812 [INFO] 0%|          | 0/17 [00:00<?, ?it/s]\n",
      ">>>>> RUNNING TILED\n",
      "2021-09-27 17:47:48,543 [INFO] 6%|5         | 1/17 [00:01<00:27,  1.73s/it]\n",
      ">>>>> RUNNING TILED\n",
      "2021-09-27 17:47:50,653 [INFO] 12%|#1        | 2/17 [00:03<00:29,  1.95s/it]\n",
      ">>>>> RUNNING TILED\n",
      "2021-09-27 17:47:52,632 [INFO] 18%|#7        | 3/17 [00:05<00:27,  1.97s/it]\n",
      ">>>>> RUNNING TILED\n",
      "2021-09-27 17:47:54,582 [INFO] 24%|##3       | 4/17 [00:07<00:25,  1.96s/it]\n",
      ">>>>> RUNNING TILED\n",
      "2021-09-27 17:47:56,410 [INFO] 29%|##9       | 5/17 [00:09<00:22,  1.91s/it]\n",
      ">>>>> RUNNING TILED\n",
      "2021-09-27 17:47:58,302 [INFO] 35%|###5      | 6/17 [00:11<00:20,  1.91s/it]\n",
      ">>>>> RUNNING TILED\n",
      "2021-09-27 17:48:00,057 [INFO] 41%|####1     | 7/17 [00:13<00:18,  1.86s/it]\n",
      ">>>>> RUNNING TILED\n",
      "2021-09-27 17:48:02,087 [INFO] 47%|####7     | 8/17 [00:15<00:17,  1.91s/it]\n",
      ">>>>> RUNNING TILED\n",
      "2021-09-27 17:48:04,372 [INFO] 53%|#####2    | 9/17 [00:17<00:16,  2.03s/it]\n",
      ">>>>> RUNNING TILED\n",
      "2021-09-27 17:48:06,322 [INFO] 59%|#####8    | 10/17 [00:19<00:14,  2.00s/it]\n",
      ">>>>> RUNNING TILED\n",
      "2021-09-27 17:48:08,199 [INFO] 65%|######4   | 11/17 [00:21<00:11,  1.97s/it]\n",
      ">>>>> RUNNING TILED\n",
      "2021-09-27 17:48:10,066 [INFO] 71%|#######   | 12/17 [00:23<00:09,  1.94s/it]\n",
      ">>>>> RUNNING TILED\n",
      "2021-09-27 17:48:11,978 [INFO] 76%|#######6  | 13/17 [00:25<00:07,  1.93s/it]\n",
      ">>>>> RUNNING TILED\n",
      "2021-09-27 17:48:13,870 [INFO] 82%|########2 | 14/17 [00:27<00:05,  1.92s/it]\n",
      ">>>>> RUNNING TILED\n",
      "2021-09-27 17:48:16,019 [INFO] 88%|########8 | 15/17 [00:29<00:03,  1.99s/it]\n",
      ">>>>> RUNNING TILED\n",
      "2021-09-27 17:48:17,810 [INFO] 94%|#########4| 16/17 [00:30<00:01,  1.93s/it]\n",
      ">>>>> RUNNING TILED\n",
      "2021-09-27 17:48:19,761 [INFO] 100%|##########| 17/17 [00:32<00:00,  1.93s/it]\n",
      "2021-09-27 17:48:19,762 [INFO] 100%|##########| 17/17 [00:32<00:00,  1.94s/it]\n"
     ]
    }
   ],
   "source": [
    "nimg = len(imgs)\n",
    "n = range(nimg)\n",
    "dist_threshold = -1\n",
    "masks, flows, styles = model.eval([imgs[i] for i in n],channels=chans,diameter=None,dist_threshold=dist_threshold,\n",
    "                                  flow_threshold=0,skel=skel,resample=False,verbose=verbose,diam_threshold=diam_threshold,cluster=False)"
   ]
  },
  {
   "cell_type": "code",
   "execution_count": 165,
   "id": "45200a66-dd49-48ed-9b67-b468e80235b3",
   "metadata": {},
   "outputs": [
    {
     "name": "stdout",
     "output_type": "stream",
     "text": [
      "2339 17\n"
     ]
    }
   ],
   "source": [
    "# io.save_masks(imgs, masks, flows, files, tif=True, save_flows=True, save_outlines=True, dir_above=False, in_folders=True, save_txt=False, png=False, skel=skel)\n",
    "counts = [len(np.unique(m)) for m in masks]\n",
    "total17 = np.sum(counts)\n",
    "print(total17,nimg17)"
   ]
  },
  {
   "cell_type": "code",
   "execution_count": 167,
   "id": "9d6060ad-9d72-436b-93ad-b0fe628b0d84",
   "metadata": {},
   "outputs": [
    {
     "name": "stdout",
     "output_type": "stream",
     "text": [
      "2627 2\n"
     ]
    }
   ],
   "source": [
    "# vibrio\n",
    "basedir = '/home/kcutler/DataDrive/vibrio/masks'\n",
    "images = Path(basedir).rglob(\"*cp_masks.png\")\n",
    "files = [str(p) for p in images]\n",
    "masks = [skimage.io.imread(f) for f in files]\n",
    "nimg18 = len(files)\n",
    "counts = [len(np.unique(m)) for m in masks]\n",
    "total18 = np.sum(counts)\n",
    "print(total18,nimg18)"
   ]
  },
  {
   "cell_type": "code",
   "execution_count": 170,
   "id": "fc8617fa-c442-4446-a5ac-a1b7a7d30ea2",
   "metadata": {},
   "outputs": [],
   "source": [
    "#'wiggins' teresa data\n",
    "basedirs = {'/home/kcutler/DataDrive/teresadata/210409_1236_3M9pad_timelapse_1_6',\n",
    "            '/home/kcutler/DataDrive/teresadata/210403_789_LB_IPTG_timelapse_1_1',\n",
    "            '/home/kcutler/DataDrive/teresadata/210402_789_IPTG_timelapse_1_2',\n",
    "            '/home/kcutler/DataDrive/teresadata/210402_789_IPTG_timelapse_1_1',\n",
    "            '/home/kcutler/DataDrive/teresadata/210330_789_IPTG_timelapse_1_2',\n",
    "            '/home/kcutler/DataDrive/teresadata/210326_789_IPTG_timelapse_1_2',\n",
    "            '/home/kcutler/DataDrive/teresadata/210326_789_IPTG_timelapse_1_1',\n",
    "            '/home/kcutler/DataDrive/teresadata/210325_789_IPTG_timelapse_1_1'}\n",
    "total19 = 0\n",
    "nimg19 = 0\n",
    "for basedir in basedirs:\n",
    "    images = Path(basedir).rglob(\"*cp_masks.png\")\n",
    "    files = [str(p) for p in images]\n",
    "    masks = [skimage.io.imread(f) for f in files]\n",
    "    nimg = len(files)\n",
    "    counts = [len(np.unique(m)) for m in masks]\n",
    "    total = np.sum(counts)\n",
    "    print(total,nimg)\n",
    "    total19 += total\n",
    "    nimg19 += nimg\n",
    "print(total19,nimg19)"
   ]
  },
  {
   "cell_type": "code",
   "execution_count": 189,
   "id": "c6d49aed-bc1e-40a4-9bcf-358aac2ccc96",
   "metadata": {},
   "outputs": [],
   "source": [
    "# b thai\n",
    "basedir = '/home/kcutler/DataDrive/tle3/greenvsRG/f/xytRegister/align/masks'\n",
    "images = Path(basedir).rglob(\"*_masks.png\")\n",
    "files = [str(p) for p in images]\n",
    "masks = [skimage.io.imread(f) for f in files]\n",
    "nimg20 = len(files)\n",
    "counts = [len(np.unique(m)) for m in masks]\n",
    "total20 = np.sum(counts)\n",
    "print(total20,nimg20)"
   ]
  },
  {
   "cell_type": "code",
   "execution_count": 248,
   "id": "51185ca7-9362-4da3-8417-48b57ede357f",
   "metadata": {},
   "outputs": [],
   "source": [
    "# francisella\n",
    "basedir = '/home/kcutler/DataDrive/Francisella/multi'\n",
    "images = Path(basedir).rglob(\"*c1.tif\")\n",
    "files = [str(p) for p in images]\n",
    "imgs = [skimage.io.imread(f) for f in files]\n",
    "nimg21 = len(files)"
   ]
  },
  {
   "cell_type": "code",
   "execution_count": 250,
   "id": "5f55b178-64fa-433d-9c3d-324fb97f3fdb",
   "metadata": {},
   "outputs": [],
   "source": [
    "nimg = len(imgs)\n",
    "n = range(nimg)\n",
    "dist_threshold = -1\n",
    "masks, flows, styles = model.eval([imgs[i] for i in n],channels=chans,diameter=None,dist_threshold=dist_threshold,\n",
    "                                  flow_threshold=0,skel=skel,resample=False,verbose=verbose,diam_threshold=diam_threshold,cluster=False)"
   ]
  },
  {
   "cell_type": "code",
   "execution_count": 251,
   "id": "b9893f32-3af7-41a5-af57-886994b3f142",
   "metadata": {},
   "outputs": [
    {
     "name": "stdout",
     "output_type": "stream",
     "text": [
      "20166 5\n"
     ]
    }
   ],
   "source": [
    "io.save_masks(imgs, masks, flows, files, tif=True, save_flows=True, save_outlines=True, dir_above=False, in_folders=True, save_txt=False, png=False, skel=skel)\n",
    "counts = [len(np.unique(m)) for m in masks]\n",
    "total21 = np.sum(counts)\n",
    "print(total21,nimg21)"
   ]
  },
  {
   "cell_type": "code",
   "execution_count": 259,
   "id": "aff82f7c-8154-4587-ab42-a789eaa889ef",
   "metadata": {},
   "outputs": [
    {
     "name": "stdout",
     "output_type": "stream",
     "text": [
      "5I_crop 1\n",
      "141 4536\n",
      "A22 2\n",
      "117 256618\n",
      "caulo 3\n",
      "4 1787\n",
      "cex s flex 4\n",
      "6 4482\n",
      "cex ec 5\n",
      "2 2277\n",
      "dnaA 6\n",
      "540 10013\n",
      "murA 7\n",
      "2169 60601\n",
      "ftsN 8\n",
      "241 1313\n",
      "ec mutant 9\n",
      "80 23169\n",
      "hpyori 10\n",
      "19 1668\n",
      "hpylori 2 11\n",
      "15 13014\n",
      "serratia+ec 12\n",
      "43 100146\n",
      "psvb a 13\n",
      "5 1392\n",
      "psvb b 14\n",
      "9 29532\n",
      "psvb c 15\n",
      "7 2357\n",
      "pao1 staph 16\n",
      "3 2662\n",
      "streptomyces 17\n",
      "17 2339\n",
      "vibrio 18\n",
      "2 2627\n",
      "wiggins/teresa 19\n",
      "1378 98200.0\n",
      "bthai 20\n",
      "30 62005\n",
      "francisella 21\n",
      "5 20166\n"
     ]
    }
   ],
   "source": [
    "finalCellCount = 0\n",
    "finalImgCount = 0\n",
    "names = ['5I_crop','A22','caulo','cex s flex','cex ec','dnaA','murA','ftsN','ec mutant',\n",
    "         'hpyori','hpylori 2','serratia+ec','psvb a','psvb b','psvb c','pao1 staph','streptomyces',\n",
    "         'vibrio','wiggins/teresa','bthai','francisella']\n",
    "for i in range(1,22):\n",
    "    print(names[i-1],str(i))\n",
    "    exec(\"print(%s,%s)\" % ('nimg'+str(i),'total'+str(i)))\n",
    "    exec(\"%s += %s\" % ('finalCellCount','total'+str(i)))\n",
    "    exec(\"%s += %s\" % ('finalImgCount','nimg'+str(i)))"
   ]
  },
  {
   "cell_type": "code",
   "execution_count": 206,
   "id": "d8a6492c-401c-419d-9782-1281ccbf5a6b",
   "metadata": {},
   "outputs": [
    {
     "data": {
      "text/plain": [
       "(21, 33281)"
      ]
     },
     "execution_count": 206,
     "metadata": {},
     "output_type": "execute_result"
    }
   ],
   "source": [
    "#total psvb\n",
    "nimg13+nimg14+nimg15,total13+total14+total15"
   ]
  },
  {
   "cell_type": "code",
   "execution_count": 260,
   "id": "25e7cd8e-741b-4a3b-908f-672c682e7294",
   "metadata": {},
   "outputs": [
    {
     "data": {
      "text/plain": [
       "145.02462238775087"
      ]
     },
     "execution_count": 260,
     "metadata": {},
     "output_type": "execute_result"
    }
   ],
   "source": [
    "finalCellCount/finalImgCount"
   ]
  },
  {
   "cell_type": "code",
   "execution_count": 262,
   "id": "26960171-3cc7-4ac4-85f2-297b3ef54523",
   "metadata": {},
   "outputs": [
    {
     "data": {
      "text/plain": [
       "(700904.0, 4833)"
      ]
     },
     "execution_count": 262,
     "metadata": {},
     "output_type": "execute_result"
    }
   ],
   "source": [
    "finalCellCount,finalImgCount"
   ]
  },
  {
   "cell_type": "code",
   "execution_count": 193,
   "id": "3974f4da-3136-47d5-8cca-1fcfc2bd553f",
   "metadata": {},
   "outputs": [
    {
     "data": {
      "text/plain": [
       "19"
      ]
     },
     "execution_count": 193,
     "metadata": {},
     "output_type": "execute_result"
    }
   ],
   "source": [
    "len(names)"
   ]
  },
  {
   "cell_type": "code",
   "execution_count": 235,
   "id": "13608ca9-bd20-40fd-ad75-876f8bfcbf40",
   "metadata": {},
   "outputs": [
    {
     "name": "stdout",
     "output_type": "stream",
     "text": [
      "ftsn 580\n",
      "PSVB 2251\n",
      "francisella 496\n",
      "5I_crop 2383\n",
      "serratia_ec 656\n",
      "vibrio 1813\n",
      "murA 2197\n",
      "dnaA 1046\n",
      "Az_branch 639\n",
      "PAO1_staph 1906\n",
      "wiggins 5354\n",
      "streptomyces 254\n",
      "A22 1275\n",
      "bthai 3828\n",
      "caulo 719\n",
      "cex 2126\n",
      "hpylori 346\n"
     ]
    },
    {
     "data": {
      "text/plain": [
       "27869"
      ]
     },
     "execution_count": 235,
     "metadata": {},
     "output_type": "execute_result"
    }
   ],
   "source": [
    "# ground truth now\n",
    "# base = '/home/kcutler/DataDrive/skelpose_test/'\n",
    "base = '/home/kcutler/DataDrive/skelpose_all/train_sorted/'\n",
    "folders = [x[0] for x in os.walk(base)][1:]\n",
    "names_train = [os.path.split(f)[-1] for f in folders]\n",
    "\n",
    "nimg_train = []\n",
    "total_train = []\n",
    "for idx,fldr in enumerate(folders):\n",
    "    images = Path(fldr).glob(\"*masks*\")\n",
    "    files = [str(p) for p in images]\n",
    "    masks_gt = [skimage.io.imread(f) for f in files]\n",
    "    counts = [len(np.unique(m)) for m in masks_gt]\n",
    "    total0 = np.sum(counts)\n",
    "    nimg0 = len(files)\n",
    "    nimg_train.append(nimg0)\n",
    "    total_train.append(total0)\n",
    "    print(names[idx],total0)\n",
    "np.sum(total_train)"
   ]
  },
  {
   "cell_type": "code",
   "execution_count": null,
   "id": "abd80ab6-5ab4-4f7c-9943-ed83d97cbfad",
   "metadata": {},
   "outputs": [],
   "source": []
  },
  {
   "cell_type": "code",
   "execution_count": null,
   "id": "0b9c5f64-5230-491d-a992-e3bd521dd19d",
   "metadata": {},
   "outputs": [],
   "source": []
  },
  {
   "cell_type": "code",
   "execution_count": 236,
   "id": "f6790a28-2d14-4a21-80a0-0d5fd10b03dd",
   "metadata": {},
   "outputs": [
    {
     "name": "stdout",
     "output_type": "stream",
     "text": [
      "ftsN 553\n",
      "PSVB 2427\n",
      "5I_crop 2012\n",
      "serratia 588\n",
      "vibrio 452\n",
      "murA 1139\n",
      "dnaA 1181\n",
      "ecoli_mut 660\n",
      "PAO1_staph 1782\n",
      "wiggins 4379\n",
      "streptomyces 16\n",
      "A22 134\n",
      "bthai 1294\n",
      "caulo 37\n",
      "cex 2192\n",
      "hpylori 355\n",
      "19201\n"
     ]
    }
   ],
   "source": [
    "base = '/home/kcutler/DataDrive/skelpose_test/'\n",
    "folders = [x[0] for x in os.walk(base)][1:]\n",
    "names_test = [os.path.split(f)[-1] for f in folders]\n",
    "\n",
    "nimg_test = []\n",
    "total_test = []\n",
    "for idx,fldr in enumerate(folders):\n",
    "    images = Path(fldr).glob(\"*masks*\")\n",
    "    files = [str(p) for p in images]\n",
    "    masks_gt = [skimage.io.imread(f) for f in files]\n",
    "    counts = [len(np.unique(m)) for m in masks_gt]\n",
    "    total0 = np.sum(counts)\n",
    "    nimg0 = len(files)\n",
    "    nimg_test.append(nimg0)\n",
    "    total_test.append(total0)\n",
    "    print(names_test[idx],total0)\n",
    "print(np.sum(total_test))"
   ]
  },
  {
   "cell_type": "code",
   "execution_count": 243,
   "id": "e8c606b2-1c95-4177-b37f-d441c6a5cff9",
   "metadata": {},
   "outputs": [],
   "source": [
    "SUM = np.sum(total_test)+np.sum(total_train)"
   ]
  },
  {
   "cell_type": "code",
   "execution_count": 237,
   "id": "4216638a-bc4d-4b1d-8433-48e1155d65ee",
   "metadata": {},
   "outputs": [
    {
     "data": {
      "text/plain": [
       "(['ftsN',\n",
       "  'PSVB',\n",
       "  'francisella',\n",
       "  '5I_crop',\n",
       "  'serratia',\n",
       "  'vibrio',\n",
       "  'murA',\n",
       "  'dnaA',\n",
       "  'ecoli_mut',\n",
       "  'PAO1_staph',\n",
       "  'wiggins',\n",
       "  'streptomyces',\n",
       "  'A22',\n",
       "  'bthai',\n",
       "  'caulo',\n",
       "  'cex',\n",
       "  'hpylori'],\n",
       " ['ftsN',\n",
       "  'PSVB',\n",
       "  '5I_crop',\n",
       "  'serratia',\n",
       "  'vibrio',\n",
       "  'murA',\n",
       "  'dnaA',\n",
       "  'ecoli_mut',\n",
       "  'PAO1_staph',\n",
       "  'wiggins',\n",
       "  'streptomyces',\n",
       "  'A22',\n",
       "  'bthai',\n",
       "  'caulo',\n",
       "  'cex',\n",
       "  'hpylori'])"
      ]
     },
     "execution_count": 237,
     "metadata": {},
     "output_type": "execute_result"
    }
   ],
   "source": [
    "names_train,names_test"
   ]
  },
  {
   "cell_type": "code",
   "execution_count": 238,
   "id": "21a497b7-75d7-4172-8b5e-660460d15722",
   "metadata": {},
   "outputs": [],
   "source": [
    "total_test.insert(2,0)"
   ]
  },
  {
   "cell_type": "code",
   "execution_count": 268,
   "id": "e38c441c-e388-41cc-a7a3-9a1b5d27fc29",
   "metadata": {},
   "outputs": [
    {
     "name": "stdout",
     "output_type": "stream",
     "text": [
      "ftsN 1133 2.407053324835352\n",
      "PSVB 4678 9.93838963246229\n",
      "francisella 496 1.0537497344380709\n",
      "5I_crop 4395 9.337157425111537\n",
      "serratia 1244 2.6428723178245166\n",
      "vibrio 2265 4.811982154238368\n",
      "murA 3336 7.087316762268961\n",
      "dnaA 2227 4.731251327809645\n",
      "ecoli_mut 1299 2.7597195666029317\n",
      "PAO1_staph 3688 7.835139154450818\n",
      "wiggins 9733 20.677714042914808\n",
      "streptomyces 270 0.5736137667304015\n",
      "A22 1409 2.993414064159762\n",
      "bthai 5122 10.88166560441895\n",
      "caulo 756 1.6061185468451242\n",
      "cex 4318 9.173571276821754\n",
      "hpylori 701 1.489271298066709\n"
     ]
    }
   ],
   "source": [
    "for i in range(len(names_train)):\n",
    "    tot = total_test[i]+total_train[i]\n",
    "    print(names_train[i],tot, tot/SUM*100)\n",
    "#     print(tot, tot/SUM*100)"
   ]
  },
  {
   "cell_type": "code",
   "execution_count": 271,
   "id": "7091cc57-8431-46b9-8ed8-04e43627cf59",
   "metadata": {},
   "outputs": [
    {
     "data": {
      "text/plain": [
       "[270,\n",
       " 496,\n",
       " 701,\n",
       " 756,\n",
       " 1133,\n",
       " 1244,\n",
       " 1299,\n",
       " 1409,\n",
       " 2227,\n",
       " 2265,\n",
       " 3336,\n",
       " 3688,\n",
       " 4318,\n",
       " 4395,\n",
       " 4678,\n",
       " 5122,\n",
       " 9733]"
      ]
     },
     "execution_count": 271,
     "metadata": {},
     "output_type": "execute_result"
    }
   ],
   "source": [
    "sorted(np.array(total_test)+total_train)"
   ]
  },
  {
   "cell_type": "code",
   "execution_count": 265,
   "id": "b0e155c7-0c68-4707-8d21-1b999c731926",
   "metadata": {},
   "outputs": [],
   "source": [
    "p = []\n",
    "for i in range(len(names_train)):\n",
    "    tot = total_test[i]+total_train[i]\n",
    "    p.append(tot/SUM*100)"
   ]
  },
  {
   "cell_type": "code",
   "execution_count": 266,
   "id": "98a1b0a4-8bcb-42d6-93c7-fd33d7229ea3",
   "metadata": {},
   "outputs": [
    {
     "data": {
      "text/plain": [
       "[0.5736137667304015,\n",
       " 1.0537497344380709,\n",
       " 1.489271298066709,\n",
       " 1.6061185468451242,\n",
       " 2.407053324835352,\n",
       " 2.6428723178245166,\n",
       " 2.7597195666029317,\n",
       " 2.993414064159762,\n",
       " 4.731251327809645,\n",
       " 4.811982154238368,\n",
       " 7.087316762268961,\n",
       " 7.835139154450818,\n",
       " 9.173571276821754,\n",
       " 9.337157425111537,\n",
       " 9.93838963246229,\n",
       " 10.88166560441895,\n",
       " 20.677714042914808]"
      ]
     },
     "execution_count": 266,
     "metadata": {},
     "output_type": "execute_result"
    }
   ],
   "source": [
    "sorted(p)"
   ]
  },
  {
   "cell_type": "code",
   "execution_count": null,
   "id": "9a416ad5-55a6-44f5-a0f6-0efbe89d7eb6",
   "metadata": {},
   "outputs": [],
   "source": []
  }
 ],
 "metadata": {
  "kernelspec": {
   "display_name": "Python 3 (ipykernel)",
   "language": "python",
   "name": "python3"
  },
  "language_info": {
   "codemirror_mode": {
    "name": "ipython",
    "version": 3
   },
   "file_extension": ".py",
   "mimetype": "text/x-python",
   "name": "python",
   "nbconvert_exporter": "python",
   "pygments_lexer": "ipython3",
   "version": "3.9.7"
  }
 },
 "nbformat": 4,
 "nbformat_minor": 5
}
