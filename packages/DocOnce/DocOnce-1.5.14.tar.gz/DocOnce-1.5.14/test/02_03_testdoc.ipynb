{
 "metadata":{},
 "nbformat":4,
 "nbformat_minor":5,
 "cells":[
  {
   "cell_type":"markdown",
   "id":"ad616a6d",
   "metadata":{
    "editable":true
   },
   "source":[
    "<!-- jupyter-book 02_03_testdoc.ipynb -->"
   ]
  },
  {
   "cell_type":"markdown",
   "id":"36001352",
   "metadata":{
    "editable":true
   },
   "source":[
    "# The $\\theta$ parameter (not $\\nabla$?)\n",
    "\n",
    "<div id=\"decay:sec:theta\"></div>\n",
    "\n",
    "Functions do not always need to be advanced, here is one\n",
    "involving $\\theta$:"
   ]
  },
  {
   "cell_type":"markdown",
   "id":"108d6a40",
   "metadata":{
    "editable":true
   },
   "source":[
    "        def f(theta):\n",
    "            return theta**2\n"
   ]
  },
  {
   "cell_type":"markdown",
   "id":"29a423c9",
   "metadata":{
    "editable":true
   },
   "source":[
    "**More on $\\theta$.** Here is more text following headline with math.\n",
    "\n",
    "Newcommands must also be tested in this test report:\n",
    "$\\frac{1}{2}$, ${1/2}$, $\\pmb{x}$, $\\frac{Du}{dt}$,\n",
    "both inline and in block:"
   ]
  },
  {
   "cell_type":"markdown",
   "id":"ac6c830f",
   "metadata":{
    "editable":true
   },
   "source":[
    "$$\n",
    "\\frac{Du}{dt} = 0\\nonumber\n",
    "$$"
   ]
  },
  {
   "cell_type":"markdown",
   "id":"ee0eb99d",
   "metadata":{
    "editable":true
   },
   "source":[
    "<!-- Equation labels as ordinary links -->\n",
    "<div id=\"_auto1\"></div>\n",
    "\n",
    "$$\n",
    "\\begin{equation}  \n",
    "\\frac{1}{2} = {1/2}\n",
    "\\label{_auto1} \\tag{1}\n",
    "\\end{equation}\n",
    "$$"
   ]
  },
  {
   "cell_type":"markdown",
   "id":"06a96492",
   "metadata":{
    "editable":true
   },
   "source":[
    "<!-- Equation labels as ordinary links -->\n",
    "<div id=\"_auto2\"></div>\n",
    "\n",
    "$$\n",
    "\\begin{equation}  \n",
    "\\frac{1}{2}\\pmb{x} = \\pmb{n}\n",
    "\\label{_auto2} \\tag{2}\n",
    "\\end{equation}\n",
    "$$"
   ]
  },
  {
   "cell_type":"markdown",
   "id":"b1a075f4",
   "metadata":{
    "editable":true
   },
   "source":[
    "Or with align with label and numbers:"
   ]
  },
  {
   "cell_type":"markdown",
   "id":"d0e3f02d",
   "metadata":{
    "editable":true
   },
   "source":[
    "<!-- Equation labels as ordinary links -->\n",
    "<div id=\"aligneq1\"></div>\n",
    "\n",
    "$$\n",
    "\\begin{equation}\n",
    "\\frac{Du}{dt} = 0\n",
    "\\label{aligneq1} \\tag{3}\n",
    "\\end{equation}\n",
    "$$"
   ]
  },
  {
   "cell_type":"markdown",
   "id":"8e954f9d",
   "metadata":{
    "editable":true
   },
   "source":[
    "<!-- Equation labels as ordinary links -->\n",
    "<div id=\"_auto3\"></div>\n",
    "\n",
    "$$\n",
    "\\begin{equation}  \n",
    "\\frac{1}{2} = {1/2}\n",
    "\\label{_auto3} \\tag{4}\n",
    "\\end{equation}\n",
    "$$"
   ]
  },
  {
   "cell_type":"markdown",
   "id":"d5dd5b4f",
   "metadata":{
    "editable":true
   },
   "source":[
    "<!-- Equation labels as ordinary links -->\n",
    "<div id=\"aligneq2\"></div>\n",
    "\n",
    "$$\n",
    "\\begin{equation}  \n",
    "\\frac{1}{2}\\pmb{x} = \\pmb{n}\n",
    "\\label{aligneq2} \\tag{5}\n",
    "\\end{equation}\n",
    "$$"
   ]
  }
 ]
}