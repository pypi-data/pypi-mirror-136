{
 "metadata":{},
 "nbformat":4,
 "nbformat_minor":5,
 "cells":[
  {
   "cell_type":"markdown",
   "id":"802f6726",
   "metadata":{
    "editable":true
   },
   "source":[
    "<!-- jupyter-book 02_18_testdoc.ipynb -->"
   ]
  },
  {
   "cell_type":"markdown",
   "id":"ed2121a4",
   "metadata":{
    "editable":true
   },
   "source":[
    "# The middle has `verbatim` word\n",
    "\n",
    "Some text.\n",
    "\n",
    "***Just emphasize*.** Some text.\n",
    "\n",
    "**`Just verbatim`.** Some text.\n",
    "\n",
    "***Emphasize* beginning.** Some text.\n",
    "\n",
    "**`Verbatim beginning`.** Some text.\n",
    "\n",
    "**Maybe *emphasize end*.** Some text.\n",
    "\n",
    "**Maybe `verbatim end`.** Some text.\n",
    "\n",
    "**The middle has *emphasize* word.** Some text.\n",
    "\n",
    "**The middle has `verbatim` word.** Some text.\n",
    "\n",
    "**Ampersand.**\n",
    "We can test Hennes & Mauritz, often abbreviated H&M, but written\n",
    "as `Hennes & Mauritz` and `H & M`.\n",
    "A sole `&` must also work.\n",
    "<!-- Note: substitutions must not occur inside verbatim, just in ordinary text. -->"
   ]
  },
  {
   "cell_type":"markdown",
   "id":"e0c5aa21",
   "metadata":{
    "editable":true
   },
   "source":[
    "        # Just to check that ampersand works in code blocks:\n",
    "        c = a & b\n"
   ]
  },
  {
   "cell_type":"markdown",
   "id":"4fca4191",
   "metadata":{
    "editable":true
   },
   "source":[
    "**Quotes.**\n",
    "Let us also add a test of quotes such as \"double quotes, with numbers\n",
    "like 3.14 and newline/comma and hyphen (as in double-quote)\"; written\n",
    "in the standard LaTeX-style that gives correct LaTeX formatting and\n",
    "ordinary double quotes for all non-LaTeX formats.  Here is another\n",
    "sentence that \"caused\" a bug in the past because double backtick\n",
    "quotes could imply verbatim text up to a verbatim word starting with\n",
    "period, like `.txt`.\n",
    "\n",
    "More quotes to be tested for spellcheck:\n",
    "(\"with parenthesis\"), \"with newline\"\n",
    "and \"with comma\", \"hyphen\"-wise, and \"period\"."
   ]
  }
 ]
}