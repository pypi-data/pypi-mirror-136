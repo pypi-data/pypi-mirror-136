{
 "metadata":{},
 "nbformat":4,
 "nbformat_minor":5,
 "cells":[
  {
   "cell_type":"markdown",
   "id":"ac0ff278",
   "metadata":{
    "editable":true
   },
   "source":[
    "<!-- jupyter-book 02_21_testdoc.ipynb -->"
   ]
  },
  {
   "cell_type":"markdown",
   "id":"303a6818",
   "metadata":{
    "editable":true
   },
   "source":[
    "# User-defined environments\n",
    "\n",
    "The example in the section [Example 1: A test function](02_21_testdoc.html#ex:test:1p1) demonstrates how to write a test function.\n",
    "That is, a special test function for a function `add` appears in\n",
    "the example in the section [Example 1: A test function](02_21_testdoc.html#ex:test:1p1)."
   ]
  },
  {
   "cell_type":"markdown",
   "id":"f1d9dbb6",
   "metadata":{
    "editable":true
   },
   "source":[
    "## Example 1: A test function\n",
    "<div id=\"ex:test:1p1\"></div>\n",
    "\n",
    "Suppose we want to write a test function for checking the\n",
    "implementation of a Python function for addition."
   ]
  },
  {
   "cell_type":"code",
   "execution_count":8,
   "id":"428e3bcf",
   "metadata":{
    "collapsed":false,
    "editable":true
   },
   "outputs":[],
   "source":[
    "def add(a, b):\n",
    "    return a + b\n",
    "\n",
    "def test_add():\n",
    "    a = 1; b = 1\n",
    "    expected = a + b\n",
    "    computed = add(a, b)\n",
    "    assert expected == computed"
   ]
  },
  {
   "cell_type":"markdown",
   "id":"080f02f1",
   "metadata":{
    "editable":true
   },
   "source":[
    "## Example 2: Addition\n",
    "<div id=\"ex:math:1p1\"></div>\n",
    "\n",
    "We have"
   ]
  },
  {
   "cell_type":"markdown",
   "id":"5a1093fd",
   "metadata":{
    "editable":true
   },
   "source":[
    "$$\n",
    "1 + 1 = 2\n",
    "$$"
   ]
  },
  {
   "cell_type":"markdown",
   "id":"43669af2",
   "metadata":{
    "editable":true
   },
   "source":[
    "or in tabular form:\n",
    "\n",
    "<table class=\"dotable\" border=\"1\">\n",
    "<thead>\n",
    "<tr><th align=\"center\">Problem</th> <th align=\"center\">Result</th> </tr>\n",
    "</thead>\n",
    "<tbody>\n",
    "<tr><td align=\"center\">   $1+1$      </td> <td align=\"center\">   $2$       </td> </tr>\n",
    "</tbody>\n",
    "</table>\n",
    "\n",
    "**Highlight box!**\n",
    "\n",
    "This environment is used to highlight something:"
   ]
  },
  {
   "cell_type":"markdown",
   "id":"c7acfdb2",
   "metadata":{
    "editable":true
   },
   "source":[
    "$$\n",
    "E = mc^2\n",
    "$$"
   ]
  }
 ]
}