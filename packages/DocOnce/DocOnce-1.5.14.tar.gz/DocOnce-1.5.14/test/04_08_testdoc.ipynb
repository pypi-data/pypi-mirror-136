{
 "metadata":{},
 "nbformat":4,
 "nbformat_minor":5,
 "cells":[
  {
   "cell_type":"markdown",
   "id":"2a6a01c5",
   "metadata":{
    "editable":true
   },
   "source":[
    "<!-- jupyter-book 04_08_testdoc.ipynb -->"
   ]
  },
  {
   "cell_type":"markdown",
   "id":"1b6ddf9b",
   "metadata":{
    "editable":true
   },
   "source":[
    "# Exercise: Solution of differential equation\n",
    "\n",
    "<div id=\"sec:this:exer:de\"></div>\n",
    "\n",
    "**Question:** Given"
   ]
  },
  {
   "cell_type":"markdown",
   "id":"1eea1b20",
   "metadata":{
    "editable":true
   },
   "source":[
    "$$\n",
    "\\frac{dy}{dx} = -y(x),\\quad y(0)=1\n",
    "$$"
   ]
  },
  {
   "cell_type":"markdown",
   "id":"f093b0a3",
   "metadata":{
    "editable":true
   },
   "source":[
    "What is the solution of this equation?\n",
    "\n",
    "**Choice A:**\n",
    " $y=e^{-y}$\n",
    "\n",
    "**Choice B:**\n",
    " $y=e^{y}$\n",
    "\n",
    "**Choice C:**"
   ]
  },
  {
   "cell_type":"code",
   "execution_count":11,
   "id":"cf52b06a",
   "metadata":{
    "collapsed":false,
    "editable":true
   },
   "outputs":[],
   "source":[
    "from math import exp\n",
    "def f(x):\n",
    "    return exp(x)"
   ]
  },
  {
   "cell_type":"markdown",
   "id":"3f5a98d0",
   "metadata":{
    "editable":true
   },
   "source":[
    "**Choice D:**\n",
    " The solution cannot be found because there is a derivative in the equation.\n",
    "\n",
    "**Choice E:**\n",
    " The equation is meaningless: an equation must be an equation\n",
    "for $x$ or $y$, not a function $y(x)$."
   ]
  }
 ]
}