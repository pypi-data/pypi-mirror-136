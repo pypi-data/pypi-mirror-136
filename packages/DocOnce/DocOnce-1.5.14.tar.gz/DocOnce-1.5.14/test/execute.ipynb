{
 "cells": [
  {
   "cell_type": "markdown",
   "id": "45f40671",
   "metadata": {
    "editable": true
   },
   "source": [
    "<!-- File automatically generated using DocOnce (https://github.com/doconce/doconce/):\n",
    "doconce format ipynb execute.do.txt --examples_as_exercises --execute -->\n",
    "\n",
    "# Automatic execution of code blocks\n",
    "\n",
    "Convert this document to `ipynb`, `latex` or `html` with e.g.:"
   ]
  },
  {
   "cell_type": "markdown",
   "id": "f52620db",
   "metadata": {
    "editable": true
   },
   "source": [
    "```\n",
    "        doconce format ipynb execute.do.txt --execute\n",
    "```"
   ]
  },
  {
   "cell_type": "markdown",
   "id": "a91e93c0",
   "metadata": {
    "editable": true
   },
   "source": [
    "# Code blocks in different languages"
   ]
  },
  {
   "cell_type": "markdown",
   "id": "069c05d9",
   "metadata": {
    "editable": true
   },
   "source": [
    "## Python\n",
    "\n",
    "Python code"
   ]
  },
  {
   "cell_type": "code",
   "execution_count": 1,
   "id": "4f4f25f6",
   "metadata": {
    "collapsed": false,
    "editable": true
   },
   "outputs": [],
   "source": [
    "for i in [1,2,3]:\n",
    "  print(i)"
   ]
  },
  {
   "cell_type": "code",
   "execution_count": 2,
   "id": "4d17c510",
   "metadata": {
    "collapsed": false,
    "editable": true
   },
   "outputs": [
    {
     "name": "stdout",
     "output_type": "stream",
     "text": [
      "3\n"
     ]
    }
   ],
   "source": [
    "print(i)"
   ]
  },
  {
   "cell_type": "markdown",
   "id": "be566d79",
   "metadata": {
    "editable": true
   },
   "source": [
    "## Bash\n",
    "Bash code"
   ]
  },
  {
   "cell_type": "markdown",
   "id": "fac33a75",
   "metadata": {
    "editable": true
   },
   "source": [
    "        if [ 1 -eq 1 ] ; then echo 1; fi\n",
    "        var_bash=10\n"
   ]
  },
  {
   "cell_type": "markdown",
   "id": "765c17f1",
   "metadata": {
    "editable": true
   },
   "source": [
    "        echo $var_bash\n"
   ]
  },
  {
   "cell_type": "markdown",
   "id": "aab20f88",
   "metadata": {
    "editable": true
   },
   "source": [
    "## Julia\n",
    "\n",
    "Julia code"
   ]
  },
  {
   "cell_type": "markdown",
   "id": "2c5bb122",
   "metadata": {
    "editable": true
   },
   "source": [
    "        var_julia = 11\n",
    "        print(var_julia)\n"
   ]
  },
  {
   "cell_type": "markdown",
   "id": "4e00521a",
   "metadata": {
    "editable": true
   },
   "source": [
    "        for n = 2:4\n",
    "          var_julia = var_julia + n\n",
    "        end\n",
    "        print(var_julia)\n"
   ]
  },
  {
   "cell_type": "markdown",
   "id": "ab727d8f",
   "metadata": {
    "editable": true
   },
   "source": [
    "## R \n",
    "\n",
    "R code"
   ]
  },
  {
   "cell_type": "markdown",
   "id": "e1f30616",
   "metadata": {
    "editable": true
   },
   "source": [
    "        x <- 1:3\n",
    "        print(x)\n",
    "        #pdf(\"plot.pdf\")\n",
    "        plot(x)\n",
    "        #dev.off()\n"
   ]
  },
  {
   "cell_type": "markdown",
   "id": "2dc30ebc",
   "metadata": {
    "editable": true
   },
   "source": [
    "## Other languages\n",
    "\n",
    "Then Cython (with -h option so it is hidden in html/sphinx):"
   ]
  },
  {
   "cell_type": "markdown",
   "id": "4e9cecd8",
   "metadata": {
    "editable": true
   },
   "source": [
    "        cpdef f(double x):\n",
    "            return x + 1\n"
   ]
  },
  {
   "cell_type": "markdown",
   "id": "0f076fb8",
   "metadata": {
    "editable": true
   },
   "source": [
    "Java code"
   ]
  },
  {
   "cell_type": "markdown",
   "id": "9c353c10",
   "metadata": {
    "editable": true
   },
   "source": [
    "        for (int i = 0; i < 5; i++) {\n",
    "          System.out.println(i);\n",
    "        }\n"
   ]
  },
  {
   "cell_type": "markdown",
   "id": "52b971fd",
   "metadata": {
    "editable": true
   },
   "source": [
    "Javascript code"
   ]
  },
  {
   "cell_type": "markdown",
   "id": "d90c168d",
   "metadata": {
    "editable": true
   },
   "source": [
    "        for (var x in [0,1,2]) {console.log(x)}\n"
   ]
  },
  {
   "cell_type": "markdown",
   "id": "a7674f17",
   "metadata": {
    "editable": true
   },
   "source": [
    "matlab code"
   ]
  },
  {
   "cell_type": "markdown",
   "id": "597d1d0f",
   "metadata": {
    "editable": true
   },
   "source": [
    "        for i = 1:2:10\n",
    "          disp(A(i))\n",
    "        end\n"
   ]
  },
  {
   "cell_type": "markdown",
   "id": "2006e255",
   "metadata": {
    "editable": true
   },
   "source": [
    "html code"
   ]
  },
  {
   "cell_type": "markdown",
   "id": "fc2bd266",
   "metadata": {
    "editable": true
   },
   "source": [
    "        <a href='test'></a>\n"
   ]
  },
  {
   "cell_type": "markdown",
   "id": "e3aff7cc",
   "metadata": {
    "editable": true
   },
   "source": [
    "C code"
   ]
  },
  {
   "cell_type": "markdown",
   "id": "00098c37",
   "metadata": {
    "editable": true
   },
   "source": [
    "        #include <stdio.h>\n",
    "        \n",
    "        int main() {\n",
    "          int i;\n",
    "        \n",
    "          for (i = 1; i < 11; ++i)\n",
    "          {\n",
    "            printf(\"%d \", i);\n",
    "          }\n",
    "          return 0;\n",
    "        }\n"
   ]
  },
  {
   "cell_type": "markdown",
   "id": "77f540f6",
   "metadata": {
    "editable": true
   },
   "source": [
    "# Code block environments\n",
    "\n",
    "Hidden execution cells (`pyhid`, `pycod-e`) can be used to perform operations (e.g. imports, variable initializations) without showing any cell.\n",
    "The `pyhid` environment executes and hides the cell in formats other than .ipynb:\n",
    "\n",
    "This is a normal python block using the `pycod` environment"
   ]
  },
  {
   "cell_type": "code",
   "execution_count": 3,
   "id": "81950b89",
   "metadata": {
    "collapsed": false,
    "editable": true
   },
   "outputs": [
    {
     "name": "stdout",
     "output_type": "stream",
     "text": [
      "pycod\n"
     ]
    }
   ],
   "source": [
    "print('pycod')"
   ]
  },
  {
   "cell_type": "code",
   "execution_count": 4,
   "id": "8a0f9a84",
   "metadata": {
    "collapsed": true,
    "editable": true
   },
   "outputs": [
    {
     "name": "stdout",
     "output_type": "stream",
     "text": [
      "hide pyhyd\n"
     ]
    }
   ],
   "source": [
    "# This cell appears in ipynb but not in other formats\n",
    "import sys\n",
    "print('hide pyhyd')"
   ]
  },
  {
   "cell_type": "markdown",
   "id": "b2210c06",
   "metadata": {
    "editable": true
   },
   "source": [
    "The `pycod-e` environment executes but hides the cell also in .ipynb files:"
   ]
  },
  {
   "cell_type": "markdown",
   "id": "b025719b",
   "metadata": {
    "editable": true
   },
   "source": [
    "`pycod` is a normal cell that should execute automatically when using `--execute`. Note that this cells relies on code executed in a previous hidden cell:"
   ]
  },
  {
   "cell_type": "code",
   "execution_count": 6,
   "id": "d9158851",
   "metadata": {
    "collapsed": false,
    "editable": true
   },
   "outputs": [
    {
     "name": "stdout",
     "output_type": "stream",
     "text": [
      "3.9.0 (default, Nov 15 2020, 14:28:56) \n",
      "[GCC 7.3.0]\n",
      "The result is 3\n"
     ]
    },
    {
     "data": {
      "text/plain": [
       "3"
      ]
     },
     "execution_count": 6,
     "metadata": {},
     "output_type": "execute_result"
    }
   ],
   "source": [
    "print(sys.version)\n",
    "b = 2\n",
    "c = a + b\n",
    "print(\"The result is {}\".format(c))\n",
    "c"
   ]
  },
  {
   "cell_type": "markdown",
   "id": "d1f41c38",
   "metadata": {
    "editable": true
   },
   "source": [
    "# Special environments\n",
    "\n",
    "The `*-t` environment (e.g. `pycod-t`) formats a cell to text, and can be used to print an example"
   ]
  },
  {
   "cell_type": "markdown",
   "id": "92c2decd",
   "metadata": {
    "editable": true
   },
   "source": [
    "```Python\n",
    "        # This is a for-loop example\n",
    "        for i in [0,10]:\n",
    "          print(i)\n",
    "```"
   ]
  },
  {
   "cell_type": "markdown",
   "id": "64f6bab1",
   "metadata": {
    "editable": true
   },
   "source": [
    "The `*out`  (e.g. `pycod-out`) environment can be used to write a cell output:"
   ]
  },
  {
   "cell_type": "markdown",
   "id": "3e4be98f",
   "metadata": {
    "editable": true
   },
   "source": [
    "```Python\n",
    "        # This is a text cell using pycod-t\n",
    "        1/0\n",
    "```"
   ]
  },
  {
   "cell_type": "code",
   "execution_count": 7,
   "id": "d9910ea9",
   "metadata": {
    "collapsed": false
   },
   "outputs": [
    {
     "data": {
      "text/plain": [
       "# This is a output cell using the `pycod-out` environment\n1/0: You cannot divide by zero"
      ]
     },
     "execution_count": 6,
     "metadata": {},
     "output_type": "execute_result"
    }
   ],
   "source": [
    "#"
   ]
  },
  {
   "cell_type": "markdown",
   "id": "1f7fe5a9",
   "metadata": {
    "editable": true
   },
   "source": [
    "The `-h` postfix can be used in the `html` format to show a Show/Hide button that toggles the code visibility.\n",
    "\n",
    "The `pyscpro` environment creates an interactive cell using [Sage](https://github.com/sagemath/sagecell/) in the `html` format"
   ]
  },
  {
   "cell_type": "markdown",
   "id": "5bd8dcff",
   "metadata": {
    "editable": true
   },
   "source": [
    "# Plotting\n",
    "\n",
    "This is a cell that should plot and output:"
   ]
  },
  {
   "cell_type": "code",
   "execution_count": 7,
   "id": "79b47ffa",
   "metadata": {
    "collapsed": false,
    "editable": true
   },
   "outputs": [
    {
     "data": {
      "image/png": "[encoded data removed]",
      "text/plain": [
       "<Figure size 432x288 with 1 Axes>"
      ]
     },
     "metadata": {
      "needs_background": "light"
     },
     "output_type": "display_data"
    }
   ],
   "source": [
    "from pylab import *\n",
    "x = linspace(0, 10, 100)\n",
    "plot(x, x*x)\n",
    "show()"
   ]
  },
  {
   "cell_type": "markdown",
   "id": "0f691600",
   "metadata": {
    "editable": true
   },
   "source": [
    "*Figure: $y=x^2$*\n",
    "<div id=\"python_plot\"></div>\n",
    "\n",
    "We can now refer to this plot as Figure [python_plot](#python_plot).\n",
    "\n",
    "To improve quality when exporting to LaTeX, the following code has automatically\n",
    "been run to enable PDF export in notebooks."
   ]
  },
  {
   "cell_type": "markdown",
   "id": "15ac5506",
   "metadata": {
    "editable": true
   },
   "source": [
    "```Python\n",
    "        from IPython.display import set_matplotlib_formats\n",
    "        set_matplotlib_formats('png', 'pdf')\n",
    "```"
   ]
  },
  {
   "cell_type": "markdown",
   "id": "69e0884a",
   "metadata": {
    "editable": true
   },
   "source": [
    "# Ignore output\n",
    "\n",
    "Predefined output can be omitted by passing `--ignore_output` to DocOnce.\n",
    "This will remove all environments ending with `out`."
   ]
  },
  {
   "cell_type": "code",
   "execution_count": 8,
   "id": "35016b66",
   "metadata": {
    "collapsed": false,
    "editable": true
   },
   "outputs": [
    {
     "data": {
      "text/plain": [
       "2"
      ]
     },
     "execution_count": 8,
     "metadata": {},
     "output_type": "execute_result"
    }
   ],
   "source": [
    "a = 2\n",
    "print(a)"
   ]
  },
  {
   "cell_type": "markdown",
   "id": "2c26cc46",
   "metadata": {
    "editable": true
   },
   "source": [
    "# Code with errors\n",
    "\n",
    "If code contains errors, it will still be run and the exception shown as part\n",
    "of the output:"
   ]
  },
  {
   "cell_type": "code",
   "execution_count": 9,
   "id": "b7940f8e",
   "metadata": {
    "collapsed": false,
    "editable": true
   },
   "outputs": [
    {
     "ename": "SyntaxError",
     "evalue": "invalid syntax (1044153563.py, line 1)",
     "output_type": "error",
     "traceback": [
      "\u001b[0;36m  File \u001b[0;32m\"/tmp/ipykernel_648/1044153563.py\"\u001b[0;36m, line \u001b[0;32m1\u001b[0m\n\u001b[0;31m    for a in range(10)\u001b[0m\n\u001b[0m                      ^\u001b[0m\n\u001b[0;31mSyntaxError\u001b[0m\u001b[0;31m:\u001b[0m invalid syntax\n"
     ]
    }
   ],
   "source": [
    "for a in range(10)\n",
    "    print(a)"
   ]
  },
  {
   "cell_type": "markdown",
   "id": "2941daad",
   "metadata": {
    "editable": true
   },
   "source": [
    "# Opening files\n",
    "\n",
    "The working directory is the same as the .do.txt file.\n",
    "You may want to use `os.chdir` to change the directory."
   ]
  },
  {
   "cell_type": "code",
   "execution_count": 10,
   "id": "d5710d75",
   "metadata": {
    "collapsed": false,
    "editable": true
   },
   "outputs": [
    {
     "name": "stdout",
     "output_type": "stream",
     "text": [
      "Copyright (c) 2007-2015, Hans Petter Langtangen <hpl@simula.no> and\n",
      "Simula Resarch Laboratory.\n",
      "\n",
      "All rights reserved.\n",
      "\n",
      "Redistribution and use in source and binary forms, with or without\n",
      "modification, are permitted provided that the following conditions are\n",
      "met:\n",
      "\n",
      "    * Redistributions of source code must retain the above copyright\n",
      "      notice, this list of conditions and the following disclaimer.\n",
      "\n",
      "    * Redistributions in binary form must reproduce the above copyright\n",
      "      notice, this list of conditions and the following disclaimer in\n",
      "      the documentation and/or other materials provided with the\n",
      "      distribution.\n",
      "\n",
      "    * Neither the name of Simula Research Laboratory nor the names of\n",
      "      its contributors may be used to endorse or promote products\n",
      "      derived from this software without specific prior written\n",
      "      permission.\n",
      "\n",
      "THIS SOFTWARE IS PROVIDED BY THE COPYRIGHT HOLDERS AND CONTRIBUTORS\n",
      "\"AS IS\" AND ANY EXPRESS OR IMPLIED WARRANTIES, INCLUDING, BUT NOT\n",
      "LIMITED TO, THE IMPLIED WARRANTIES OF MERCHANTABILITY AND FITNESS FOR\n",
      "A PARTICULAR PURPOSE ARE DISCLAIMED. IN NO EVENT SHALL THE COPYRIGHT\n",
      "OWNER OR CONTRIBUTORS BE LIABLE FOR ANY DIRECT, INDIRECT, INCIDENTAL,\n",
      "SPECIAL, EXEMPLARY, OR CONSEQUENTIAL DAMAGES (INCLUDING, BUT NOT LIMITED\n",
      "TO, PROCUREMENT OF SUBSTITUTE GOODS OR SERVICES; LOSS OF USE, DATA, OR\n",
      "PROFITS; OR BUSINESS INTERRUPTION) HOWEVER CAUSED AND ON ANY THEORY OF\n",
      "LIABILITY, WHETHER IN CONTRACT, STRICT LIABILITY, OR TORT (INCLUDING\n",
      "NEGLIGENCE OR OTHERWISE) ARISING IN ANY WAY OUT OF THE USE OF THIS\n",
      "SOFTWARE, EVEN IF ADVISED OF THE POSSIBILITY OF SUCH DAMAGE.\n",
      "\n",
      "Remarks:\n",
      "\n",
      "The figure and movie files in doc/manual/* were made by the Doconce\n",
      "author and is released under the same conditions as Doconce.\n",
      "\n",
      "\n"
     ]
    }
   ],
   "source": [
    "with open(\"../LICENSE\") as f:\n",
    "    print(f.read())"
   ]
  }
 ],
 "metadata": {},
 "nbformat": 4,
 "nbformat_minor": 5
}
