{
 "cells": [
  {
   "cell_type": "markdown",
   "id": "4ad492bd",
   "metadata": {},
   "source": [
    "### Import the librairies"
   ]
  },
  {
   "cell_type": "code",
   "execution_count": 1,
   "id": "ed79e512",
   "metadata": {},
   "outputs": [
    {
     "ename": "ModuleNotFoundError",
     "evalue": "No module named 'geodezyx'",
     "output_type": "error",
     "traceback": [
      "\u001b[0;31m---------------------------------------------------------------------------\u001b[0m",
      "\u001b[0;31mModuleNotFoundError\u001b[0m                       Traceback (most recent call last)",
      "\u001b[0;32m<ipython-input-1-deb73ab47224>\u001b[0m in \u001b[0;36m<module>\u001b[0;34m\u001b[0m\n\u001b[1;32m      1\u001b[0m \u001b[0;31m#### Import star style\u001b[0m\u001b[0;34m\u001b[0m\u001b[0;34m\u001b[0m\u001b[0;34m\u001b[0m\u001b[0m\n\u001b[0;32m----> 2\u001b[0;31m \u001b[0;32mfrom\u001b[0m \u001b[0mgeodezyx\u001b[0m \u001b[0;32mimport\u001b[0m \u001b[0;34m*\u001b[0m                   \u001b[0;31m# Import the GeodeZYX modules\u001b[0m\u001b[0;34m\u001b[0m\u001b[0;34m\u001b[0m\u001b[0m\n\u001b[0m\u001b[1;32m      3\u001b[0m \u001b[0;32mfrom\u001b[0m \u001b[0mgeodezyx\u001b[0m\u001b[0;34m.\u001b[0m\u001b[0mexternlib\u001b[0m \u001b[0;32mimport\u001b[0m \u001b[0;34m*\u001b[0m         \u001b[0;31m# Import the external modules\u001b[0m\u001b[0;34m\u001b[0m\u001b[0;34m\u001b[0m\u001b[0m\n\u001b[1;32m      4\u001b[0m \u001b[0;32mfrom\u001b[0m \u001b[0mgeodezyx\u001b[0m\u001b[0;34m.\u001b[0m\u001b[0mmegalib\u001b[0m\u001b[0;34m.\u001b[0m\u001b[0mmegalib\u001b[0m \u001b[0;32mimport\u001b[0m \u001b[0;34m*\u001b[0m   \u001b[0;31m# Import the legacy modules names\u001b[0m\u001b[0;34m\u001b[0m\u001b[0;34m\u001b[0m\u001b[0m\n",
      "\u001b[0;31mModuleNotFoundError\u001b[0m: No module named 'geodezyx'"
     ]
    }
   ],
   "source": [
    "#### Import star style\n",
    "from geodezyx import *                   # Import the GeodeZYX modules\n",
    "from geodezyx.externlib import *         # Import the external modules\n",
    "from geodezyx.megalib.megalib import *   # Import the legacy modules names"
   ]
  },
  {
   "cell_type": "code",
   "execution_count": null,
   "id": "ff1a69a9",
   "metadata": {},
   "outputs": [],
   "source": []
  }
 ],
 "metadata": {
  "kernelspec": {
   "display_name": "Python 3",
   "language": "python",
   "name": "python3"
  },
  "language_info": {
   "codemirror_mode": {
    "name": "ipython",
    "version": 3
   },
   "file_extension": ".py",
   "mimetype": "text/x-python",
   "name": "python",
   "nbconvert_exporter": "python",
   "pygments_lexer": "ipython3",
   "version": "3.8.5"
  }
 },
 "nbformat": 4,
 "nbformat_minor": 5
}
