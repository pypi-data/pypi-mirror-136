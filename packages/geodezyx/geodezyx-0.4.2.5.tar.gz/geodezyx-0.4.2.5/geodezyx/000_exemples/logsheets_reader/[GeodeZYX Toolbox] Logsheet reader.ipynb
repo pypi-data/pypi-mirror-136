{
 "cells": [
  {
   "cell_type": "markdown",
   "metadata": {},
   "source": [
    "# Logsheet Reader\n",
    "\n",
    "The Logsheets (a.k.a. Sitelogs) are an IGS conventionnal format describing the general configuration and material changes of a GNSS Station.\n",
    "It can be considered as an ID card for each GNSS station.\n",
    "\n",
    "\n",
    "We describe here how to uses the fuctions to import Logsheets/Sitelogs data into a Python environnement."
   ]
  },
  {
   "cell_type": "markdown",
   "metadata": {},
   "source": [
    "### Import the librairies"
   ]
  },
  {
   "cell_type": "code",
   "execution_count": 2,
   "metadata": {},
   "outputs": [],
   "source": [
    "#### Import star style\n",
    "from geodezyx import *                   # Import the GeodeZYX modules\n",
    "from geodezyx.externlib import *         # Import the external modules\n",
    "from geodezyx.megalib.megalib import *   # Import the legacy modules names"
   ]
  },
  {
   "cell_type": "markdown",
   "metadata": {},
   "source": [
    "## Import the logsheets"
   ]
  },
  {
   "cell_type": "markdown",
   "metadata": {},
   "source": [
    "### Define the path containing the logsheets and list them"
   ]
  },
  {
   "cell_type": "code",
   "execution_count": 3,
   "metadata": {},
   "outputs": [],
   "source": [
    "path_logsheets = \"/home/psakicki/CODES/GeodeZYX-Toolbox_v4/geodezyx/000_exemples/logsheets_reader/logsheets_exemple/\""
   ]
  },
  {
   "cell_type": "code",
   "execution_count": 4,
   "metadata": {},
   "outputs": [],
   "source": [
    "List_logsheets = glob.glob(path_logsheets + \"*log\")"
   ]
  },
  {
   "cell_type": "markdown",
   "metadata": {},
   "source": [
    "### Read all the logsheets"
   ]
  },
  {
   "cell_type": "code",
   "execution_count": 5,
   "metadata": {},
   "outputs": [
    {
     "name": "stdout",
     "output_type": "stream",
     "text": [
      "INFO: logsheet_list: \n",
      "['/home/psakicki/CODES/GeodeZYX-Toolbox_v4/geodezyx/000_exemples/logsheets_reader/logsheets_exemple/tlse_20200518.log', '/home/psakicki/CODES/GeodeZYX-Toolbox_v4/geodezyx/000_exemples/logsheets_reader/logsheets_exemple/smne_20190313.log', '/home/psakicki/CODES/GeodeZYX-Toolbox_v4/geodezyx/000_exemples/logsheets_reader/logsheets_exemple/brst_20200511.log']\n"
     ]
    }
   ],
   "source": [
    "Sites_dict = files_rw.multi_logsheet_read(List_logsheets , return_dico=True, output_mode='pretty')"
   ]
  },
  {
   "cell_type": "markdown",
   "metadata": {},
   "source": [
    "## Exploit the imported data\n",
    "\n",
    "We return all the data in a dictionnary\n",
    "\n",
    "the dictionnary key is the 4-characters code of the station\n",
    "\n",
    "In this exemple we import BRST, TLSE and SMNE"
   ]
  },
  {
   "cell_type": "code",
   "execution_count": 6,
   "metadata": {},
   "outputs": [],
   "source": [
    "Period , Site , Loc = Sites_dict[\"BRST\"]"
   ]
  },
  {
   "cell_type": "markdown",
   "metadata": {},
   "source": [
    "Each dictionnary element contains a tuple made of:\n",
    "  * A list of Period tuples \n",
    "  * A list of Location Objects\n",
    "  * A list of Site Objects\n",
    "    \n",
    "We define each element bellow"
   ]
  },
  {
   "cell_type": "markdown",
   "metadata": {},
   "source": [
    "### About the Location Object"
   ]
  },
  {
   "cell_type": "code",
   "execution_count": 7,
   "metadata": {},
   "outputs": [
    {
     "name": "stdout",
     "output_type": "stream",
     "text": [
      "X:4231162.0,Y:-332747.0,Z:4745131.0,\n",
      "Ref. epoc.:2005-01-01 00:00:00\n"
     ]
    }
   ],
   "source": [
    "print(Loc)"
   ]
  },
  {
   "cell_type": "markdown",
   "metadata": {},
   "source": [
    "The attribute of the Location Object are based on the logsheet fields of the \"Location\" Block.\n",
    "(Spaces are replaced with underscores _)\n",
    "\n",
    "e.g. if you want to access to the name of the city where the station is located, or it's X coordinate:"
   ]
  },
  {
   "cell_type": "code",
   "execution_count": 8,
   "metadata": {
    "scrolled": true
   },
   "outputs": [
    {
     "name": "stdout",
     "output_type": "stream",
     "text": [
      "Brest\n",
      "4231162.0\n"
     ]
    }
   ],
   "source": [
    "print(Loc.City_or_Town)\n",
    "\n",
    "print(Loc.X_coordinate_m)"
   ]
  },
  {
   "cell_type": "markdown",
   "metadata": {},
   "source": [
    "Here is the list of the avaiable attributes\n",
    "\n",
    "<pre>\n",
    "{'City_or_Town': 'Brest',\n",
    " 'State_or_Province': 'Finistere',\n",
    " 'Country': 'France',\n",
    " 'Tectonic_Plate': 'EURASIAN',\n",
    " 'X_coordinate_m': 4231162.0,\n",
    " 'Y_coordinate_m': -332747.0,\n",
    " 'Z_coordinate_m': 4745131.0,\n",
    " 'Latitude': 0.0,\n",
    " 'Longitude': 0.0,\n",
    " 'Elevation_m_ellips': 65.5,\n",
    " 'Additional_Information': '(multiple lines)',\n",
    " 'X_velocity': 0.0,\n",
    " 'Y_velocity': 0.0,\n",
    " 'Z_velocity': 0.0,\n",
    " 'X_coordinate_sigma': 0.008,\n",
    " 'Y_coordinate_sigma': 0.008,\n",
    " 'Z_coordinate_sigma': 0.008,\n",
    " 'X_velocity_sigma': 0.008,\n",
    " 'Y_velocity_sigma': 0.008,\n",
    " 'Z_velocity_sigma': 0.008,\n",
    " 'Reference_epoch': datetime.datetime(2005, 1, 1, 0, 0),\n",
    " 'Site_Location_Information': '',\n",
    " 'Latitude_N_is_+': 482249.79,\n",
    " 'Longitude_E_is_+': -42947.76}\n",
    " </pre>"
   ]
  },
  {
   "cell_type": "markdown",
   "metadata": {},
   "source": [
    "you can access to this list with"
   ]
  },
  {
   "cell_type": "code",
   "execution_count": 9,
   "metadata": {},
   "outputs": [
    {
     "data": {
      "text/plain": [
       "{'City_or_Town': 'Brest',\n",
       " 'State_or_Province': 'Finistere',\n",
       " 'Country': 'France',\n",
       " 'Tectonic_Plate': 'EURASIAN',\n",
       " 'X_coordinate_m': 4231162.0,\n",
       " 'Y_coordinate_m': -332747.0,\n",
       " 'Z_coordinate_m': 4745131.0,\n",
       " 'Latitude': 0.0,\n",
       " 'Longitude': 0.0,\n",
       " 'Elevation_m_ellips': 65.5,\n",
       " 'Additional_Information': '(multiple lines)',\n",
       " 'X_velocity': 0.0,\n",
       " 'Y_velocity': 0.0,\n",
       " 'Z_velocity': 0.0,\n",
       " 'X_coordinate_sigma': 0.008,\n",
       " 'Y_coordinate_sigma': 0.008,\n",
       " 'Z_coordinate_sigma': 0.008,\n",
       " 'X_velocity_sigma': 0.008,\n",
       " 'Y_velocity_sigma': 0.008,\n",
       " 'Z_velocity_sigma': 0.008,\n",
       " 'Reference_epoch': datetime.datetime(2005, 1, 1, 0, 0),\n",
       " 'Site_Location_Information': '',\n",
       " 'Latitude_N_is_+': 482249.79,\n",
       " 'Longitude_E_is_+': -42947.76}"
      ]
     },
     "execution_count": 9,
     "metadata": {},
     "output_type": "execute_result"
    }
   ],
   "source": [
    "vars(Loc)"
   ]
  },
  {
   "cell_type": "markdown",
   "metadata": {},
   "source": [
    "### About the Site Object"
   ]
  },
  {
   "cell_type": "code",
   "execution_count": 10,
   "metadata": {},
   "outputs": [
    {
     "name": "stdout",
     "output_type": "stream",
     "text": [
      "Site Name   :Brest,\n",
      "Code        :BRST,\n",
      "Installation:1998-10-31T00:00Z\n"
     ]
    }
   ],
   "source": [
    "print(Site)"
   ]
  },
  {
   "cell_type": "markdown",
   "metadata": {},
   "source": [
    "The attribute of the Site Object are based on the logsheet fields of the \"Site\" Block.\n",
    "(Spaces are replaced with underscores _)\n",
    "\n",
    "e.g. if you want to access to the station Four Character ID, or it's Monument Foundation:"
   ]
  },
  {
   "cell_type": "code",
   "execution_count": 11,
   "metadata": {},
   "outputs": [
    {
     "name": "stdout",
     "output_type": "stream",
     "text": [
      "BRST\n",
      "TERRACE\n"
     ]
    }
   ],
   "source": [
    "print(Site.Four_Character_ID)\n",
    "print(Site.Monument_Foundation)"
   ]
  },
  {
   "cell_type": "markdown",
   "metadata": {},
   "source": [
    "Here is the list of the avaiable attributes\n",
    "\n",
    "<pre>\n",
    "{'Site_Name': 'Brest',\n",
    " 'Four_Character_ID': 'BRST',\n",
    " 'Monument_Inscription': 'NONE',\n",
    " '_Site__IERS_DOMES_Number': '10004M004',\n",
    " 'CDP_Number': '(A4)',\n",
    " 'Monument_Description': 'INOX PLATE ON TOP OF A METALLIC PILAR',\n",
    " 'Height_of_the_Monument': '2 m',\n",
    " 'Monument_Foundation': 'TERRACE',\n",
    " 'Foundation_Depth': '(m)',\n",
    " 'Marker_Description': 'HEMISPHERIC BRASS MARKER',\n",
    " 'Date_Installed': '1998-10-31T00:00Z',\n",
    " 'Geologic_Characteristic': 'BEDROCK',\n",
    " 'Bedrock_Type': 'METAMORPHIC',\n",
    " 'Bedrock_Condition': '(FRESH/JOINTED/WEATHERED)',\n",
    " 'Fracture_Spacing': '(0 cm/1-10 cm/11-50 cm/51-200 cm/over 200 cm)',\n",
    " 'Fault_zones_nearby': '(YES/NO/Name of the zone)',\n",
    " 'Distance_activity': '(multiple lines)',\n",
    " 'Additional_Information': 'Steel mast has been changed on',\n",
    " 'Site_Identification_of_th': 'GNSS Monument',\n",
    " '': '2007-04-19T18:00Z'}\n",
    " </pre>"
   ]
  },
  {
   "cell_type": "markdown",
   "metadata": {},
   "source": [
    "you can access to this list with"
   ]
  },
  {
   "cell_type": "code",
   "execution_count": 12,
   "metadata": {},
   "outputs": [
    {
     "data": {
      "text/plain": [
       "{'Site_Name': 'Brest',\n",
       " 'Four_Character_ID': 'BRST',\n",
       " 'Monument_Inscription': 'NONE',\n",
       " '_Site__IERS_DOMES_Number': '10004M004',\n",
       " 'CDP_Number': '(A4)',\n",
       " 'Monument_Description': 'INOX PLATE ON TOP OF A METALLIC PILAR',\n",
       " 'Height_of_the_Monument': '2 m',\n",
       " 'Monument_Foundation': 'TERRACE',\n",
       " 'Foundation_Depth': '(m)',\n",
       " 'Marker_Description': 'HEMISPHERIC BRASS MARKER',\n",
       " 'Date_Installed': '1998-10-31T00:00Z',\n",
       " 'Geologic_Characteristic': 'BEDROCK',\n",
       " 'Bedrock_Type': 'METAMORPHIC',\n",
       " 'Bedrock_Condition': '(FRESH/JOINTED/WEATHERED)',\n",
       " 'Fracture_Spacing': '(0 cm/1-10 cm/11-50 cm/51-200 cm/over 200 cm)',\n",
       " 'Fault_zones_nearby': '(YES/NO/Name of the zone)',\n",
       " 'Distance_activity': '(multiple lines)',\n",
       " 'Additional_Information': 'Steel mast has been changed on',\n",
       " 'Site_Identification_of_th': 'GNSS Monument',\n",
       " '': '2007-04-19T18:00Z'}"
      ]
     },
     "execution_count": 12,
     "metadata": {},
     "output_type": "execute_result"
    }
   ],
   "source": [
    "vars(Site)"
   ]
  },
  {
   "cell_type": "markdown",
   "metadata": {},
   "source": [
    "### About the period Tuples"
   ]
  },
  {
   "cell_type": "markdown",
   "metadata": {},
   "source": [
    "This is the most useful part. It will record every change on the material.\n",
    "each row of the DataFrame represents one period with an indentical configuration.\n",
    "\n",
    "The DataFrame is 4-columns wide. The column's name are:\n",
    "<pre>\n",
    "'start','end', 'ant', 'rec'\n",
    "</pre>\n",
    "\n",
    "NB: you must use the `output_mode='pretty'` option in `files_rw.multi_logsheet_read` for such DataFrame output"
   ]
  },
  {
   "cell_type": "markdown",
   "metadata": {},
   "source": [
    "The full Period DataFrame:"
   ]
  },
  {
   "cell_type": "code",
   "execution_count": 24,
   "metadata": {},
   "outputs": [
    {
     "data": {
      "text/html": [
       "<div>\n",
       "<style scoped>\n",
       "    .dataframe tbody tr th:only-of-type {\n",
       "        vertical-align: middle;\n",
       "    }\n",
       "\n",
       "    .dataframe tbody tr th {\n",
       "        vertical-align: top;\n",
       "    }\n",
       "\n",
       "    .dataframe thead th {\n",
       "        text-align: right;\n",
       "    }\n",
       "</style>\n",
       "<table border=\"1\" class=\"dataframe\">\n",
       "  <thead>\n",
       "    <tr style=\"text-align: right;\">\n",
       "      <th></th>\n",
       "      <th>start</th>\n",
       "      <th>end</th>\n",
       "      <th>ant</th>\n",
       "      <th>rec</th>\n",
       "    </tr>\n",
       "  </thead>\n",
       "  <tbody>\n",
       "    <tr>\n",
       "      <th>0</th>\n",
       "      <td>1998-10-31 00:00:00+00:00</td>\n",
       "      <td>1999-04-02 00:00:00+00:00</td>\n",
       "      <td>Antenna Type  :TRM29659.00     NONE,\\nDate Ins...</td>\n",
       "      <td>Receiver Type  :TRIMBLE 4000SSI,\\nDate Install...</td>\n",
       "    </tr>\n",
       "    <tr>\n",
       "      <th>1</th>\n",
       "      <td>1999-04-02 00:00:00+00:00</td>\n",
       "      <td>1999-05-06 00:00:00+00:00</td>\n",
       "      <td>Antenna Type  :TRM29659.00     NONE,\\nDate Ins...</td>\n",
       "      <td>Receiver Type  :TRIMBLE 4000SSI,\\nDate Install...</td>\n",
       "    </tr>\n",
       "    <tr>\n",
       "      <th>2</th>\n",
       "      <td>1999-05-06 00:00:00+00:00</td>\n",
       "      <td>2003-06-11 00:00:00+00:00</td>\n",
       "      <td>Antenna Type  :TRM29659.00     NONE,\\nDate Ins...</td>\n",
       "      <td>Receiver Type  :TRIMBLE 4000SSI,\\nDate Install...</td>\n",
       "    </tr>\n",
       "    <tr>\n",
       "      <th>3</th>\n",
       "      <td>2003-06-11 00:00:00+00:00</td>\n",
       "      <td>2006-07-26 00:00:00+00:00</td>\n",
       "      <td>Antenna Type  :TRM29659.00     NONE,\\nDate Ins...</td>\n",
       "      <td>Receiver Type  :TRIMBLE 4000SSI,\\nDate Install...</td>\n",
       "    </tr>\n",
       "    <tr>\n",
       "      <th>4</th>\n",
       "      <td>2006-07-26 00:00:00+00:00</td>\n",
       "      <td>2007-04-19 00:00:00+00:00</td>\n",
       "      <td>Antenna Type  :TRM41249.00     NONE,\\nDate Ins...</td>\n",
       "      <td>Receiver Type  :TRIMBLE 5700,\\nDate Installed:...</td>\n",
       "    </tr>\n",
       "    <tr>\n",
       "      <th>5</th>\n",
       "      <td>2007-04-19 00:00:00+00:00</td>\n",
       "      <td>2008-06-11 00:00:00+00:00</td>\n",
       "      <td>Antenna Type  :LEIAT504        NONE,\\nDate Ins...</td>\n",
       "      <td>Receiver Type  :LEICA GRX1200PRO,\\nDate Instal...</td>\n",
       "    </tr>\n",
       "    <tr>\n",
       "      <th>6</th>\n",
       "      <td>2008-06-11 00:00:00+00:00</td>\n",
       "      <td>2009-05-11 00:00:00+00:00</td>\n",
       "      <td>Antenna Type  :LEIAT504GG      NONE,\\nDate Ins...</td>\n",
       "      <td>Receiver Type  :LEICA GRX1200GGPRO,\\nDate Inst...</td>\n",
       "    </tr>\n",
       "    <tr>\n",
       "      <th>7</th>\n",
       "      <td>2009-05-11 00:00:00+00:00</td>\n",
       "      <td>2010-10-13 00:00:00+00:00</td>\n",
       "      <td>Antenna Type  :LEIAT504GG      NONE,\\nDate Ins...</td>\n",
       "      <td>Receiver Type  :LEICA GRX1200GGPRO,\\nDate Inst...</td>\n",
       "    </tr>\n",
       "    <tr>\n",
       "      <th>8</th>\n",
       "      <td>2010-10-13 00:00:00+00:00</td>\n",
       "      <td>2011-03-23 00:00:00+00:00</td>\n",
       "      <td>Antenna Type  :LEIAT504GG      NONE,\\nDate Ins...</td>\n",
       "      <td>Receiver Type  :LEICA GRX1200GGPRO,\\nDate Inst...</td>\n",
       "    </tr>\n",
       "    <tr>\n",
       "      <th>9</th>\n",
       "      <td>2011-03-23 00:00:00+00:00</td>\n",
       "      <td>2011-06-14 00:00:00+00:00</td>\n",
       "      <td>Antenna Type  :LEIAT504GG      NONE,\\nDate Ins...</td>\n",
       "      <td>Receiver Type  :LEICA GRX1200GGPRO,\\nDate Inst...</td>\n",
       "    </tr>\n",
       "    <tr>\n",
       "      <th>10</th>\n",
       "      <td>2011-06-14 00:00:00+00:00</td>\n",
       "      <td>2011-10-26 00:00:00+00:00</td>\n",
       "      <td>Antenna Type  :LEIAT504GG      NONE,\\nDate Ins...</td>\n",
       "      <td>Receiver Type  :LEICA GRX1200GGPRO,\\nDate Inst...</td>\n",
       "    </tr>\n",
       "    <tr>\n",
       "      <th>11</th>\n",
       "      <td>2011-10-26 00:00:00+00:00</td>\n",
       "      <td>2012-03-02 00:00:00+00:00</td>\n",
       "      <td>Antenna Type  :TRM57971.00     NONE,\\nDate Ins...</td>\n",
       "      <td>Receiver Type  :TRIMBLE NETR9,\\nDate Installed...</td>\n",
       "    </tr>\n",
       "    <tr>\n",
       "      <th>12</th>\n",
       "      <td>2012-03-02 00:00:00+00:00</td>\n",
       "      <td>2012-04-19 00:00:00+00:00</td>\n",
       "      <td>Antenna Type  :TRM57971.00     NONE,\\nDate Ins...</td>\n",
       "      <td>Receiver Type  :TRIMBLE NETR9,\\nDate Installed...</td>\n",
       "    </tr>\n",
       "    <tr>\n",
       "      <th>13</th>\n",
       "      <td>2012-04-19 00:00:00+00:00</td>\n",
       "      <td>2012-05-31 00:00:00+00:00</td>\n",
       "      <td>Antenna Type  :TRM57971.00     NONE,\\nDate Ins...</td>\n",
       "      <td>Receiver Type  :TRIMBLE NETR9,\\nDate Installed...</td>\n",
       "    </tr>\n",
       "    <tr>\n",
       "      <th>14</th>\n",
       "      <td>2012-05-31 00:00:00+00:00</td>\n",
       "      <td>2012-08-31 00:00:00+00:00</td>\n",
       "      <td>Antenna Type  :TRM57971.00     NONE,\\nDate Ins...</td>\n",
       "      <td>Receiver Type  :TRIMBLE NETR9,\\nDate Installed...</td>\n",
       "    </tr>\n",
       "    <tr>\n",
       "      <th>15</th>\n",
       "      <td>2012-08-31 00:00:00+00:00</td>\n",
       "      <td>2013-02-11 00:00:00+00:00</td>\n",
       "      <td>Antenna Type  :TRM57971.00     NONE,\\nDate Ins...</td>\n",
       "      <td>Receiver Type  :TRIMBLE NETR9,\\nDate Installed...</td>\n",
       "    </tr>\n",
       "    <tr>\n",
       "      <th>16</th>\n",
       "      <td>2013-02-11 00:00:00+00:00</td>\n",
       "      <td>2013-05-16 00:00:00+00:00</td>\n",
       "      <td>Antenna Type  :TRM57971.00     NONE,\\nDate Ins...</td>\n",
       "      <td>Receiver Type  :TRIMBLE NETR9,\\nDate Installed...</td>\n",
       "    </tr>\n",
       "    <tr>\n",
       "      <th>17</th>\n",
       "      <td>2013-05-16 00:00:00+00:00</td>\n",
       "      <td>2013-10-17 00:00:00+00:00</td>\n",
       "      <td>Antenna Type  :TRM57971.00     NONE,\\nDate Ins...</td>\n",
       "      <td>Receiver Type  :TRIMBLE NETR9,\\nDate Installed...</td>\n",
       "    </tr>\n",
       "    <tr>\n",
       "      <th>18</th>\n",
       "      <td>2013-10-17 00:00:00+00:00</td>\n",
       "      <td>2014-03-26 00:00:00+00:00</td>\n",
       "      <td>Antenna Type  :TRM57971.00     NONE,\\nDate Ins...</td>\n",
       "      <td>Receiver Type  :TRIMBLE NETR9,\\nDate Installed...</td>\n",
       "    </tr>\n",
       "    <tr>\n",
       "      <th>19</th>\n",
       "      <td>2014-03-26 00:00:00+00:00</td>\n",
       "      <td>2015-09-30 00:00:00+00:00</td>\n",
       "      <td>Antenna Type  :TRM57971.00     NONE,\\nDate Ins...</td>\n",
       "      <td>Receiver Type  :TRIMBLE NETR9,\\nDate Installed...</td>\n",
       "    </tr>\n",
       "    <tr>\n",
       "      <th>20</th>\n",
       "      <td>2015-09-30 00:00:00+00:00</td>\n",
       "      <td>2018-06-18 00:00:00+00:00</td>\n",
       "      <td>Antenna Type  :TRM57971.00     NONE,\\nDate Ins...</td>\n",
       "      <td>Receiver Type  :TRIMBLE NETR9,\\nDate Installed...</td>\n",
       "    </tr>\n",
       "    <tr>\n",
       "      <th>21</th>\n",
       "      <td>2018-06-18 00:00:00+00:00</td>\n",
       "      <td>2018-07-04 00:00:00+00:00</td>\n",
       "      <td>Antenna Type  :TRM57971.00     NONE,\\nDate Ins...</td>\n",
       "      <td>Receiver Type  :SEPT POLARX5,\\nDate Installed:...</td>\n",
       "    </tr>\n",
       "    <tr>\n",
       "      <th>22</th>\n",
       "      <td>2018-07-04 00:00:00+00:00</td>\n",
       "      <td>2018-11-28 00:00:00+00:00</td>\n",
       "      <td>Antenna Type  :TRM57971.00     NONE,\\nDate Ins...</td>\n",
       "      <td>Receiver Type  :SEPT POLARX5,\\nDate Installed:...</td>\n",
       "    </tr>\n",
       "    <tr>\n",
       "      <th>23</th>\n",
       "      <td>2018-11-28 00:00:00+00:00</td>\n",
       "      <td>2020-02-18 00:00:00+00:00</td>\n",
       "      <td>Antenna Type  :TRM57971.00     NONE,\\nDate Ins...</td>\n",
       "      <td>Receiver Type  :TRIMBLE ALLOY,\\nDate Installed...</td>\n",
       "    </tr>\n",
       "    <tr>\n",
       "      <th>24</th>\n",
       "      <td>2020-02-18 00:00:00+00:00</td>\n",
       "      <td>2020-05-11 00:00:00+00:00</td>\n",
       "      <td>Antenna Type  :TRM57971.00     NONE,\\nDate Ins...</td>\n",
       "      <td>Receiver Type  :TRIMBLE ALLOY,\\nDate Installed...</td>\n",
       "    </tr>\n",
       "    <tr>\n",
       "      <th>25</th>\n",
       "      <td>2020-05-11 00:00:00+00:00</td>\n",
       "      <td>2099-01-01 00:00:00+00:00</td>\n",
       "      <td>Antenna Type  :TRM57971.00     NONE,\\nDate Ins...</td>\n",
       "      <td>Receiver Type  :TRIMBLE ALLOY,\\nDate Installed...</td>\n",
       "    </tr>\n",
       "  </tbody>\n",
       "</table>\n",
       "</div>"
      ],
      "text/plain": [
       "                       start                       end  \\\n",
       "0  1998-10-31 00:00:00+00:00 1999-04-02 00:00:00+00:00   \n",
       "1  1999-04-02 00:00:00+00:00 1999-05-06 00:00:00+00:00   \n",
       "2  1999-05-06 00:00:00+00:00 2003-06-11 00:00:00+00:00   \n",
       "3  2003-06-11 00:00:00+00:00 2006-07-26 00:00:00+00:00   \n",
       "4  2006-07-26 00:00:00+00:00 2007-04-19 00:00:00+00:00   \n",
       "5  2007-04-19 00:00:00+00:00 2008-06-11 00:00:00+00:00   \n",
       "6  2008-06-11 00:00:00+00:00 2009-05-11 00:00:00+00:00   \n",
       "7  2009-05-11 00:00:00+00:00 2010-10-13 00:00:00+00:00   \n",
       "8  2010-10-13 00:00:00+00:00 2011-03-23 00:00:00+00:00   \n",
       "9  2011-03-23 00:00:00+00:00 2011-06-14 00:00:00+00:00   \n",
       "10 2011-06-14 00:00:00+00:00 2011-10-26 00:00:00+00:00   \n",
       "11 2011-10-26 00:00:00+00:00 2012-03-02 00:00:00+00:00   \n",
       "12 2012-03-02 00:00:00+00:00 2012-04-19 00:00:00+00:00   \n",
       "13 2012-04-19 00:00:00+00:00 2012-05-31 00:00:00+00:00   \n",
       "14 2012-05-31 00:00:00+00:00 2012-08-31 00:00:00+00:00   \n",
       "15 2012-08-31 00:00:00+00:00 2013-02-11 00:00:00+00:00   \n",
       "16 2013-02-11 00:00:00+00:00 2013-05-16 00:00:00+00:00   \n",
       "17 2013-05-16 00:00:00+00:00 2013-10-17 00:00:00+00:00   \n",
       "18 2013-10-17 00:00:00+00:00 2014-03-26 00:00:00+00:00   \n",
       "19 2014-03-26 00:00:00+00:00 2015-09-30 00:00:00+00:00   \n",
       "20 2015-09-30 00:00:00+00:00 2018-06-18 00:00:00+00:00   \n",
       "21 2018-06-18 00:00:00+00:00 2018-07-04 00:00:00+00:00   \n",
       "22 2018-07-04 00:00:00+00:00 2018-11-28 00:00:00+00:00   \n",
       "23 2018-11-28 00:00:00+00:00 2020-02-18 00:00:00+00:00   \n",
       "24 2020-02-18 00:00:00+00:00 2020-05-11 00:00:00+00:00   \n",
       "25 2020-05-11 00:00:00+00:00 2099-01-01 00:00:00+00:00   \n",
       "\n",
       "                                                  ant  \\\n",
       "0   Antenna Type  :TRM29659.00     NONE,\\nDate Ins...   \n",
       "1   Antenna Type  :TRM29659.00     NONE,\\nDate Ins...   \n",
       "2   Antenna Type  :TRM29659.00     NONE,\\nDate Ins...   \n",
       "3   Antenna Type  :TRM29659.00     NONE,\\nDate Ins...   \n",
       "4   Antenna Type  :TRM41249.00     NONE,\\nDate Ins...   \n",
       "5   Antenna Type  :LEIAT504        NONE,\\nDate Ins...   \n",
       "6   Antenna Type  :LEIAT504GG      NONE,\\nDate Ins...   \n",
       "7   Antenna Type  :LEIAT504GG      NONE,\\nDate Ins...   \n",
       "8   Antenna Type  :LEIAT504GG      NONE,\\nDate Ins...   \n",
       "9   Antenna Type  :LEIAT504GG      NONE,\\nDate Ins...   \n",
       "10  Antenna Type  :LEIAT504GG      NONE,\\nDate Ins...   \n",
       "11  Antenna Type  :TRM57971.00     NONE,\\nDate Ins...   \n",
       "12  Antenna Type  :TRM57971.00     NONE,\\nDate Ins...   \n",
       "13  Antenna Type  :TRM57971.00     NONE,\\nDate Ins...   \n",
       "14  Antenna Type  :TRM57971.00     NONE,\\nDate Ins...   \n",
       "15  Antenna Type  :TRM57971.00     NONE,\\nDate Ins...   \n",
       "16  Antenna Type  :TRM57971.00     NONE,\\nDate Ins...   \n",
       "17  Antenna Type  :TRM57971.00     NONE,\\nDate Ins...   \n",
       "18  Antenna Type  :TRM57971.00     NONE,\\nDate Ins...   \n",
       "19  Antenna Type  :TRM57971.00     NONE,\\nDate Ins...   \n",
       "20  Antenna Type  :TRM57971.00     NONE,\\nDate Ins...   \n",
       "21  Antenna Type  :TRM57971.00     NONE,\\nDate Ins...   \n",
       "22  Antenna Type  :TRM57971.00     NONE,\\nDate Ins...   \n",
       "23  Antenna Type  :TRM57971.00     NONE,\\nDate Ins...   \n",
       "24  Antenna Type  :TRM57971.00     NONE,\\nDate Ins...   \n",
       "25  Antenna Type  :TRM57971.00     NONE,\\nDate Ins...   \n",
       "\n",
       "                                                  rec  \n",
       "0   Receiver Type  :TRIMBLE 4000SSI,\\nDate Install...  \n",
       "1   Receiver Type  :TRIMBLE 4000SSI,\\nDate Install...  \n",
       "2   Receiver Type  :TRIMBLE 4000SSI,\\nDate Install...  \n",
       "3   Receiver Type  :TRIMBLE 4000SSI,\\nDate Install...  \n",
       "4   Receiver Type  :TRIMBLE 5700,\\nDate Installed:...  \n",
       "5   Receiver Type  :LEICA GRX1200PRO,\\nDate Instal...  \n",
       "6   Receiver Type  :LEICA GRX1200GGPRO,\\nDate Inst...  \n",
       "7   Receiver Type  :LEICA GRX1200GGPRO,\\nDate Inst...  \n",
       "8   Receiver Type  :LEICA GRX1200GGPRO,\\nDate Inst...  \n",
       "9   Receiver Type  :LEICA GRX1200GGPRO,\\nDate Inst...  \n",
       "10  Receiver Type  :LEICA GRX1200GGPRO,\\nDate Inst...  \n",
       "11  Receiver Type  :TRIMBLE NETR9,\\nDate Installed...  \n",
       "12  Receiver Type  :TRIMBLE NETR9,\\nDate Installed...  \n",
       "13  Receiver Type  :TRIMBLE NETR9,\\nDate Installed...  \n",
       "14  Receiver Type  :TRIMBLE NETR9,\\nDate Installed...  \n",
       "15  Receiver Type  :TRIMBLE NETR9,\\nDate Installed...  \n",
       "16  Receiver Type  :TRIMBLE NETR9,\\nDate Installed...  \n",
       "17  Receiver Type  :TRIMBLE NETR9,\\nDate Installed...  \n",
       "18  Receiver Type  :TRIMBLE NETR9,\\nDate Installed...  \n",
       "19  Receiver Type  :TRIMBLE NETR9,\\nDate Installed...  \n",
       "20  Receiver Type  :TRIMBLE NETR9,\\nDate Installed...  \n",
       "21  Receiver Type  :SEPT POLARX5,\\nDate Installed:...  \n",
       "22  Receiver Type  :SEPT POLARX5,\\nDate Installed:...  \n",
       "23  Receiver Type  :TRIMBLE ALLOY,\\nDate Installed...  \n",
       "24  Receiver Type  :TRIMBLE ALLOY,\\nDate Installed...  \n",
       "25  Receiver Type  :TRIMBLE ALLOY,\\nDate Installed...  "
      ]
     },
     "execution_count": 24,
     "metadata": {},
     "output_type": "execute_result"
    }
   ],
   "source": [
    "Period"
   ]
  },
  {
   "cell_type": "markdown",
   "metadata": {},
   "source": [
    "The 1st period tuple:"
   ]
  },
  {
   "cell_type": "code",
   "execution_count": 26,
   "metadata": {
    "scrolled": true
   },
   "outputs": [
    {
     "name": "stdout",
     "output_type": "stream",
     "text": [
      "start                            1998-10-31 00:00:00+00:00\n",
      "end                              1999-04-02 00:00:00+00:00\n",
      "ant      Antenna Type  :TRM29659.00     NONE,\\nDate Ins...\n",
      "rec      Receiver Type  :TRIMBLE 4000SSI,\\nDate Install...\n",
      "Name: 0, dtype: object\n"
     ]
    }
   ],
   "source": [
    "Period1 = Period.iloc[0]\n",
    "print(Period1)"
   ]
  },
  {
   "cell_type": "markdown",
   "metadata": {},
   "source": [
    "### About the Antenna object"
   ]
  },
  {
   "cell_type": "markdown",
   "metadata": {},
   "source": [
    "The Antenna Object is the 3rd element of a period tuple "
   ]
  },
  {
   "cell_type": "code",
   "execution_count": 27,
   "metadata": {
    "scrolled": true
   },
   "outputs": [
    {
     "name": "stdout",
     "output_type": "stream",
     "text": [
      "Antenna Type  :TRM29659.00     NONE,\n",
      "Date Installed:1998-10-31 00:00:00+00:00,\n",
      "Date Removed  :2006-07-25 00:00:00+00:00\n"
     ]
    },
    {
     "data": {
      "text/plain": [
       "{'_Event__Date_Installed': datetime.datetime(1998, 10, 31, 0, 0, tzinfo=tzutc()),\n",
       " '_Event__Date_Removed': datetime.datetime(2006, 7, 25, 0, 0, tzinfo=tzutc()),\n",
       " 'Antenna_Type': 'TRM29659.00     NONE',\n",
       " 'Serial_Number': 220101990.0,\n",
       " 'Antenna_Reference_Point': 'BPA',\n",
       " 'Up_Ecc': 0.0,\n",
       " 'North_Ecc': 0.0,\n",
       " 'East_Ecc': 0.0,\n",
       " 'Alignment_from_True_N': '0 deg',\n",
       " '_Antenna__Antenna_Radome_Type': 'NONE',\n",
       " 'Radome_Serial_Number': '',\n",
       " 'Antenna_Cable_Type': '(vendor & type number)',\n",
       " 'Antenna_Cable_Length': '20 m',\n",
       " 'Additional_Information': '(multiple lines)',\n",
       " 'Marker->ARP_Up_Ecc_m': 1.0543,\n",
       " 'Marker->ARP_North_Eccm': 0.0,\n",
       " 'Marker->ARP_East_Eccm': 0.0}"
      ]
     },
     "execution_count": 27,
     "metadata": {},
     "output_type": "execute_result"
    }
   ],
   "source": [
    "Antenna1 = Period1['ant']\n",
    "print(Antenna1)\n",
    "\n",
    "vars(Antenna1)\n"
   ]
  },
  {
   "cell_type": "markdown",
   "metadata": {},
   "source": [
    "Here is the list of the avaiable attributes\n",
    "\n",
    "<pre>\n",
    "{'_Event__Date_Installed': datetime.datetime(1998, 10, 31, 0, 0, tzinfo=tzutc()),\n",
    " '_Event__Date_Removed': datetime.datetime(1999, 4, 2, 0, 0, tzinfo=tzutc()),\n",
    " 'Receiver_Type': 'TRIMBLE 4000SSI',\n",
    " 'Satellite_System': 'GPS',\n",
    " 'Serial_Number': 21043.0,\n",
    " 'Firmware_Version': '7.15 / 3.04',\n",
    " 'Elevation_Cutoff_Setting': '5 deg',\n",
    " 'Temperature_Stabiliz': 'none',\n",
    " 'Additional_Information': '(multiple lines)'}\n",
    " </pre>"
   ]
  },
  {
   "cell_type": "markdown",
   "metadata": {},
   "source": [
    "The attribute of the Antenna Object are based on the logsheet fields of the \"Antenna\" Block. (Spaces are replaced with underscores _)\n",
    "\n",
    "e.g. if you want to access to the Antenna Receiver_Type, Serial Number, Antenna Radome Type, or it's Monument Foundation:"
   ]
  },
  {
   "cell_type": "code",
   "execution_count": 28,
   "metadata": {},
   "outputs": [
    {
     "data": {
      "text/plain": [
       "'TRM29659.00     NONE'"
      ]
     },
     "execution_count": 28,
     "metadata": {},
     "output_type": "execute_result"
    }
   ],
   "source": [
    "Antenna1.Antenna_Type"
   ]
  },
  {
   "cell_type": "code",
   "execution_count": 29,
   "metadata": {},
   "outputs": [
    {
     "data": {
      "text/plain": [
       "220101990.0"
      ]
     },
     "execution_count": 29,
     "metadata": {},
     "output_type": "execute_result"
    }
   ],
   "source": [
    "Antenna1.Serial_Number"
   ]
  },
  {
   "cell_type": "code",
   "execution_count": 30,
   "metadata": {},
   "outputs": [
    {
     "data": {
      "text/plain": [
       "'NONE'"
      ]
     },
     "execution_count": 30,
     "metadata": {},
     "output_type": "execute_result"
    }
   ],
   "source": [
    "Antenna1.Antenna_Radome_Type"
   ]
  },
  {
   "cell_type": "markdown",
   "metadata": {},
   "source": [
    "### About the Receiver object"
   ]
  },
  {
   "cell_type": "markdown",
   "metadata": {},
   "source": [
    "The Receiver Object is the 4th element of a period tuple.\n",
    "\n",
    "It is based on the same principle as the Antenna Object"
   ]
  },
  {
   "cell_type": "code",
   "execution_count": 31,
   "metadata": {},
   "outputs": [
    {
     "name": "stdout",
     "output_type": "stream",
     "text": [
      "Receiver Type  :TRIMBLE 4000SSI,\n",
      "Date Installed:1998-10-31 00:00:00+00:00,\n",
      "Date Removed  :1999-04-02 00:00:00+00:00\n"
     ]
    },
    {
     "data": {
      "text/plain": [
       "{'_Event__Date_Installed': datetime.datetime(1998, 10, 31, 0, 0, tzinfo=tzutc()),\n",
       " '_Event__Date_Removed': datetime.datetime(1999, 4, 2, 0, 0, tzinfo=tzutc()),\n",
       " 'Receiver_Type': 'TRIMBLE 4000SSI',\n",
       " 'Satellite_System': 'GPS',\n",
       " 'Serial_Number': 21043.0,\n",
       " 'Firmware_Version': '7.15 / 3.04',\n",
       " 'Elevation_Cutoff_Setting': '5 deg',\n",
       " 'Temperature_Stabiliz': 'none',\n",
       " 'Additional_Information': '(multiple lines)'}"
      ]
     },
     "execution_count": 31,
     "metadata": {},
     "output_type": "execute_result"
    }
   ],
   "source": [
    "Receiver1 = Period1['rec']\n",
    "print(Receiver1)\n",
    "\n",
    "vars(Receiver1)"
   ]
  }
 ],
 "metadata": {
  "kernelspec": {
   "display_name": "Python 3",
   "language": "python",
   "name": "python3"
  },
  "language_info": {
   "codemirror_mode": {
    "name": "ipython",
    "version": 3
   },
   "file_extension": ".py",
   "mimetype": "text/x-python",
   "name": "python",
   "nbconvert_exporter": "python",
   "pygments_lexer": "ipython3",
   "version": "3.8.10"
  }
 },
 "nbformat": 4,
 "nbformat_minor": 4
}
