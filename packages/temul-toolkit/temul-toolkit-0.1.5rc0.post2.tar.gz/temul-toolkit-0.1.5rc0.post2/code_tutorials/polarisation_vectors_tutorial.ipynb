{
 "cells": [
  {
   "cell_type": "markdown",
   "metadata": {},
   "source": [
    "# Plotting Polarisation and Movement Vectors\n",
    "\n",
    "The `temul.topotem.polarisation` module allows one to visualise the\n",
    "polarisation/movement of atoms in an atomic resolution image. In this tutorial,\n",
    "we will use a dummy dataset to show the different ways the `plot_polarisation_vectors`\n",
    "function can display data. In future, tutorials on published experimental data\n",
    "will also be available.\n",
    "\n",
    "## Prepare and Plot the dummy dataset\n"
   ]
  },
  {
   "cell_type": "code",
   "execution_count": null,
   "metadata": {},
   "outputs": [],
   "source": [
    "# choose your matplotlib backend. qt will plot in a separate window.\n",
    "%matplotlib nbagg\n",
    "import matplotlib\n",
    "matplotlib.pyplot.style.use(\"grayscale\")\n",
    "\n",
    "from matplotlib.colors import from_levels_and_colors\n",
    "import temul.api as tml\n",
    "from temul.dummy_data import get_polarisation_dummy_dataset"
   ]
  },
  {
   "cell_type": "code",
   "execution_count": null,
   "metadata": {},
   "outputs": [],
   "source": [
    "atom_lattice = get_polarisation_dummy_dataset(image_noise=True)\n",
    "sublatticeA = atom_lattice.sublattice_list[0]\n",
    "sublatticeB = atom_lattice.sublattice_list[1]\n",
    "image = sublatticeA.signal\n",
    "image.plot()"
   ]
  },
  {
   "cell_type": "code",
   "execution_count": null,
   "metadata": {},
   "outputs": [],
   "source": [
    "# It is best when the image is calibrated.\n",
    "# Your image may already be calibrated, but if not, use Hyperspy's `axes_manager` for calibration.\n",
    "\n",
    "sampling = 0.1  # example of 0.1 nm/pix\n",
    "units = 'nm'\n",
    "image.axes_manager[-1].scale = sampling\n",
    "image.axes_manager[-2].scale = sampling\n",
    "image.axes_manager[-1].units = units\n",
    "image.axes_manager[-2].units = units\n",
    "image.plot()\n",
    "\n",
    "# Zoom in on the image to see how the atoms look in the different regions."
   ]
  },
  {
   "cell_type": "markdown",
   "metadata": {},
   "source": [
    "## Find the Vector Coordinates using Atomap\n",
    "\n",
    "Using the Atomap (https://atomap.org/) package, we can easily get the polarisation vectors for regular structures.\n"
   ]
  },
  {
   "cell_type": "code",
   "execution_count": null,
   "metadata": {},
   "outputs": [],
   "source": [
    "sublatticeA.construct_zone_axes()\n",
    "za0, za1 = sublatticeA.zones_axis_average_distances[0:2]\n",
    "\n",
    "s_p = sublatticeA.get_polarization_from_second_sublattice(\n",
    "    za0, za1, sublatticeB, color='blue')\n",
    "\n",
    "vector_list = s_p.metadata.vector_list\n",
    "x, y = [i[0] for i in vector_list], [i[1] for i in vector_list]\n",
    "u, v = [i[2] for i in vector_list], [i[3] for i in vector_list]"
   ]
  },
  {
   "cell_type": "markdown",
   "metadata": {},
   "source": [
    "Now we can display all of the variations that `plot_polarisation_vectors`\n",
    "gives us! You can specify sampling (scale) and units, or use a calibrated image\n",
    "so that they are automatically set."
   ]
  },
  {
   "cell_type": "code",
   "execution_count": null,
   "metadata": {},
   "outputs": [],
   "source": [
    "# Vector magnitude plot with red arrows:\n",
    "\n",
    "tml.plot_polarisation_vectors(x, y, u, v, image=image,\n",
    "                          unit_vector=False, save=None,\n",
    "                          plot_style='vector', color='r',\n",
    "                          overlay=False, title='Vector Arrows',\n",
    "                          monitor_dpi=50)\n"
   ]
  },
  {
   "cell_type": "code",
   "execution_count": null,
   "metadata": {},
   "outputs": [],
   "source": [
    "# Vector magnitude plot with red arrows overlaid on the image, no title:\n",
    "\n",
    "tml.plot_polarisation_vectors(x, y, u, v, image=image,\n",
    "                          unit_vector=False, save=None,\n",
    "                          plot_style='vector', color='r',\n",
    "                          overlay=True, monitor_dpi=50)"
   ]
  },
  {
   "cell_type": "code",
   "execution_count": null,
   "metadata": {},
   "outputs": [],
   "source": [
    "#Vector magnitude plot with colormap viridis:\n",
    "\n",
    "tml.plot_polarisation_vectors(x, y, u, v, image=image,\n",
    "                          unit_vector=False, save=None,\n",
    "                          plot_style='colormap', monitor_dpi=50,\n",
    "                          overlay=False, cmap='viridis')\n"
   ]
  },
  {
   "cell_type": "code",
   "execution_count": null,
   "metadata": {},
   "outputs": [],
   "source": [
    "#Vector angle plot with colormap viridis (:python:`vector_rep='angle'`):\n",
    "\n",
    "tml.plot_polarisation_vectors(x, y, u, v, image=image,\n",
    "                          unit_vector=False, save=None,\n",
    "                          plot_style='colormap', monitor_dpi=50,\n",
    "                          overlay=False, cmap='cet_colorwheel',\n",
    "                          vector_rep=\"angle\", degrees=True)\n"
   ]
  },
  {
   "cell_type": "code",
   "execution_count": null,
   "metadata": {},
   "outputs": [],
   "source": [
    "# Colormap arrows with sampling specified in the parameters and with scalebar:\n",
    "\n",
    "tml.plot_polarisation_vectors(x, y, u, v, image=sublatticeA.image,\n",
    "                          sampling=3.0321, units='pm', monitor_dpi=50,\n",
    "                          unit_vector=False, plot_style='colormap',\n",
    "                          overlay=True, save=None, cmap='viridis',\n",
    "                          scalebar=True)\n"
   ]
  },
  {
   "cell_type": "code",
   "execution_count": null,
   "metadata": {},
   "outputs": [],
   "source": [
    "#Vector plot with colormap viridis and unit vectors:\n",
    "\n",
    "tml.plot_polarisation_vectors(x, y, u, v, image=image,\n",
    "                          unit_vector=True, save=None, monitor_dpi=50,\n",
    "                          plot_style='colormap', color='r',\n",
    "                          overlay=False, cmap='viridis')\n"
   ]
  },
  {
   "cell_type": "code",
   "execution_count": null,
   "metadata": {},
   "outputs": [],
   "source": [
    "#Change the vectors to unit vectors on a Matplotlib tricontourf map:\n",
    "\n",
    "tml.plot_polarisation_vectors(x, y, u, v, image=image, unit_vector=True,\n",
    "                          plot_style='contour', overlay=False,\n",
    "                          pivot='middle', save=None, monitor_dpi=50,\n",
    "                          color='darkgray', cmap='viridis')\n"
   ]
  },
  {
   "cell_type": "code",
   "execution_count": null,
   "metadata": {},
   "outputs": [],
   "source": [
    "# Plot a partly transparent angle tricontourf map with specified colorbar ticks and vector arrows:\n",
    "\n",
    "tml.plot_polarisation_vectors(x, y, u, v, image=image,\n",
    "                          unit_vector=False, plot_style='contour',\n",
    "                          overlay=True, pivot='middle', save=None,\n",
    "                          color='red', cmap='cet_colorwheel',\n",
    "                          monitor_dpi=50, remove_vectors=False,\n",
    "                          vector_rep=\"angle\", alpha=0.5, levels=9,\n",
    "                          antialiased=True, degrees=True,\n",
    "                          ticks=[180, 90, 0, -90, -180])\n"
   ]
  },
  {
   "cell_type": "code",
   "execution_count": null,
   "metadata": {},
   "outputs": [],
   "source": [
    "# Plot a partly transparent angle tricontourf map with no vector arrows:\n",
    "\n",
    "tml.plot_polarisation_vectors(x, y, u, v, image=image, remove_vectors=True,\n",
    "                          unit_vector=True, plot_style='contour',\n",
    "                          overlay=True, pivot='middle', save=None,\n",
    "                          cmap='cet_colorwheel', alpha=0.5,\n",
    "                          monitor_dpi=50, vector_rep=\"angle\",\n",
    "                          antialiased=True, degrees=True)\n"
   ]
  },
  {
   "cell_type": "code",
   "execution_count": null,
   "metadata": {},
   "outputs": [],
   "source": [
    "# \"polar_colorwheel\" plot showing a 2D polar color wheel, also useful for visualising vortexes:\n",
    "\n",
    "tml.plot_polarisation_vectors(x, y, u, v, image=image,\n",
    "                          plot_style=\"polar_colorwheel\",\n",
    "                          unit_vector=False, overlay=False,\n",
    "                          save=None, monitor_dpi=50)"
   ]
  },
  {
   "cell_type": "code",
   "execution_count": null,
   "metadata": {},
   "outputs": [],
   "source": [
    "# Plot with a custom scalebar. In this example, we need it to be dark, see matplotlib-scalebar for more custom features.\n",
    "\n",
    "scbar_dict = {\"dx\": 3.0321, \"units\": \"pm\", \"location\": \"lower left\",\n",
    "              \"box_alpha\":0.0, \"color\": \"black\", \"scale_loc\": \"top\"}\n",
    "\n",
    "tml.plot_polarisation_vectors(x, y, u, v, image=sublatticeA.image,\n",
    "                          sampling=3.0321, units='pm', monitor_dpi=50,\n",
    "                          unit_vector=False, plot_style='colormap',\n",
    "                          overlay=False, save=None, cmap='viridis',\n",
    "                          scalebar=scbar_dict)\n"
   ]
  },
  {
   "cell_type": "code",
   "execution_count": null,
   "metadata": {},
   "outputs": [],
   "source": [
    "# \"colorwheel\" plot of the vectors, useful for visualising vortexes:\n",
    "\n",
    "import colorcet as cc\n",
    "\n",
    "tml.plot_polarisation_vectors(x, y, u, v, image=image,\n",
    "                          unit_vector=True, plot_style=\"colorwheel\",\n",
    "                          vector_rep=\"angle\",\n",
    "                          overlay=False, cmap=cc.cm.colorwheel,\n",
    "                          degrees=True, save=None, monitor_dpi=50)\n"
   ]
  },
  {
   "cell_type": "code",
   "execution_count": null,
   "metadata": {},
   "outputs": [],
   "source": [
    "# Plot a tricontourf for quadrant visualisation using a custom matplotlib cmap:\n",
    "\n",
    "zest = tml.hex_to_rgb(tml.color_palettes('zesty'))\n",
    "zest.append(zest[0])  # make the -180 and 180 degree colour the same\n",
    "expanded_zest = tml.expand_palette(zest, [1,2,2,2,1])\n",
    "\n",
    "custom_cmap, _ = from_levels_and_colors(\n",
    "    levels=range(9), colors=tml.rgb_to_dec(expanded_zest))\n",
    "\n",
    "tml.plot_polarisation_vectors(x, y, u, v, image=image,\n",
    "                          unit_vector=False, plot_style='contour',\n",
    "                          overlay=False, pivot='middle', save=None,\n",
    "                          cmap=custom_cmap, levels=9, monitor_dpi=50,\n",
    "                          vector_rep=\"angle\", alpha=0.5, color='r',\n",
    "                          antialiased=True, degrees=True,\n",
    "                          ticks=[180, 90, 0, -90, -180])\n"
   ]
  },
  {
   "cell_type": "code",
   "execution_count": null,
   "metadata": {},
   "outputs": [],
   "source": []
  }
 ],
 "metadata": {
  "kernelspec": {
   "display_name": "Python 3 (ipykernel)",
   "language": "python",
   "name": "python3"
  },
  "language_info": {
   "codemirror_mode": {
    "name": "ipython",
    "version": 3
   },
   "file_extension": ".py",
   "mimetype": "text/x-python",
   "name": "python",
   "nbconvert_exporter": "python",
   "pygments_lexer": "ipython3",
   "version": "3.9.0"
  }
 },
 "nbformat": 4,
 "nbformat_minor": 2
}
