{
 "cells": [
  {
   "cell_type": "markdown",
   "metadata": {},
   "source": [
    "# PTO-type polarisation material analysis\n",
    "This file will find the sublattices in your image. Check out Atomap.org\n",
    "    for lots of information on how to use atomap.\n",
    "\n",
    "Note: this file is not guaranteed to find what you want. It varies from image\n",
    "to image. Check out the other \"2_Find_Sublattices...\" files or the other notebooks for different\n",
    "types of materials."
   ]
  },
  {
   "cell_type": "code",
   "execution_count": null,
   "metadata": {},
   "outputs": [],
   "source": [
    "import os\n",
    "import hyperspy.api as hs\n",
    "import numpy as np\n",
    "import atomap.api as am\n",
    "import temul.api as tml"
   ]
  },
  {
   "cell_type": "code",
   "execution_count": null,
   "metadata": {},
   "outputs": [],
   "source": [
    "# choose your matplotlib backend. qt will plot in a separate window.\n",
    "%matplotlib nbagg\n",
    "import matplotlib\n",
    "matplotlib.pyplot.style.use(\"grayscale\")"
   ]
  },
  {
   "cell_type": "markdown",
   "metadata": {},
   "source": [
    "## Load the file or some dummy data\n",
    "\n",
    "Hyperspy can load many different filetypes: dm3, dm4, emd, tif.\n",
    "Check their website!"
   ]
  },
  {
   "cell_type": "code",
   "execution_count": null,
   "metadata": {},
   "outputs": [],
   "source": [
    "# Example dummy dataset for testing\n",
    "\n",
    "from temul.dummy_data import get_polarisation_dummy_dataset\n",
    "atom_lattice = get_polarisation_dummy_dataset(image_noise=True)\n",
    "image = atom_lattice.signal"
   ]
  },
  {
   "cell_type": "code",
   "execution_count": null,
   "metadata": {},
   "outputs": [],
   "source": [
    "''' Set the directory (what folder your data is in!)\n",
    "    Notice the slashes must be forward slashes. \n",
    "    Load your file\n",
    "'''\n",
    "# directory = 'C:/Users/Example/notice/the/forward/slashes'\n",
    "# os.chdir(directory)\n",
    "\n",
    "# Or load an actual dataset\n",
    "# image = hs.load('example_awesome_image.tif')"
   ]
  },
  {
   "cell_type": "code",
   "execution_count": null,
   "metadata": {},
   "outputs": [],
   "source": [
    "# plot the image to see how it looks!\n",
    "image.plot()"
   ]
  },
  {
   "cell_type": "code",
   "execution_count": null,
   "metadata": {},
   "outputs": [],
   "source": [
    "# set the pixel size (called sampling in this toolkit) and the units\n",
    "\n",
    "sampling = image.axes_manager[-1].scale\n",
    "units = image.axes_manager[-1].units\n",
    "\n",
    "print(sampling)  # if sampling is 1, then the image is probably not calibrated."
   ]
  },
  {
   "cell_type": "markdown",
   "metadata": {},
   "source": [
    "## Find the atom positions\n",
    "Get the Pixel separation between the atoms in your first sublattice\n",
    "\n",
    "Note: If you have used the image filter file, then replace \"image\" with\n",
    "\"image_ifft\" or whatever you called your filtered file."
   ]
  },
  {
   "cell_type": "code",
   "execution_count": null,
   "metadata": {
    "scrolled": false
   },
   "outputs": [],
   "source": [
    "# look at the different pixel separations available, this can take some time.\n",
    "\n",
    "feat = am.get_feature_separation(image, separation_range=(5, 20), pca=True)\n",
    "feat.plot()"
   ]
  },
  {
   "cell_type": "markdown",
   "metadata": {},
   "source": [
    "If you're happy with one of the pixel separations, then set it below. If\n",
    "    you're not, you may need to change your separation_range or filter your\n",
    "    image with the \"1b_Filter_Data.py\" file.\n",
    "\n",
    "Note: If you have used the image filter file, then replace \"image\" with\n",
    "\"image_ifft\" or whatever you called your filtered file.    \n"
   ]
  },
  {
   "cell_type": "code",
   "execution_count": null,
   "metadata": {},
   "outputs": [],
   "source": [
    "sep = 7  # just an example\n",
    "\n",
    "atom_positions1 = am.get_atom_positions(image, separation=sep, pca=True)\n",
    "# save these original sub1 positions!\n",
    "\n",
    "np.save('atom_positions1.npy', arr=atom_positions1)\n",
    "# how to reload this file format\n",
    "# example_positions = np.load('atom_positions1.npy')"
   ]
  },
  {
   "cell_type": "markdown",
   "metadata": {},
   "source": [
    "### Create the first sublattice, which we call sub1"
   ]
  },
  {
   "cell_type": "code",
   "execution_count": null,
   "metadata": {},
   "outputs": [],
   "source": [
    "sub1 = am.Sublattice(atom_position_list=atom_positions1,\n",
    "                     image=image, color='red')\n",
    "\n",
    "sub1.find_nearest_neighbors()\n",
    "# you can plot the sublattice easily with:\n",
    "# sub1.plot()"
   ]
  },
  {
   "cell_type": "code",
   "execution_count": null,
   "metadata": {},
   "outputs": [],
   "source": [
    "# You can refine the sublattice easily with a 2D Gaussian or COM algorithm:\n",
    "\n",
    "sub1.refine_atom_positions_using_2d_gaussian(percent_to_nn=0.2)\n",
    "# sub1.refine_atom_positions_using_center_of_mass(percent_to_nn=0.2)\n",
    "\n",
    "np.save('atom_positions1_refined.npy', [sub1.x_position, sub1.y_position])"
   ]
  },
  {
   "cell_type": "code",
   "execution_count": null,
   "metadata": {},
   "outputs": [],
   "source": [
    "# this is needed to create the second sublattice:\n",
    "\n",
    "sub1.construct_zone_axes()\n",
    "# sub1.plot_planes()  # this can take a long time for large images!"
   ]
  },
  {
   "cell_type": "markdown",
   "metadata": {},
   "source": [
    "### Create the second sublattice - sub2.\n",
    "\n",
    "We have to choose the zone_axes that will give you the correct atoms positions\n",
    "along the atom plane lines. To visualise the atom planes, use\n",
    "sub1.plot_planes() which can take a long time for certain images."
   ]
  },
  {
   "cell_type": "code",
   "execution_count": null,
   "metadata": {},
   "outputs": [],
   "source": [
    "zone_axis_A = sub1.zones_axis_average_distances[2]\n",
    "# use this function to choose a position between atoms defined by the\n",
    "# vector_fraction\n",
    "\n",
    "atom_positions2 = sub1.find_missing_atoms_from_zone_vector(\n",
    "    zone_axis_A, vector_fraction=0.5)\n",
    "# save these positions \n",
    "\n",
    "np.save('atom_positions2_ideal.npy', arr=atom_positions2)\n",
    "\n",
    "sub2 = am.Sublattice(atom_position_list=atom_positions2,\n",
    "                     image=image, color='blue')\n",
    "\n",
    "sub2.find_nearest_neighbors()\n",
    "# sub2.plot()\n",
    "\n",
    "sub2.refine_atom_positions_using_2d_gaussian(percent_to_nn=0.4)\n",
    "# sub2.refine_atom_positions_using_center_of_mass(percent_to_nn=0.2)\n",
    "\n",
    "np.save('atom_positions2_refined.npy', [sub2.x_position, sub2.y_position])"
   ]
  },
  {
   "cell_type": "markdown",
   "metadata": {},
   "source": [
    "### Create and save the Atom Lattice Object\n",
    "This contains our two sublattices."
   ]
  },
  {
   "cell_type": "code",
   "execution_count": null,
   "metadata": {},
   "outputs": [],
   "source": [
    "atom_lattice = am.Atom_Lattice(image=image.data,\n",
    "                               name='PTO-type structure',\n",
    "                               sublattice_list=[sub1, sub2])\n",
    "\n",
    "atom_lattice.save(filename=\"Atom_Lattice.hdf5\", overwrite=True)\n"
   ]
  },
  {
   "cell_type": "code",
   "execution_count": null,
   "metadata": {},
   "outputs": [],
   "source": [
    "atom_lattice.plot()"
   ]
  },
  {
   "cell_type": "markdown",
   "metadata": {},
   "source": [
    "## Find the polarisation vectors\n",
    "Now we need to get the (x, y) and (u, v) data for the polarisation vectors.\n",
    "This requires the relevant sublattice's original \"ideal\" positions and refined \"actual\" positions.\n",
    "\n",
    "We can use Atomap or the Temul toolkit to do this easily with the save information from above.\n"
   ]
  },
  {
   "cell_type": "code",
   "execution_count": null,
   "metadata": {},
   "outputs": [],
   "source": [
    "# Atomap method (if this doesn't work, try the Temul method below)\n",
    "\n",
    "za0, za1 = sub1.zones_axis_average_distances[0:2]\n",
    "\n",
    "s_p = sub1.get_polarization_from_second_sublattice(\n",
    "    za0, za1, sub2, color='cyan')\n",
    "\n",
    "vector_list = s_p.metadata.vector_list\n",
    "x, y = [i[0] for i in vector_list], [i[1] for i in vector_list]\n",
    "u, v = [i[2] for i in vector_list], [i[3] for i in vector_list]\n",
    "x, y, u, v = np.asarray(x), np.asarray(y), np.asarray(u), np.asarray(v)\n"
   ]
  },
  {
   "cell_type": "code",
   "execution_count": null,
   "metadata": {},
   "outputs": [],
   "source": [
    "# Temul method, only use this if the above Atomap method doesn't work\n",
    "\n",
    "atom_positions_A = np.load('atom_positions2_ideal.npy')\n",
    "atom_positions_B = np.load('atom_positions2_refined.npy').T\n",
    "x, y = atom_positions_A[:, 0], atom_positions_A[:, 1]\n",
    "\n",
    "u, v = tml.find_polarisation_vectors(atom_positions_A=atom_positions_A,\n",
    "                                     atom_positions_B=atom_positions_B)\n",
    "\n",
    "u, v = np.asarray(u), np.asarray(v)\n"
   ]
  },
  {
   "cell_type": "markdown",
   "metadata": {},
   "source": [
    "## Plot the polarisation vectors.\n",
    "\n",
    "Set the parameters below. Don't be overwhelmed, plot_style is the most important input! Many of the rest\n",
    "you can ignore.\n",
    "\n",
    "Note: image, sampling, units are loaded from the initial loading step, but you\n",
    "      can do that here.\n",
    "Note: u, v, x, y are all loaded from the previous step\n"
   ]
  },
  {
   "cell_type": "code",
   "execution_count": null,
   "metadata": {},
   "outputs": [],
   "source": [
    "save = None  # save = 'example_name' will save the image\n",
    "# plot_style options are:\n",
    "#   'vector', 'colormap', 'contour, 'colorwheel', 'polar_colorwheel'\n",
    "# for the DPC-style colorwheel just use plot_style = 'polar_colorwheel'\n",
    "\n",
    "plot_style = 'vector'\n",
    "overlay = True  # the vectors will be plotted on the image\n",
    "unit_vector = False  # formerly called normalise\n",
    "vector_rep = 'magnitude'  # 'magnitude' or 'angle'\n",
    "degrees = False  # Set to True for degrees, False for radians\n",
    "angle_offset = None\n",
    "title = \"\"\n",
    "color = 'yellow'  # may be ignored depending on the plot_style\n",
    "cmap = 'viridis'  # may be ignored depending on the plot_style\n",
    "alpha = 1.0  # transparency of image or vectors, depending on plot_style\n",
    "image_cmap = 'gray'\n",
    "ticks = None\n",
    "scalebar = False\n",
    "monitor_dpi = None  # set to ~200 to make too-large images a bit smaller\n",
    "no_axis_info = True  \n",
    "invert_y_axis = True\n",
    "antialiased = False  # relevant for the contour mapping\n",
    "levels = 20  # relevant for the contour mapping\n",
    "remove_vectors = False\n",
    "scale = None  # set to 0.001-0.01 to change arrow size\n",
    "width = None  # set to ~0.005 for chunky (thicker) arrows\n",
    "minshaft = 1\n",
    "minlength = 1\n",
    "headwidth = 3.0\n",
    "headlength = 5.0\n",
    "headaxislength = 4.5\n",
    "quiver_units = 'width'\n",
    "pivot = 'middle'\n",
    "angles = 'xy'\n",
    "scale_units = 'xy'\n",
    "\n",
    "# plot the vectors!\n",
    "ax_vectors = tml.plot_polarisation_vectors(\n",
    "    x, y, u, v, image.data, sampling=sampling, units=units,\n",
    "    plot_style=plot_style, overlay=overlay, unit_vector=unit_vector,\n",
    "    vector_rep=vector_rep, degrees=degrees, angle_offset=angle_offset,\n",
    "    save=save, title=title, color=color, cmap=cmap, alpha=alpha,\n",
    "    image_cmap=image_cmap, monitor_dpi=monitor_dpi,\n",
    "    no_axis_info=no_axis_info, invert_y_axis=invert_y_axis, ticks=ticks,\n",
    "    scalebar=scalebar, antialiased=antialiased, levels=levels,\n",
    "    remove_vectors=remove_vectors, quiver_units=quiver_units, pivot=pivot,\n",
    "    angles=angles, scale_units=scale_units, scale=scale, headwidth=headwidth,\n",
    "    headlength=headlength, headaxislength=headaxislength, width=width,\n",
    "    minshaft=minshaft, minlength=minlength)\n"
   ]
  },
  {
   "cell_type": "code",
   "execution_count": null,
   "metadata": {},
   "outputs": [],
   "source": []
  }
 ],
 "metadata": {
  "kernelspec": {
   "display_name": "Python 3 (ipykernel)",
   "language": "python",
   "name": "python3"
  },
  "language_info": {
   "codemirror_mode": {
    "name": "ipython",
    "version": 3
   },
   "file_extension": ".py",
   "mimetype": "text/x-python",
   "name": "python",
   "nbconvert_exporter": "python",
   "pygments_lexer": "ipython3",
   "version": "3.9.0"
  }
 },
 "nbformat": 4,
 "nbformat_minor": 2
}
