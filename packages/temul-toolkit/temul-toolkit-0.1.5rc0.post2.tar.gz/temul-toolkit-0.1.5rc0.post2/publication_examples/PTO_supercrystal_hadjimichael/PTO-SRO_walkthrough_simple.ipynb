{
 "cells": [
  {
   "cell_type": "code",
   "execution_count": null,
   "metadata": {},
   "outputs": [],
   "source": [
    "import temul.api as tml\n",
    "import atomap.api as am\n",
    "import hyperspy.api as hs\n",
    "import os\n",
    "\n",
    "if \"data\" not in os.path.abspath(''):\n",
    "    path_to_data = os.path.join(os.path.abspath(''), \"data\") \n",
    "    os.chdir(path_to_data)\n"
   ]
  },
  {
   "cell_type": "code",
   "execution_count": null,
   "metadata": {},
   "outputs": [],
   "source": [
    "# Load and plot the image\n",
    "\n",
    "image = hs.load('Cropped_PTO-SRO_Aligned.hspy')\n",
    "image.plot()"
   ]
  },
  {
   "cell_type": "code",
   "execution_count": null,
   "metadata": {},
   "outputs": [],
   "source": [
    "# Get the image pixel sampling from the image\n",
    "\n",
    "sampling = image.axes_manager[-1].scale #  nm/pix\n",
    "units = image.axes_manager[-1].units"
   ]
  },
  {
   "cell_type": "code",
   "execution_count": null,
   "metadata": {},
   "outputs": [],
   "source": [
    "# Open the pre-made PTO-SRO atom lattice. \n",
    "atom_lattice = am.load_atom_lattice_from_hdf5(\"Atom_Lattice_crop.hdf5\")\n",
    "sublattice1 = atom_lattice.sublattice_list[0] #  Pb-Sr Sublattice\n",
    "sublattice2 = atom_lattice.sublattice_list[1] #  Ti-Ru Sublattice"
   ]
  },
  {
   "cell_type": "code",
   "execution_count": null,
   "metadata": {},
   "outputs": [],
   "source": [
    "# Plot the sublattice planes to see which zone_vector_index we use\n",
    "\n",
    "sublattice2.construct_zone_axes(atom_plane_tolerance=1)\n",
    "# sublattice2.plot_planes()"
   ]
  },
  {
   "cell_type": "code",
   "execution_count": null,
   "metadata": {},
   "outputs": [],
   "source": [
    "# Set up parameters for calculate_atom_plane_curvature\n",
    "\n",
    "zone_vector_index = 0\n",
    "atom_planes = (2, 6) #  chooses the starting and ending atom planes\n",
    "vmin, vmax = 1, 2\n",
    "cmap = 'bwr' #  see matplotlib and colorcet for more colormaps\n",
    "title = 'Curvature Map'\n",
    "filename = None #  Set to a string if you want to save the map"
   ]
  },
  {
   "cell_type": "code",
   "execution_count": null,
   "metadata": {},
   "outputs": [],
   "source": [
    "# Set the extra initial fitting parameters\n",
    "\n",
    "p0 = [14, 10, 24, 173]\n",
    "kwargs = {'p0': p0, 'maxfev': 1000}"
   ]
  },
  {
   "cell_type": "code",
   "execution_count": null,
   "metadata": {},
   "outputs": [],
   "source": [
    "# We want to see the curvature in the SRO Sublattice\n",
    "\n",
    "curvature_map = tml.calculate_atom_plane_curvature(sublattice2, zone_vector_index,\n",
    "                    sampling=sampling, units=units, cmap=cmap, title=title,\n",
    "                    atom_planes=atom_planes, **kwargs)"
   ]
  },
  {
   "cell_type": "code",
   "execution_count": null,
   "metadata": {},
   "outputs": [],
   "source": [
    "# When using plot_and_return_fits=True, the function will return the curve\n",
    "#   fittings, and plot each plane.\n",
    "\n",
    "curvature_map, fittings = tml.calculate_atom_plane_curvature(sublattice2, zone_vector_index,\n",
    "                    sampling=sampling, units=units, cmap=cmap, title=title,\n",
    "                    atom_planes=atom_planes, **kwargs,\n",
    "                    plot_and_return_fits=True)"
   ]
  }
 ],
 "metadata": {
  "kernelspec": {
   "display_name": "Python 3 (ipykernel)",
   "language": "python",
   "name": "python3"
  },
  "language_info": {
   "codemirror_mode": {
    "name": "ipython",
    "version": 3
   },
   "file_extension": ".py",
   "mimetype": "text/x-python",
   "name": "python",
   "nbconvert_exporter": "python",
   "pygments_lexer": "ipython3",
   "version": "3.9.0"
  }
 },
 "nbformat": 4,
 "nbformat_minor": 2
}
