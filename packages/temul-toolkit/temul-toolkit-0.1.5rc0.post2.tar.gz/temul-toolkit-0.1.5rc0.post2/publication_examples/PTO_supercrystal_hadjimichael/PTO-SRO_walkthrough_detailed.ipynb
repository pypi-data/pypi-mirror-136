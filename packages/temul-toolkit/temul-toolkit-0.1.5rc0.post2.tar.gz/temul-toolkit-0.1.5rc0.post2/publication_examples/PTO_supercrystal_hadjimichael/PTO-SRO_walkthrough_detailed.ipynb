{
 "cells": [
  {
   "cell_type": "code",
   "execution_count": null,
   "metadata": {},
   "outputs": [],
   "source": [
    "import temul.api as tml\n",
    "import atomap.api as am\n",
    "import hyperspy.api as hs\n",
    "import numpy as np\n",
    "import os\n",
    "\n",
    "if \"data\" not in os.path.abspath(''):\n",
    "    path_to_data = os.path.join(os.path.abspath(''), \"data\") \n",
    "    os.chdir(path_to_data)\n"
   ]
  },
  {
   "cell_type": "code",
   "execution_count": null,
   "metadata": {},
   "outputs": [],
   "source": [
    "# Open the PTO/SRO dataset\n",
    "\n",
    "image = hs.load('Cropped_PTO-SRO_Aligned.hspy')\n",
    "sampling = image.axes_manager[-1].scale #  nm/pix\n",
    "units = image.axes_manager[-1].units\n",
    "image.plot()\n"
   ]
  },
  {
   "cell_type": "code",
   "execution_count": null,
   "metadata": {},
   "outputs": [],
   "source": [
    "''' Find the atom positions.The difference in intensity between PTO and SRO can\n",
    "cause issues, so you can use hyperspy to just crop the SRO layer or use the\n",
    "atomap atom picker. If you don't want to, you can just load the data as shown\n",
    "below. '''\n",
    "\n",
    "just_load_the_data = True\n",
    "\n",
    "if just_load_the_data:\n",
    "    atom_positions1 = np.load('atom_positions1.npy')\n",
    "else:\n",
    "    atom_positions1 = am.get_atom_positions(image, separation=10, pca=True)\n",
    "    atom_positions1 = am.add_atoms_with_gui(image, atom_positions1)\n"
   ]
  },
  {
   "cell_type": "code",
   "execution_count": null,
   "metadata": {},
   "outputs": [],
   "source": [
    "sublattice1 = am.Sublattice(atom_positions1, image, color='red')\n",
    "sublattice1.find_nearest_neighbors()\n",
    "sublattice1.refine_atom_positions_using_2d_gaussian(percent_to_nn=0.25)\n",
    "sublattice1.construct_zone_axes(atom_plane_tolerance=1)\n",
    "sublattice1.plot()"
   ]
  },
  {
   "cell_type": "code",
   "execution_count": null,
   "metadata": {},
   "outputs": [],
   "source": [
    "# Find sublattice2 using sublattice1\n",
    "\n",
    "atom_plane_dir = sublattice1.zones_axis_average_distances[3]\n",
    "\n",
    "atom_positions2 = sublattice1.find_missing_atoms_from_zone_vector(\n",
    "    atom_plane_dir, vector_fraction=0.5)\n"
   ]
  },
  {
   "cell_type": "code",
   "execution_count": null,
   "metadata": {},
   "outputs": [],
   "source": [
    "sublattice2 = am.Sublattice(atom_positions2, image, color='blue')\n",
    "sublattice2.find_nearest_neighbors()\n",
    "sublattice2.refine_atom_positions_using_2d_gaussian(percent_to_nn=0.25)\n",
    "sublattice2.construct_zone_axes(atom_plane_tolerance=1)\n",
    "sublattice2.plot()\n"
   ]
  },
  {
   "cell_type": "code",
   "execution_count": null,
   "metadata": {},
   "outputs": [],
   "source": [
    "# Make and save the Atom Lattice\n",
    "\n",
    "atom_lattice = am.Atom_Lattice(image, name='PTO-SRO-cropped-region',\n",
    "                               sublattice_list=[sublattice1, sublattice2])\n",
    "# atom_lattice.save(filename=\"Atom_Lattice_crop_new.hdf5\")\n",
    "atom_lattice.plot()"
   ]
  },
  {
   "cell_type": "code",
   "execution_count": null,
   "metadata": {},
   "outputs": [],
   "source": [
    "# Set up parameters for calculate_atom_plane_curvature\n",
    "\n",
    "zone_vector_index = 0\n",
    "atom_planes = (2, 6) #  chooses the starting and ending atom planes\n",
    "vmin, vmax = 1, 2\n",
    "cmap = 'bwr' #  see matplotlib and colorcet for more colormaps\n",
    "title = 'Curvature Map'\n",
    "filename = None #  Set to a string if you want to save the map"
   ]
  },
  {
   "cell_type": "code",
   "execution_count": null,
   "metadata": {},
   "outputs": [],
   "source": [
    "# Set the extra initial fitting parameters\n",
    "\n",
    "p0 = [14, 10, 24, 173]\n",
    "kwargs = {'p0': p0, 'maxfev': 1000}"
   ]
  },
  {
   "cell_type": "code",
   "execution_count": null,
   "metadata": {},
   "outputs": [],
   "source": [
    "# We want to see the curvature in the SRO Sublattice\n",
    "\n",
    "curvature_map = tml.calculate_atom_plane_curvature(sublattice2, zone_vector_index, title=title,\n",
    "                    sampling=sampling, units=units, cmap=cmap, **kwargs)"
   ]
  },
  {
   "cell_type": "code",
   "execution_count": null,
   "metadata": {},
   "outputs": [],
   "source": [
    "# We want to see the curvature in just the SRO Region\n",
    "\n",
    "curvature_map = tml.calculate_atom_plane_curvature(sublattice2, zone_vector_index, title=title,\n",
    "                    sampling=sampling, units=units, cmap=cmap, **kwargs,\n",
    "                    atom_planes=atom_planes)"
   ]
  },
  {
   "cell_type": "code",
   "execution_count": null,
   "metadata": {},
   "outputs": [],
   "source": [
    "# When using plot_and_return_fits=True, the function will return the curve\n",
    "#   fittings, and plot each plane.\n",
    "\n",
    "curvature_map, fittings = tml.calculate_atom_plane_curvature(sublattice2, zone_vector_index,\n",
    "                    sampling=sampling, units=units, cmap=cmap, title=title,\n",
    "                    atom_planes=atom_planes, **kwargs,\n",
    "                    plot_and_return_fits=True)"
   ]
  }
 ],
 "metadata": {
  "kernelspec": {
   "display_name": "Python 3 (ipykernel)",
   "language": "python",
   "name": "python3"
  },
  "language_info": {
   "codemirror_mode": {
    "name": "ipython",
    "version": 3
   },
   "file_extension": ".py",
   "mimetype": "text/x-python",
   "name": "python",
   "nbconvert_exporter": "python",
   "pygments_lexer": "ipython3",
   "version": "3.9.0"
  }
 },
 "nbformat": 4,
 "nbformat_minor": 2
}
