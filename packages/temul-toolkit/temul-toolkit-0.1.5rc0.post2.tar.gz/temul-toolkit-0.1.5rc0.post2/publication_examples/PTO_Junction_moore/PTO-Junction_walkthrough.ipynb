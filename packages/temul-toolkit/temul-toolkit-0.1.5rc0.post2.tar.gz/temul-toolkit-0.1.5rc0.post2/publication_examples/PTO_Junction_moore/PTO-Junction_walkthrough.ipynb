{
 "cells": [
  {
   "cell_type": "markdown",
   "metadata": {},
   "source": [
    "# Lead Titanate (PTO) domain wall junction data analysis walk-through\n",
    "\n",
    "The data from this notebook is published in:\n",
    "\n",
    "Kalani Moore, Michele Conroy, Eoghan N. O'Connell, Charlotte Cochard, Jennifer\n",
    "Mackel, Alan Harvey, Thomas E. Hooper, Andrew J. Bell, J. Marty Gregg, Ursel\n",
    "Bangert, Highly Charged 180° Head-to-Head Domain Walls in PbTiO3, Nature\n",
    "Communications Physics, 2020."
   ]
  },
  {
   "cell_type": "code",
   "execution_count": null,
   "metadata": {},
   "outputs": [],
   "source": [
    "import matplotlib.pyplot as plt\n",
    "import temul.api as tml\n",
    "import atomap.api as am\n",
    "import hyperspy.api as hs\n",
    "import numpy as np\n",
    "import os\n",
    "\n",
    "if \"data\" not in os.path.abspath(''):\n",
    "    path_to_data = os.path.join(os.path.abspath(''), \"data\")\n",
    "    os.chdir(path_to_data)\n"
   ]
  },
  {
   "cell_type": "code",
   "execution_count": null,
   "metadata": {},
   "outputs": [],
   "source": [
    "%matplotlib nbagg"
   ]
  },
  {
   "cell_type": "code",
   "execution_count": null,
   "metadata": {},
   "outputs": [],
   "source": [
    "# Open the original PTO Junction dataset\n",
    "\n",
    "image = hs.load(\"filtered_PTO_HAADF_STEM.hspy\")\n",
    "sampling = image.axes_manager[-1].scale  # nm/pix\n",
    "units = image.axes_manager[-1].units\n",
    "image.plot()"
   ]
  },
  {
   "cell_type": "code",
   "execution_count": null,
   "metadata": {},
   "outputs": [],
   "source": [
    "# Open the pre-made PTO atom lattice. This may take a while.\n",
    "\n",
    "atom_lattice = am.load_atom_lattice_from_hdf5(\"Atom_Lattice.hdf5\", False)\n",
    "sublattice1 = atom_lattice.sublattice_list[0]  # Pb Sublattice\n",
    "sublattice2 = atom_lattice.sublattice_list[1]  # Ti Sublattice\n",
    "sublattice1.construct_zone_axes(atom_plane_tolerance=1)\n"
   ]
  },
  {
   "cell_type": "code",
   "execution_count": null,
   "metadata": {},
   "outputs": [],
   "source": [
    "# Set up parameters for plotting the strain, rotation, and c/a ratio maps:\n",
    "zone_vector_index_A = 0\n",
    "zone_vector_index_B = 1\n",
    "# Note that sometimes the 0 and 1 axes are constructed first or second, so you may have to swap them.\n",
    "\n",
    "filename = None  # Set to a string if you want to save the map"
   ]
  },
  {
   "cell_type": "markdown",
   "metadata": {},
   "source": [
    "## Structure Mapping\n",
    "\n",
    "You can use return_x_y_z=True to get the x,y, and strain/rotation/ratio\n",
    "values also!\n",
    "Check the documentation here: temul-toolkit.readthedocs.io\n"
   ]
  },
  {
   "cell_type": "markdown",
   "metadata": {},
   "source": [
    "### Prepare the line profile positions\n",
    "\n",
    "Plot the line profiles with temul.signal_plotting functions\n",
    "You can also choose your own line_profile_positions with\n",
    "am.add_atoms_with_gui(image) and use the skimage.profile_line for\n",
    "customisability.\n"
   ]
  },
  {
   "cell_type": "code",
   "execution_count": null,
   "metadata": {},
   "outputs": [],
   "source": [
    "line_profile_positions = np.load('line_profile_positions.npy')\n",
    "# line_profile_positions = tmlplot.choose_points_on_image(image) #  manual"
   ]
  },
  {
   "cell_type": "markdown",
   "metadata": {},
   "source": [
    "### Strain Map"
   ]
  },
  {
   "cell_type": "code",
   "execution_count": null,
   "metadata": {},
   "outputs": [],
   "source": [
    "# We want to see the strain map of the Pb Sublattice in the y-axis direction\n",
    "\n",
    "vmin = -15\n",
    "vmax = 30\n",
    "cmap = 'inferno'\n",
    "theoretical_value = round(3.929/10, 3)  # units of nm\n",
    "\n",
    "strain_map = tml.get_strain_map(sublattice1, zone_vector_index_A,\n",
    "                                 theoretical_value, sampling=sampling,\n",
    "                                 units=units, vmin=vmin, vmax=vmax, cmap=cmap)\n"
   ]
  },
  {
   "cell_type": "code",
   "execution_count": null,
   "metadata": {},
   "outputs": [],
   "source": [
    "kwargs = {'vmin': vmin, 'vmax': vmax, 'cmap': cmap}\n",
    "\n",
    "tml.compare_images_line_profile_one_image(strain_map, line_profile_positions,\n",
    "                                      linewidth=100, arrow='h', linetrace=0.05,\n",
    "                                      **kwargs)\n"
   ]
  },
  {
   "cell_type": "markdown",
   "metadata": {},
   "source": [
    "### Rotation Map"
   ]
  },
  {
   "cell_type": "code",
   "execution_count": null,
   "metadata": {},
   "outputs": [],
   "source": [
    "# Now plot the rotation map of the Pb Sublattice in the x-axis direction to see\n",
    "# the turning of the lattice across the junction.\n",
    "\n",
    "vmin = -5\n",
    "vmax = 15\n",
    "cmap = 'inferno'\n",
    "angle_offset = -2  # degrees\n"
   ]
  },
  {
   "cell_type": "code",
   "execution_count": null,
   "metadata": {},
   "outputs": [],
   "source": [
    "# Now plot the rotation map of the Pb Sublattice in the x-axis direction to see\n",
    "# the turning of the lattice across the junction.\n",
    "\n",
    "vmin = -5\n",
    "vmax = 15\n",
    "cmap = 'inferno'\n",
    "angle_offset = -2  # degrees\n",
    "\n",
    "rotation_map = tml.rotation_of_atom_planes(\n",
    "                    sublattice1, zone_vector_index_B,\n",
    "                    angle_offset, degrees=True, sampling=sampling, units=units,\n",
    "                    vmin=vmin, vmax=vmax, cmap=cmap)\n"
   ]
  },
  {
   "cell_type": "code",
   "execution_count": null,
   "metadata": {},
   "outputs": [],
   "source": [
    "kwargs = {'vmin': vmin, 'vmax': vmax, 'cmap': cmap}\n",
    "\n",
    "tml.compare_images_line_profile_one_image(rotation_map, line_profile_positions,\n",
    "                                      linewidth=100, arrow='h', linetrace=0.05,\n",
    "                                      **kwargs)\n"
   ]
  },
  {
   "cell_type": "markdown",
   "metadata": {},
   "source": [
    "### c/a Ratio Map"
   ]
  },
  {
   "cell_type": "code",
   "execution_count": null,
   "metadata": {},
   "outputs": [],
   "source": [
    "# Now plot the c/a ratio map of the Pb Sublattice\n",
    "\n",
    "vmin = 1\n",
    "vmax = 1.15\n",
    "cmap = 'inferno'\n",
    "ideal_ratio_one = True  # values under 1 will be divided by themselves\n",
    "\n",
    "ca_ratio_map = tml.ratio_of_lattice_spacings(\n",
    "    sublattice1, zone_vector_index_B,\n",
    "    zone_vector_index_A, ideal_ratio_one, sampling=sampling,\n",
    "    units=units, cmap=cmap)\n",
    "\n",
    "ca_ratio_map.plot(vmin=vmin, vmax=vmax, cmap=cmap)\n"
   ]
  },
  {
   "cell_type": "code",
   "execution_count": null,
   "metadata": {},
   "outputs": [],
   "source": [
    "kwargs = {'vmin': vmin, 'vmax': vmax, 'cmap': cmap}\n",
    "\n",
    "tml.compare_images_line_profile_one_image(ca_ratio_map, line_profile_positions,\n",
    "                                      linewidth=100, arrow='h', linetrace=0.05,\n",
    "                                      **kwargs)\n"
   ]
  },
  {
   "cell_type": "markdown",
   "metadata": {},
   "source": [
    "## Polarisation Mapping\n",
    "\n",
    "In this case, the PTO structure near the junction is highly strained. Therefore, we can't use the the Atomap get_polarization_from_second_sublattice function."
   ]
  },
  {
   "cell_type": "code",
   "execution_count": null,
   "metadata": {},
   "outputs": [],
   "source": [
    "atom_positions_actual = np.array([sublattice2.x_position, sublattice2.y_position]).T\n",
    "atom_positions_ideal = np.load('atom_positions_orig_2.npy')\n",
    "\n",
    "u, v = tml.find_polarisation_vectors(\n",
    "    atom_positions_actual, atom_positions_ideal)\n",
    "x, y = atom_positions_actual.T.tolist()"
   ]
  },
  {
   "cell_type": "code",
   "execution_count": null,
   "metadata": {},
   "outputs": [],
   "source": [
    "# Plot the polarisation vectors (zoom in to get a better look, the top left is\n",
    "# off zone)\n",
    "plt.style.use(\"grayscale\")\n",
    "tml.plot_polarisation_vectors(\n",
    "    x=x, y=y, u=u, v=v, image=image.data,\n",
    "    sampling=sampling, units=units, unit_vector=False, overlay=True,\n",
    "    color='yellow', plot_style='vector', title='Polarisation',\n",
    "    monitor_dpi=250, save='Polarisation_magnitude')"
   ]
  },
  {
   "cell_type": "code",
   "execution_count": null,
   "metadata": {},
   "outputs": [],
   "source": [
    "# Plot the angle information as a colorwheel\n",
    "tml.plot_polarisation_vectors(\n",
    "    x=x, y=y, u=u, v=v, image=image.data, save='Polarisation_angle',\n",
    "    sampling=sampling, units=units, unit_vector=True, overlay=True,\n",
    "    color='yellow', plot_style='colorwheel', title='Polarisation',\n",
    "    monitor_dpi=250, vector_rep='angle', degrees=True)"
   ]
  },
  {
   "cell_type": "code",
   "execution_count": null,
   "metadata": {},
   "outputs": [],
   "source": []
  }
 ],
 "metadata": {
  "kernelspec": {
   "display_name": "Python 3 (ipykernel)",
   "language": "python",
   "name": "python3"
  },
  "language_info": {
   "codemirror_mode": {
    "name": "ipython",
    "version": 3
   },
   "file_extension": ".py",
   "mimetype": "text/x-python",
   "name": "python",
   "nbconvert_exporter": "python",
   "pygments_lexer": "ipython3",
   "version": "3.9.0"
  }
 },
 "nbformat": 4,
 "nbformat_minor": 2
}
