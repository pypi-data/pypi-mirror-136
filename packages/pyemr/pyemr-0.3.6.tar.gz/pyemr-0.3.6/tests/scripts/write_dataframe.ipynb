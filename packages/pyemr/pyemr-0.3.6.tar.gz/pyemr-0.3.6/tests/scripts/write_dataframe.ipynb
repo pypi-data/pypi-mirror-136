{
 "cells": [
  {
   "cell_type": "code",
   "execution_count": null,
   "id": "8bf53307",
   "metadata": {},
   "outputs": [],
   "source": [
    "# pylint: skip-file\n",
    "import sys\n",
    "import pyspark\n",
    "\n",
    "uuid = \"asdsdsd\"\n",
    "out_path = \"s3://some/example/path.parquet\"\n",
    "\n",
    "sqlContext = pyspark.sql.SparkSession.builder.config(\n",
    "    \"spark.sql.parquet.datetimeRebaseModeInWrite\",\n",
    "    \"LEGACY\",\n",
    ").getOrCreate()\n",
    "\n",
    "df = sqlContext.createDataFrame(\n",
    "    [\n",
    "        (1, \"foo\"),  # create your data here, be consistent in the types.\n",
    "        (2, \"bar\"),\n",
    "        (2, \"bar\"),\n",
    "    ],\n",
    "    [\"id\", \"label\"],  # add your column names here\n",
    ")\n",
    "\n",
    "df.write.parquet(out_path)\n",
    "\n",
    "print(f\"Finished:{uuid}\")"
   ]
  }
 ],
 "metadata": {
  "kernelspec": {
   "display_name": "PYEMR (s3-mock)",
   "language": "python",
   "name": "pyemr"
  },
  "language_info": {
   "codemirror_mode": {
    "name": "ipython",
    "version": 3
   },
   "file_extension": ".py",
   "mimetype": "text/x-python",
   "name": "python",
   "nbconvert_exporter": "python",
   "pygments_lexer": "ipython3",
   "version": "3.7.7"
  }
 },
 "nbformat": 4,
 "nbformat_minor": 5
}
