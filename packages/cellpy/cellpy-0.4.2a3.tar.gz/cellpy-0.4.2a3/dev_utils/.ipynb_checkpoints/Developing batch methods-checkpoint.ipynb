{
 "cells": [
  {
   "cell_type": "markdown",
   "metadata": {},
   "source": [
    "# Batch methods"
   ]
  },
  {
   "cell_type": "code",
   "execution_count": 1,
   "metadata": {},
   "outputs": [],
   "source": [
    "# standard imports\n",
    "import matplotlib.pyplot as plt\n",
    "import pandas as pd\n",
    "import os\n",
    "import tempfile\n",
    "%matplotlib inline\n",
    "# import seaborn as sbn # can be used for getting nice colormaps and good settings of the matplotlib rc"
   ]
  },
  {
   "cell_type": "code",
   "execution_count": 2,
   "metadata": {},
   "outputs": [
    {
     "data": {
      "text/html": [
       "<style>.container { width:100% !important; }</style>"
      ],
      "text/plain": [
       "<IPython.core.display.HTML object>"
      ]
     },
     "metadata": {},
     "output_type": "display_data"
    }
   ],
   "source": [
    "# some tweaks to change the apperance of the notebook (you dont have to use these if you dont like them)\n",
    "\n",
    "# big figures\n",
    "from IPython.core.pylabtools import figsize\n",
    "figsize(14, 7)\n",
    "\n",
    "# full width\n",
    "from IPython.core.display import display, HTML\n",
    "display(HTML(\"<style>.container { width:100% !important; }</style>\"))"
   ]
  },
  {
   "cell_type": "code",
   "execution_count": 3,
   "metadata": {},
   "outputs": [
    {
     "data": {
      "application/javascript": [
       "IPython.OutputArea.prototype._should_scroll = function(lines) {\n",
       "    return false;\n",
       "}"
      ],
      "text/plain": [
       "<IPython.core.display.Javascript object>"
      ]
     },
     "metadata": {},
     "output_type": "display_data"
    }
   ],
   "source": [
    "%%javascript\n",
    "IPython.OutputArea.prototype._should_scroll = function(lines) {\n",
    "    return false;\n",
    "}"
   ]
  },
  {
   "cell_type": "code",
   "execution_count": null,
   "metadata": {},
   "outputs": [],
   "source": [
    "# cellpy imports\n",
    "from cellpy.utils import batch"
   ]
  },
  {
   "cell_type": "code",
   "execution_count": null,
   "metadata": {},
   "outputs": [],
   "source": [
    "\n",
    "def clean_dir():\n",
    "    new_path = tempfile.mkdtemp()\n",
    "    return new_path"
   ]
  },
  {
   "cell_type": "code",
   "execution_count": null,
   "metadata": {},
   "outputs": [],
   "source": [
    "def batch_instance(clean_dir):\n",
    "    prms = batch.prms\n",
    "    prms.Paths.db_filename = test_db_filename\n",
    "    prms.Paths.cellpydatadir = test_data_dir_cellpy\n",
    "    prms.Paths.outdatadir = clean_dir\n",
    "    prms.Paths.rawdatadir = test_data_dir_raw\n",
    "    prms.Paths.db_path = test_data_dir_db\n",
    "    prms.Paths.filelogdir = clean_dir\n",
    "    return batch.init(log_level=\"DEBUG\")"
   ]
  },
  {
   "cell_type": "code",
   "execution_count": null,
   "metadata": {},
   "outputs": [],
   "source": [
    "# -------- defining overall path-names etc ----------\n",
    "current_file_path = os.getcwd()\n",
    "relative_test_data_dir = \"../testdata\"\n",
    "test_data_dir = os.path.abspath(os.path.join(current_file_path, relative_test_data_dir))\n",
    "\n",
    "test_data_dir_raw = os.path.join(test_data_dir, \"data\")\n",
    "test_data_dir_out = os.path.join(test_data_dir, \"out\")\n",
    "test_data_dir_cellpy = os.path.join(test_data_dir, \"hdf5\")\n",
    "test_data_dir_db = os.path.join(test_data_dir, \"db\")\n",
    "\n",
    "test_cellpy_file = \"20160805_test001_45_cc.h5\"\n",
    "test_cellpy_file_full = os.path.join(test_data_dir_cellpy,test_cellpy_file)\n",
    "\n",
    "test_cellpy_file_tmp = \"tmpfile.h5\"\n",
    "test_cellpy_file_tmp_full = os.path.join(test_data_dir_cellpy,test_cellpy_file_tmp)\n",
    "\n",
    "test_db_filename = \"cellpy_db.xlsx\"\n",
    "test_db_filename_full = os.path.join(test_data_dir_db,test_db_filename)\n",
    "\n",
    "test_run_name = \"20160805_test001_45_cc\"\n",
    "\n",
    "test_res_file = \"20160805_test001_45_cc_01.res\"\n",
    "test_res_file_full = os.path.join(test_data_dir_raw,test_res_file)"
   ]
  },
  {
   "cell_type": "code",
   "execution_count": null,
   "metadata": {},
   "outputs": [],
   "source": [
    "out_dir = clean_dir()\n",
    "print(out_dir)"
   ]
  },
  {
   "cell_type": "code",
   "execution_count": null,
   "metadata": {},
   "outputs": [],
   "source": [
    "b = batch_instance(out_dir)"
   ]
  },
  {
   "cell_type": "code",
   "execution_count": null,
   "metadata": {},
   "outputs": [],
   "source": [
    "# Name of the experimental set (as defined in the excel-file)\n",
    "name = \"test\"\n",
    "project = \"ProjectOfRun\"\n",
    "b.name = name\n",
    "b.project = project"
   ]
  },
  {
   "cell_type": "code",
   "execution_count": null,
   "metadata": {},
   "outputs": [],
   "source": [
    "# some options for loading, exporting and saving\n",
    "b.export_raw = True\n",
    "b.export_cycles = True\n",
    "b.export_ica = False\n",
    "b.save_cellpy_file = True\n",
    "b.force_raw_file = True\n",
    "b.force_cellpy_file = False\n",
    "b.shifted_cycles = True\n",
    "\n",
    "# adding some extra things to make a summary of:\n",
    "b.selected_summaries.extend([\"shifted_charge_capacity\", \"shifted_discharge_capacity\", \"low_level\", \"high_level\",])"
   ]
  },
  {
   "cell_type": "code",
   "execution_count": null,
   "metadata": {},
   "outputs": [],
   "source": [
    "b.create_journal()"
   ]
  },
  {
   "cell_type": "code",
   "execution_count": null,
   "metadata": {},
   "outputs": [],
   "source": [
    "b.create_folder_structure()"
   ]
  },
  {
   "cell_type": "code",
   "execution_count": null,
   "metadata": {},
   "outputs": [],
   "source": [
    "b.update()"
   ]
  },
  {
   "cell_type": "code",
   "execution_count": null,
   "metadata": {},
   "outputs": [],
   "source": [
    "b.make_summaries()"
   ]
  },
  {
   "cell_type": "code",
   "execution_count": null,
   "metadata": {},
   "outputs": [],
   "source": [
    "p = os.path.join(out_dir, b.project)\n",
    "print(p)\n",
    "p = os.path.join(p, b.name)\n",
    "os.listdir(p)\n",
    "r = os.path.join(p, 'raw_data')\n",
    "os.listdir(r)"
   ]
  },
  {
   "cell_type": "code",
   "execution_count": null,
   "metadata": {},
   "outputs": [],
   "source": [
    "f = os.path.join(r, '20160805_test001_47_cc_01_cycles.csv')\n",
    "cycles = pd.read_csv(f, sep=';')"
   ]
  },
  {
   "cell_type": "code",
   "execution_count": null,
   "metadata": {},
   "outputs": [],
   "source": [
    "cycles.head()"
   ]
  },
  {
   "cell_type": "code",
   "execution_count": null,
   "metadata": {},
   "outputs": [],
   "source": [
    "cycles.tail()"
   ]
  },
  {
   "cell_type": "code",
   "execution_count": null,
   "metadata": {},
   "outputs": [],
   "source": [
    "fig, ax = plt.subplots(1,1)\n",
    "ax.plot(cycles[\"cap cycle_no 1\"], cycles[\"voltage cycle_no 1\"], label=\"cycle 1\")\n",
    "ax.plot(cycles[\"cap cycle_no 2\"], cycles[\"voltage cycle_no 2\"], label=\"cycle 2\")\n",
    "ax.plot(cycles[\"cap cycle_no 3\"], cycles[\"voltage cycle_no 3\"], label=\"cycle 3\")\n",
    "plt.legend()"
   ]
  },
  {
   "cell_type": "code",
   "execution_count": null,
   "metadata": {},
   "outputs": [],
   "source": [
    "import shutil"
   ]
  },
  {
   "cell_type": "code",
   "execution_count": null,
   "metadata": {},
   "outputs": [],
   "source": [
    "shutil.rmtree(p)"
   ]
  },
  {
   "cell_type": "code",
   "execution_count": null,
   "metadata": {},
   "outputs": [],
   "source": []
  }
 ],
 "metadata": {
  "kernelspec": {
   "display_name": "Python3 (cellpy)",
   "language": "python",
   "name": "cellpy"
  },
  "language_info": {
   "codemirror_mode": {
    "name": "ipython",
    "version": 3
   },
   "file_extension": ".py",
   "mimetype": "text/x-python",
   "name": "python",
   "nbconvert_exporter": "python",
   "pygments_lexer": "ipython3",
   "version": "3.6.5"
  }
 },
 "nbformat": 4,
 "nbformat_minor": 2
}
