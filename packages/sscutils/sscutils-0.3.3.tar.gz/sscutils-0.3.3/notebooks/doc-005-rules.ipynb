{
 "cells": [
  {
   "cell_type": "markdown",
   "id": "a84efe54",
   "metadata": {},
   "source": [
    "# Rules\n",
    "\n",
    "Notes of rules that are necessary for operation. Too strict or stupid rules need to change!\n",
    "\n",
    "- IndexBase class and ScruTable need to be defined in the same file for Foreign keys to be found\n",
    "- Don't import ScruTable directly as a dependecy only import the module where it can be found\n",
    "- Only one step function per top module\n",
    "- TableNameFeatures should be the name of table feature classes if table name is to be inferred\n",
    "- No composite features with same prefix in same table\n",
    "- Feature name cant contain __\n"
   ]
  }
 ],
 "metadata": {
  "kernelspec": {
   "display_name": "Python 3",
   "language": "python",
   "name": "python3"
  },
  "language_info": {
   "codemirror_mode": {
    "name": "ipython",
    "version": 3
   },
   "file_extension": ".py",
   "mimetype": "text/x-python",
   "name": "python",
   "nbconvert_exporter": "python",
   "pygments_lexer": "ipython3",
   "version": "3.8.10"
  }
 },
 "nbformat": 4,
 "nbformat_minor": 5
}
