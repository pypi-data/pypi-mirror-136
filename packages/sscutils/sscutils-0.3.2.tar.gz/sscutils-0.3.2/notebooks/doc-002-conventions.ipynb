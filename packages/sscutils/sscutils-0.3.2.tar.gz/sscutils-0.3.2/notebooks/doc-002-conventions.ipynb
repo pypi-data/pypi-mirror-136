{
 "cells": [
  {
   "cell_type": "markdown",
   "id": "7be6c2eb",
   "metadata": {},
   "source": [
    "# Naming Conventions and Restrictions\n",
    "\n",
    "- repo names: \n",
    "  - lower case letters and non-duplicated dashes (-) not at either end\n",
    "- environment and pipeline step names:\n",
    "  - lower case letters and non-duplicated underscores (_) not at either end\n",
    "- prefix names:\n",
    "  - lower case letters, at least 2\n",
    "\n",
    "### Metadata\n",
    "\n",
    "- `[a-b]*_table` table names based on singular form of entity\n",
    "- see all in dogshow standard"
   ]
  }
 ],
 "metadata": {
  "kernelspec": {
   "display_name": "Python 3",
   "language": "python",
   "name": "python3"
  },
  "language_info": {
   "codemirror_mode": {
    "name": "ipython",
    "version": 3
   },
   "file_extension": ".py",
   "mimetype": "text/x-python",
   "name": "python",
   "nbconvert_exporter": "python",
   "pygments_lexer": "ipython3",
   "version": "3.8.10"
  }
 },
 "nbformat": 4,
 "nbformat_minor": 5
}
