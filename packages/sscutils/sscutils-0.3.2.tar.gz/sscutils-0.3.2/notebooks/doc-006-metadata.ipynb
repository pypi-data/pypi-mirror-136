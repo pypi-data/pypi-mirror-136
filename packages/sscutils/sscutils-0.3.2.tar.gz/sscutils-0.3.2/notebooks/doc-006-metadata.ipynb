{
 "cells": [
  {
   "cell_type": "markdown",
   "id": "a24c3bbb",
   "metadata": {},
   "source": [
    "# Metadata"
   ]
  },
  {
   "cell_type": "markdown",
   "id": "b184085b",
   "metadata": {},
   "source": [
    "\n",
    "## Forms\n",
    "\n",
    "### Internal\n",
    "- bedrock\n",
    "  - cb\n",
    "- datascript object\n",
    "  - scrutable\n",
    "  - entitybase\n",
    "  - compositetypebase\n",
    "- serialized\n",
    "  - yaml\n",
    "\n",
    "\n",
    "### External\n",
    "- sqlalchemy\n",
    "- in parquet"
   ]
  }
 ],
 "metadata": {
  "kernelspec": {
   "display_name": "Python 3",
   "language": "python",
   "name": "python3"
  },
  "language_info": {
   "codemirror_mode": {
    "name": "ipython",
    "version": 3
   },
   "file_extension": ".py",
   "mimetype": "text/x-python",
   "name": "python",
   "nbconvert_exporter": "python",
   "pygments_lexer": "ipython3",
   "version": "3.8.10"
  }
 },
 "nbformat": 4,
 "nbformat_minor": 5
}
