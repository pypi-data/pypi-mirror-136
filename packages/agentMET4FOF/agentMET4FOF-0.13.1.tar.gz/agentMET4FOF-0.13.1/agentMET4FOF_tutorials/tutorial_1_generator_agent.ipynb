{
 "cells": [
  {
   "cell_type": "markdown",
   "metadata": {
    "pycharm": {
     "name": "#%% md\n"
    }
   },
   "source": [
    "# Tutorial 1 - A simple pipeline to plot a signal\n",
    "\n",
    "First we define a simple pipeline of three agents. Two agents will generate a signal\n",
    "(in our case based on the *SineGeneratorAgent*), one of which is a default signal and\n",
    "one with customized parameters. The third one plots the signals on the dashboard,\n",
    "thus needs to be of type *MonitorAgent* or *MetrologicalMonitorAgent*. Besides, the\n",
    "outputs of the signal agents need to be bound to the *MonitorAgent*.\n",
    "\n",
    "\n",
    "Each agent has an internal `current_state` which can be used as a switch to change the \n",
    "behaviour of the agent. The available states are listed\n",
    "[here](https://github.com/Met4FoF/agentMET4FOF/blob/a7e0007fcd460458d629546c99d68ef1f2079c11/agentMET4FOF/agents/base_agents.py#L160).\n",
    "\n",
    "As soon as all agents are initialized and the connections are set up, the agent \n",
    "network is started by accordingly changing all agents' state simultaneously."
   ]
  },
  {
   "cell_type": "code",
   "execution_count": 3,
   "metadata": {
    "pycharm": {
     "name": "#%%\n"
    }
   },
   "outputs": [
    {
     "name": "stdout",
     "output_type": "stream",
     "text": [
      "Error on connecting to existing name server at http://0.0.0.0:3333: Could not locate the name server!\n",
      "Starting NameServer...\n",
      "Broadcast server running on 0.0.0.0:9091\n",
      "NS running on 0.0.0.0:3333 (0.0.0.0)\n",
      "URI = PYRO:Pyro.NameServer@0.0.0.0:3333\n",
      "INFO [2021-07-30 09:59:43.033947] (Default_Sine_generator): INITIALIZED\n",
      "INFO [2021-07-30 09:59:43.083714] (Custom_Sine_generator): INITIALIZED\n",
      "INFO [2021-07-30 09:59:43.133350] (Showcase_a_default_and_a_customized_sine_signal): INITIALIZED\n",
      "[2021-07-30 09:59:43.165943] (Default_Sine_generator): Connected output module: Showcase_a_default_and_a_customized_sine_signal\n",
      "[2021-07-30 09:59:43.182657] (Custom_Sine_generator): Connected output module: Showcase_a_default_and_a_customized_sine_signal\n",
      "\n",
      "|----------------------------------------------------------|\n",
      "|                                                          |\n",
      "| Your agent network is starting up. Open your browser and |\n",
      "| visit the agentMET4FOF dashboard on http://0.0.0.0:8050/ |\n",
      "|                                                          |\n",
      "|----------------------------------------------------------|\n",
      "\n",
      "SET STATE:   Running\n"
     ]
    },
    {
     "name": "stderr",
     "output_type": "stream",
     "text": [
      "127.0.0.1 - - [30/Jul/2021 11:59:43] \"POST /_dash-update-component HTTP/1.1\" 200 61\n",
      "127.0.0.1 - - [30/Jul/2021 11:59:43] \"POST /_dash-update-component HTTP/1.1\" 200 61\n",
      "127.0.0.1 - - [30/Jul/2021 11:59:43] \"POST /_dash-update-component HTTP/1.1\" 200 70\n",
      "127.0.0.1 - - [30/Jul/2021 11:59:43] \"POST /_dash-update-component HTTP/1.1\" 204 0\n",
      "/home/ludwig10/code/agentMET4FOF/agentMET4FOF/dashboard/Dashboard_agt_net.py:817: UserWarning:\n",
      "\n",
      "The Dashboard shows a plot for monitor agent 'Showcase_a_default_and_a_customized_sine_signal' without any axes labels specified. The labels will be represented by generic place holders. Check out tutorial 4 to find out how to specify custom labels.\n",
      "\n",
      "127.0.0.1 - - [30/Jul/2021 11:59:43] \"POST /_dash-update-component HTTP/1.1\" 200 312\n",
      "127.0.0.1 - - [30/Jul/2021 11:59:43] \"POST /_dash-update-component HTTP/1.1\" 200 61\n",
      "127.0.0.1 - - [30/Jul/2021 11:59:43] \"POST /_dash-update-component HTTP/1.1\" 200 70\n",
      "127.0.0.1 - - [30/Jul/2021 11:59:43] \"POST /_dash-update-component HTTP/1.1\" 204 0\n",
      "127.0.0.1 - - [30/Jul/2021 11:59:43] \"POST /_dash-update-component HTTP/1.1\" 200 312\n",
      "127.0.0.1 - - [30/Jul/2021 11:59:43] \"POST /_dash-update-component HTTP/1.1\" 200 61\n",
      "127.0.0.1 - - [30/Jul/2021 11:59:43] \"POST /_dash-update-component HTTP/1.1\" 200 61\n"
     ]
    },
    {
     "name": "stdout",
     "output_type": "stream",
     "text": [
      "[2021-07-30 09:59:44.043635] (Default_Sine_generator): Pack time: 0.000226\n",
      "[2021-07-30 09:59:44.044166] (Default_Sine_generator): Sending: {'quantities': array([0.]), 'time': array([0.])}\n",
      "[2021-07-30 09:59:44.045358] (Showcase_a_default_and_a_customized_sine_signal): Received: {'from': 'Default_Sine_generator', 'data': {'quantities': array([0.]), 'time': array([0.])}, 'senderType': 'SineGeneratorAgent', 'channel': 'default'}\n",
      "[2021-07-30 09:59:44.045690] (Showcase_a_default_and_a_customized_sine_signal): Buffer: {'Default_Sine_generator': {'quantities': array([0.]), 'time': array([0.])}}\n",
      "[2021-07-30 09:59:44.045760] (Showcase_a_default_and_a_customized_sine_signal): Tproc: 0.000295\n",
      "[2021-07-30 09:59:44.095094] (Showcase_a_default_and_a_customized_sine_signal): Received: {'from': 'Custom_Sine_generator', 'data': {'quantities': array([0.]), 'time': array([0.])}, 'senderType': 'SineGeneratorAgent', 'channel': 'default'}\n",
      "[2021-07-30 09:59:44.094609] (Custom_Sine_generator): Pack time: 0.000172\n",
      "[2021-07-30 09:59:44.095426] (Showcase_a_default_and_a_customized_sine_signal): Buffer: {'Default_Sine_generator': {'quantities': array([0.]), 'time': array([0.])}, 'Custom_Sine_generator': {'quantities': array([0.]), 'time': array([0.])}}\n",
      "[2021-07-30 09:59:44.095142] (Custom_Sine_generator): Sending: {'quantities': array([0.]), 'time': array([0.])}\n",
      "[2021-07-30 09:59:44.095463] (Showcase_a_default_and_a_customized_sine_signal): Tproc: 0.000293\n",
      "[2021-07-30 09:59:45.044626] (Default_Sine_generator): Pack time: 0.0008\n",
      "[2021-07-30 09:59:45.045930] (Default_Sine_generator): Sending: {'quantities': array([0.06279052]), 'time': array([0.002])}\n",
      "[2021-07-30 09:59:45.047612] (Showcase_a_default_and_a_customized_sine_signal): Received: {'from': 'Default_Sine_generator', 'data': {'quantities': array([0.06279052]), 'time': array([0.002])}, 'senderType': 'SineGeneratorAgent', 'channel': 'default'}\n",
      "[2021-07-30 09:59:45.048850] (Showcase_a_default_and_a_customized_sine_signal): Buffer: {'Default_Sine_generator': {'quantities': array([0.        , 0.06279052]), 'time': array([0.   , 0.002])}, 'Custom_Sine_generator': {'quantities': array([0.]), 'time': array([0.])}}\n",
      "[2021-07-30 09:59:45.048990] (Showcase_a_default_and_a_customized_sine_signal): Tproc: 0.001239\n",
      "[2021-07-30 09:59:45.094519] (Custom_Sine_generator): Pack time: 0.00012\n",
      "[2021-07-30 09:59:45.095080] (Custom_Sine_generator): Sending: {'quantities': array([0.28845673]), 'time': array([0.02])}\n",
      "[2021-07-30 09:59:45.096230] (Showcase_a_default_and_a_customized_sine_signal): Received: {'from': 'Custom_Sine_generator', 'data': {'quantities': array([0.28845673]), 'time': array([0.02])}, 'senderType': 'SineGeneratorAgent', 'channel': 'default'}\n",
      "[2021-07-30 09:59:45.097126] (Showcase_a_default_and_a_customized_sine_signal): Buffer: {'Default_Sine_generator': {'quantities': array([0.        , 0.06279052]), 'time': array([0.   , 0.002])}, 'Custom_Sine_generator': {'quantities': array([0.        , 0.28845673]), 'time': array([0.  , 0.02])}}\n",
      "[2021-07-30 09:59:45.097229] (Showcase_a_default_and_a_customized_sine_signal): Tproc: 0.000899\n"
     ]
    },
    {
     "name": "stderr",
     "output_type": "stream",
     "text": [
      "127.0.0.1 - - [30/Jul/2021 11:59:45] \"POST /_dash-update-component HTTP/1.1\" 200 61\n",
      "127.0.0.1 - - [30/Jul/2021 11:59:45] \"POST /_dash-update-component HTTP/1.1\" 200 61\n",
      "127.0.0.1 - - [30/Jul/2021 11:59:45] \"POST /_dash-update-component HTTP/1.1\" 200 70\n",
      "127.0.0.1 - - [30/Jul/2021 11:59:45] \"POST /_dash-update-component HTTP/1.1\" 200 61\n",
      "127.0.0.1 - - [30/Jul/2021 11:59:45] \"POST /_dash-update-component HTTP/1.1\" 204 0\n",
      "127.0.0.1 - - [30/Jul/2021 11:59:45] \"POST /_dash-update-component HTTP/1.1\" 200 410\n",
      "127.0.0.1 - - [30/Jul/2021 11:59:45] \"POST /_dash-update-component HTTP/1.1\" 200 70\n",
      "127.0.0.1 - - [30/Jul/2021 11:59:45] \"POST /_dash-update-component HTTP/1.1\" 204 0\n"
     ]
    },
    {
     "name": "stdout",
     "output_type": "stream",
     "text": [
      "[2021-07-30 09:59:46.043679] (Default_Sine_generator): Pack time: 0.000211\n",
      "[2021-07-30 09:59:46.044379] (Default_Sine_generator): Sending: {'quantities': array([0.12533323]), 'time': array([0.004])}\n",
      "[2021-07-30 09:59:46.046502] (Showcase_a_default_and_a_customized_sine_signal): Received: {'from': 'Default_Sine_generator', 'data': {'quantities': array([0.12533323]), 'time': array([0.004])}, 'senderType': 'SineGeneratorAgent', 'channel': 'default'}\n",
      "[2021-07-30 09:59:46.047529] (Showcase_a_default_and_a_customized_sine_signal): Buffer: {'Default_Sine_generator': {'quantities': array([0.        , 0.06279052, 0.12533323]), 'time': array([0.   , 0.002, 0.004])}, 'Custom_Sine_generator': {'quantities': array([0.        , 0.28845673]), 'time': array([0.  , 0.02])}}\n",
      "[2021-07-30 09:59:46.047635] (Showcase_a_default_and_a_customized_sine_signal): Tproc: 0.00102\n",
      "[2021-07-30 09:59:46.094527] (Custom_Sine_generator): Pack time: 0.00016\n",
      "[2021-07-30 09:59:46.095153] (Showcase_a_default_and_a_customized_sine_signal): Received: {'from': 'Custom_Sine_generator', 'data': {'quantities': array([0.53253704]), 'time': array([0.04])}, 'senderType': 'SineGeneratorAgent', 'channel': 'default'}\n",
      "[2021-07-30 09:59:46.094884] (Custom_Sine_generator): Sending: {'quantities': array([0.53253704]), 'time': array([0.04])}\n",
      "[2021-07-30 09:59:46.097297] (Showcase_a_default_and_a_customized_sine_signal): Buffer: {'Default_Sine_generator': {'quantities': array([0.        , 0.06279052, 0.12533323]), 'time': array([0.   , 0.002, 0.004])}, 'Custom_Sine_generator': {'quantities': array([0.        , 0.28845673, 0.53253704]), 'time': array([0.  , 0.02, 0.04])}}\n",
      "[2021-07-30 09:59:46.097420] (Showcase_a_default_and_a_customized_sine_signal): Tproc: 0.002168\n"
     ]
    },
    {
     "name": "stderr",
     "output_type": "stream",
     "text": [
      "127.0.0.1 - - [30/Jul/2021 11:59:46] \"POST /_dash-update-component HTTP/1.1\" 200 410\n",
      "127.0.0.1 - - [30/Jul/2021 11:59:46] \"POST /_dash-update-component HTTP/1.1\" 200 61\n",
      "127.0.0.1 - - [30/Jul/2021 11:59:46] \"POST /_dash-update-component HTTP/1.1\" 204 0\n"
     ]
    },
    {
     "name": "stdout",
     "output_type": "stream",
     "text": [
      "[2021-07-30 09:59:47.045113] (Showcase_a_default_and_a_customized_sine_signal): Received: {'from': 'Default_Sine_generator', 'data': {'quantities': array([0.18738131]), 'time': array([0.006])}, 'senderType': 'SineGeneratorAgent', 'channel': 'default'}\n",
      "[2021-07-30 09:59:47.046707] (Showcase_a_default_and_a_customized_sine_signal): Buffer: {'Default_Sine_generator': {'quantities': array([0.        , 0.06279052, 0.12533323, 0.18738131]), 'time': array([0.   , 0.002, 0.004, 0.006])}, 'Custom_Sine_generator': {'quantities': array([0.        , 0.28845673, 0.53253704]), 'time': array([0.  , 0.02, 0.04])}}\n",
      "[2021-07-30 09:59:47.043935] (Default_Sine_generator): Pack time: 0.000295\n",
      "[2021-07-30 09:59:47.046908] (Showcase_a_default_and_a_customized_sine_signal): Tproc: 0.001603\n",
      "[2021-07-30 09:59:47.044920] (Default_Sine_generator): Sending: {'quantities': array([0.18738131]), 'time': array([0.006])}\n",
      "[2021-07-30 09:59:47.094838] (Custom_Sine_generator): Pack time: 0.000245\n",
      "[2021-07-30 09:59:47.095659] (Custom_Sine_generator): Sending: {'quantities': array([0.69469143]), 'time': array([0.06])}\n",
      "[2021-07-30 09:59:47.097286] (Showcase_a_default_and_a_customized_sine_signal): Received: {'from': 'Custom_Sine_generator', 'data': {'quantities': array([0.69469143]), 'time': array([0.06])}, 'senderType': 'SineGeneratorAgent', 'channel': 'default'}\n",
      "[2021-07-30 09:59:47.098943] (Showcase_a_default_and_a_customized_sine_signal): Buffer: {'Default_Sine_generator': {'quantities': array([0.        , 0.06279052, 0.12533323, 0.18738131]), 'time': array([0.   , 0.002, 0.004, 0.006])}, 'Custom_Sine_generator': {'quantities': array([0.        , 0.28845673, 0.53253704, 0.69469143]), 'time': array([0.  , 0.02, 0.04, 0.06])}}\n",
      "[2021-07-30 09:59:47.099170] (Showcase_a_default_and_a_customized_sine_signal): Tproc: 0.001653\n"
     ]
    },
    {
     "name": "stderr",
     "output_type": "stream",
     "text": [
      "127.0.0.1 - - [30/Jul/2021 11:59:47] \"POST /_dash-update-component HTTP/1.1\" 200 61\n",
      "127.0.0.1 - - [30/Jul/2021 11:59:47] \"POST /_dash-update-component HTTP/1.1\" 200 70\n",
      "127.0.0.1 - - [30/Jul/2021 11:59:47] \"POST /_dash-update-component HTTP/1.1\" 204 0\n",
      "127.0.0.1 - - [30/Jul/2021 11:59:47] \"POST /_dash-update-component HTTP/1.1\" 200 471\n",
      "127.0.0.1 - - [30/Jul/2021 11:59:47] \"POST /_dash-update-component HTTP/1.1\" 200 61\n",
      "127.0.0.1 - - [30/Jul/2021 11:59:47] \"POST /_dash-update-component HTTP/1.1\" 200 61\n",
      "127.0.0.1 - - [30/Jul/2021 11:59:47] \"POST /_dash-update-component HTTP/1.1\" 200 61\n"
     ]
    },
    {
     "name": "stdout",
     "output_type": "stream",
     "text": [
      "[2021-07-30 09:59:48.046405] (Default_Sine_generator): Pack time: 0.000789\n",
      "[2021-07-30 09:59:48.051703] (Default_Sine_generator): Sending: {'quantities': array([0.24868989]), 'time': array([0.008])}\n",
      "[2021-07-30 09:59:48.061048] (Showcase_a_default_and_a_customized_sine_signal): Received: {'from': 'Default_Sine_generator', 'data': {'quantities': array([0.24868989]), 'time': array([0.008])}, 'senderType': 'SineGeneratorAgent', 'channel': 'default'}\n",
      "[2021-07-30 09:59:48.066669] (Showcase_a_default_and_a_customized_sine_signal): Buffer: {'Default_Sine_generator': {'quantities': array([0.        , 0.06279052, 0.12533323, 0.18738131, 0.24868989]), 'time': array([0.   , 0.002, 0.004, 0.006, 0.008])}, 'Custom_Sine_generator': {'quantities': array([0.        , 0.28845673, 0.53253704, 0.69469143]), 'time': array([0.  , 0.02, 0.04, 0.06])}}\n",
      "[2021-07-30 09:59:48.067071] (Showcase_a_default_and_a_customized_sine_signal): Tproc: 0.005775\n",
      "[2021-07-30 09:59:48.094548] (Custom_Sine_generator): Pack time: 0.00015\n",
      "[2021-07-30 09:59:48.095136] (Custom_Sine_generator): Sending: {'quantities': array([0.74997391]), 'time': array([0.08])}\n",
      "[2021-07-30 09:59:48.096008] (Showcase_a_default_and_a_customized_sine_signal): Received: {'from': 'Custom_Sine_generator', 'data': {'quantities': array([0.74997391]), 'time': array([0.08])}, 'senderType': 'SineGeneratorAgent', 'channel': 'default'}\n",
      "[2021-07-30 09:59:48.097694] (Showcase_a_default_and_a_customized_sine_signal): Buffer: {'Default_Sine_generator': {'quantities': array([0.        , 0.06279052, 0.12533323, 0.18738131, 0.24868989]), 'time': array([0.   , 0.002, 0.004, 0.006, 0.008])}, 'Custom_Sine_generator': {'quantities': array([0.        , 0.28845673, 0.53253704, 0.69469143, 0.74997391]), 'time': array([0.  , 0.02, 0.04, 0.06, 0.08])}}\n",
      "[2021-07-30 09:59:48.097824] (Showcase_a_default_and_a_customized_sine_signal): Tproc: 0.001523\n",
      "[2021-07-30 09:59:49.044435] (Default_Sine_generator): Pack time: 0.000309\n",
      "[2021-07-30 09:59:49.046205] (Default_Sine_generator): Sending: {'quantities': array([0.30901699]), 'time': array([0.01])}\n",
      "[2021-07-30 09:59:49.046610] (Showcase_a_default_and_a_customized_sine_signal): Received: {'from': 'Default_Sine_generator', 'data': {'quantities': array([0.30901699]), 'time': array([0.01])}, 'senderType': 'SineGeneratorAgent', 'channel': 'default'}\n",
      "[2021-07-30 09:59:49.051126] (Showcase_a_default_and_a_customized_sine_signal): Buffer: {'Default_Sine_generator': {'quantities': array([0.        , 0.06279052, 0.12533323, 0.18738131, 0.24868989,\n",
      "       0.30901699]), 'time': array([0.   , 0.002, 0.004, 0.006, 0.008, 0.01 ])}, 'Custom_Sine_generator': {'quantities': array([0.        , 0.28845673, 0.53253704, 0.69469143, 0.74997391]), 'time': array([0.  , 0.02, 0.04, 0.06, 0.08])}}\n",
      "[2021-07-30 09:59:49.053322] (Showcase_a_default_and_a_customized_sine_signal): Tproc: 0.006407\n",
      "[2021-07-30 09:59:49.095964] (Custom_Sine_generator): Pack time: 0.000746\n",
      "[2021-07-30 09:59:49.097849] (Custom_Sine_generator): Sending: {'quantities': array([0.68987981]), 'time': array([0.1])}\n",
      "[2021-07-30 09:59:49.098312] (Showcase_a_default_and_a_customized_sine_signal): Received: {'from': 'Custom_Sine_generator', 'data': {'quantities': array([0.68987981]), 'time': array([0.1])}, 'senderType': 'SineGeneratorAgent', 'channel': 'default'}\n",
      "[2021-07-30 09:59:49.102829] (Showcase_a_default_and_a_customized_sine_signal): Buffer: {'Default_Sine_generator': {'quantities': array([0.        , 0.06279052, 0.12533323, 0.18738131, 0.24868989,\n",
      "       0.30901699]), 'time': array([0.   , 0.002, 0.004, 0.006, 0.008, 0.01 ])}, 'Custom_Sine_generator': {'quantities': array([0.        , 0.28845673, 0.53253704, 0.69469143, 0.74997391,\n",
      "       0.68987981]), 'time': array([0.  , 0.02, 0.04, 0.06, 0.08, 0.1 ])}}\n",
      "[2021-07-30 09:59:49.103233] (Showcase_a_default_and_a_customized_sine_signal): Tproc: 0.004633\n",
      "[2021-07-30 09:59:50.043612] (Default_Sine_generator): Pack time: 0.000273\n",
      "[2021-07-30 09:59:50.044007] (Default_Sine_generator): Sending: {'quantities': array([0.36812455]), 'time': array([0.012])}\n",
      "[2021-07-30 09:59:50.044267] (Showcase_a_default_and_a_customized_sine_signal): Received: {'from': 'Default_Sine_generator', 'data': {'quantities': array([0.36812455]), 'time': array([0.012])}, 'senderType': 'SineGeneratorAgent', 'channel': 'default'}\n",
      "[2021-07-30 09:59:50.045715] (Showcase_a_default_and_a_customized_sine_signal): Buffer: {'Default_Sine_generator': {'quantities': array([0.        , 0.06279052, 0.12533323, 0.18738131, 0.24868989,\n",
      "       0.30901699, 0.36812455]), 'time': array([0.   , 0.002, 0.004, 0.006, 0.008, 0.01 , 0.012])}, 'Custom_Sine_generator': {'quantities': array([0.        , 0.28845673, 0.53253704, 0.69469143, 0.74997391,\n",
      "       0.68987981]), 'time': array([0.  , 0.02, 0.04, 0.06, 0.08, 0.1 ])}}\n",
      "[2021-07-30 09:59:50.045804] (Showcase_a_default_and_a_customized_sine_signal): Tproc: 0.001438\n",
      "[2021-07-30 09:59:50.094365] (Custom_Sine_generator): Pack time: 8.9e-05\n",
      "[2021-07-30 09:59:50.094765] (Custom_Sine_generator): Sending: {'quantities': array([0.52365403]), 'time': array([0.12])}\n",
      "[2021-07-30 09:59:50.094914] (Showcase_a_default_and_a_customized_sine_signal): Received: {'from': 'Custom_Sine_generator', 'data': {'quantities': array([0.52365403]), 'time': array([0.12])}, 'senderType': 'SineGeneratorAgent', 'channel': 'default'}\n",
      "[2021-07-30 09:59:50.095690] (Showcase_a_default_and_a_customized_sine_signal): Buffer: {'Default_Sine_generator': {'quantities': array([0.        , 0.06279052, 0.12533323, 0.18738131, 0.24868989,\n",
      "       0.30901699, 0.36812455]), 'time': array([0.   , 0.002, 0.004, 0.006, 0.008, 0.01 , 0.012])}, 'Custom_Sine_generator': {'quantities': array([0.        , 0.28845673, 0.53253704, 0.69469143, 0.74997391,\n",
      "       0.68987981, 0.52365403]), 'time': array([0.  , 0.02, 0.04, 0.06, 0.08, 0.1 , 0.12])}}\n",
      "[2021-07-30 09:59:50.095752] (Showcase_a_default_and_a_customized_sine_signal): Tproc: 0.000757\n",
      "NS shut down.\n",
      "[2021-07-30 09:59:51.045556] (Showcase_a_default_and_a_customized_sine_signal): Received: {'from': 'Default_Sine_generator', 'data': {'quantities': array([0.42577929]), 'time': array([0.014])}, 'senderType': 'SineGeneratorAgent', 'channel': 'default'}\n",
      "[2021-07-30 09:59:51.052541] (Showcase_a_default_and_a_customized_sine_signal): Buffer: {'Default_Sine_generator': {'quantities': array([0.        , 0.06279052, 0.12533323, 0.18738131, 0.24868989,\n",
      "       0.30901699, 0.36812455, 0.42577929]), 'time': array([0.   , 0.002, 0.004, 0.006, 0.008, 0.01 , 0.012, 0.014])}, 'Custom_Sine_generator': {'quantities': array([0.        , 0.28845673, 0.53253704, 0.69469143, 0.74997391,\n",
      "       0.68987981, 0.52365403]), 'time': array([0.  , 0.02, 0.04, 0.06, 0.08, 0.1 , 0.12])}}\n"
     ]
    }
   ],
   "source": [
    "# %load tutorial_1_generator_agent.py\n",
    "from time import sleep\n",
    "\n",
    "import numpy as np\n",
    "\n",
    "from agentMET4FOF.agents import AgentNetwork, MonitorAgent, SineGeneratorAgent\n",
    "\n",
    "\n",
    "def demonstrate_generator_agent_use() -> AgentNetwork:\n",
    "    # Start agent network server.\n",
    "    agent_network = AgentNetwork()\n",
    "\n",
    "    # Initialize agents by adding them to the agent network.\n",
    "    default_sine_agent = agent_network.add_agent(\n",
    "        name=\"Default Sine generator\", agentType=SineGeneratorAgent\n",
    "    )\n",
    "    custom_sine_agent = agent_network.add_agent(\n",
    "        name=\"Custom Sine generator\", agentType=SineGeneratorAgent\n",
    "    )\n",
    "    custom_sine_agent.init_parameters(\n",
    "        sfreq=50,\n",
    "        sine_freq=np.pi,\n",
    "        amplitude=0.75,\n",
    "    )\n",
    "    monitor_agent = agent_network.add_agent(\n",
    "        name=\"Showcase a default and a customized sine signal\", agentType=MonitorAgent\n",
    "    )\n",
    "\n",
    "    # Interconnect agents by either way:\n",
    "    # 1) by agent network.bind_agents(source, target).\n",
    "    agent_network.bind_agents(default_sine_agent, monitor_agent)\n",
    "\n",
    "    # 2) by the agent.bind_output().\n",
    "    custom_sine_agent.bind_output(monitor_agent)\n",
    "\n",
    "    # Set all agents' states to \"Running\".\n",
    "    agent_network.set_running_state()\n",
    "\n",
    "    # Allow for shutting down the network after execution\n",
    "    return agent_network\n",
    "\n",
    "\n",
    "if __name__ == \"__main__\":\n",
    "    signal_demo_network = demonstrate_generator_agent_use()\n",
    "    sleep(60)\n",
    "    signal_demo_network.shutdown()\n"
   ]
  }
 ],
 "metadata": {
  "kernelspec": {
   "display_name": "Python 3",
   "language": "python",
   "name": "python3"
  },
  "language_info": {
   "codemirror_mode": {
    "name": "ipython",
    "version": 3
   },
   "file_extension": ".py",
   "mimetype": "text/x-python",
   "name": "python",
   "nbconvert_exporter": "python",
   "pygments_lexer": "ipython3",
   "version": "3.8.8"
  },
  "varInspector": {
   "cols": {
    "lenName": 16,
    "lenType": 16,
    "lenVar": 40
   },
   "kernels_config": {
    "python": {
     "delete_cmd_postfix": "",
     "delete_cmd_prefix": "del ",
     "library": "var_list.py",
     "varRefreshCmd": "print(var_dic_list())"
    },
    "r": {
     "delete_cmd_postfix": ") ",
     "delete_cmd_prefix": "rm(",
     "library": "var_list.r",
     "varRefreshCmd": "cat(var_dic_list()) "
    }
   },
   "types_to_exclude": [
    "module",
    "function",
    "builtin_function_or_method",
    "instance",
    "_Feature"
   ],
   "window_display": false
  }
 },
 "nbformat": 4,
 "nbformat_minor": 1
}