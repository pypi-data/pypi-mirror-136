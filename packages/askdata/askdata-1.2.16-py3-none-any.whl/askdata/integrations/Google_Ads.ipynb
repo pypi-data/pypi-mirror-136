{
 "cells": [
  {
   "cell_type": "code",
   "execution_count": 1,
   "metadata": {
    "collapsed": true,
    "jupyter": {
     "outputs_hidden": true
    }
   },
   "outputs": [
    {
     "name": "stdout",
     "output_type": "stream",
     "text": [
      "Collecting google-api-python-client\n",
      "\u001b[?25l  Downloading https://files.pythonhosted.org/packages/6e/9c/e3da18a0126c4a2c0e43f824c8f8ad1c8e4afd25f3daf2b6baf7af5bd6a0/google_api_python_client-1.8.2-py3-none-any.whl (58kB)\n",
      "\u001b[K     |████████████████████████████████| 61kB 4.1MB/s eta 0:00:011\n",
      "\u001b[?25hCollecting google-auth>=1.4.1 (from google-api-python-client)\n",
      "\u001b[?25l  Downloading https://files.pythonhosted.org/packages/d2/f8/1623d69e5de22e499b68a0cb5e5d02cd6a2843e55acc19f314f48fe04299/google_auth-1.14.1-py2.py3-none-any.whl (89kB)\n",
      "\u001b[K     |████████████████████████████████| 92kB 8.6MB/s eta 0:00:011\n",
      "\u001b[?25hRequirement already satisfied, skipping upgrade: six<2dev,>=1.6.1 in /opt/conda/lib/python3.7/site-packages (from google-api-python-client) (1.12.0)\n",
      "Collecting google-api-core<2dev,>=1.13.0 (from google-api-python-client)\n",
      "\u001b[?25l  Downloading https://files.pythonhosted.org/packages/4c/b9/c0dd70bcdf06a43d1e21f387448e7997e0ce91f10d0fbee359af4cde1571/google_api_core-1.17.0-py2.py3-none-any.whl (70kB)\n",
      "\u001b[K     |████████████████████████████████| 71kB 9.1MB/s  eta 0:00:01\n",
      "\u001b[?25hCollecting google-auth-httplib2>=0.0.3 (from google-api-python-client)\n",
      "  Downloading https://files.pythonhosted.org/packages/33/49/c814d6d438b823441552198f096fcd0377fd6c88714dbed34f1d3c8c4389/google_auth_httplib2-0.0.3-py2.py3-none-any.whl\n",
      "Collecting httplib2<1dev,>=0.9.2 (from google-api-python-client)\n",
      "\u001b[?25l  Downloading https://files.pythonhosted.org/packages/18/9b/b95a08c373819376bf3f109bdbcff6bd4f69f2340bf708a252380319037a/httplib2-0.17.3-py3-none-any.whl (95kB)\n",
      "\u001b[K     |████████████████████████████████| 102kB 7.8MB/s ta 0:00:011\n",
      "\u001b[?25hCollecting uritemplate<4dev,>=3.0.0 (from google-api-python-client)\n",
      "  Downloading https://files.pythonhosted.org/packages/bf/0c/60d82c077998feb631608dca3cc1fe19ac074e772bf0c24cf409b977b815/uritemplate-3.0.1-py2.py3-none-any.whl\n",
      "Collecting pyasn1-modules>=0.2.1 (from google-auth>=1.4.1->google-api-python-client)\n",
      "\u001b[?25l  Downloading https://files.pythonhosted.org/packages/95/de/214830a981892a3e286c3794f41ae67a4495df1108c3da8a9f62159b9a9d/pyasn1_modules-0.2.8-py2.py3-none-any.whl (155kB)\n",
      "\u001b[K     |████████████████████████████████| 163kB 9.1MB/s eta 0:00:01     |███████████████████████████████▋| 153kB 9.1MB/s eta 0:00:01\n",
      "\u001b[?25hRequirement already satisfied, skipping upgrade: setuptools>=40.3.0 in /opt/conda/lib/python3.7/site-packages (from google-auth>=1.4.1->google-api-python-client) (41.0.1)\n",
      "Collecting cachetools<5.0,>=2.0.0 (from google-auth>=1.4.1->google-api-python-client)\n",
      "  Downloading https://files.pythonhosted.org/packages/b3/59/524ffb454d05001e2be74c14745b485681c6ed5f2e625f71d135704c0909/cachetools-4.1.0-py3-none-any.whl\n",
      "Collecting rsa<4.1,>=3.1.4 (from google-auth>=1.4.1->google-api-python-client)\n",
      "  Downloading https://files.pythonhosted.org/packages/02/e5/38518af393f7c214357079ce67a317307936896e961e35450b70fad2a9cf/rsa-4.0-py2.py3-none-any.whl\n",
      "Requirement already satisfied, skipping upgrade: requests<3.0.0dev,>=2.18.0 in /opt/conda/lib/python3.7/site-packages (from google-api-core<2dev,>=1.13.0->google-api-python-client) (2.22.0)\n",
      "Requirement already satisfied, skipping upgrade: pytz in /opt/conda/lib/python3.7/site-packages (from google-api-core<2dev,>=1.13.0->google-api-python-client) (2019.2)\n",
      "Requirement already satisfied, skipping upgrade: protobuf>=3.4.0 in /opt/conda/lib/python3.7/site-packages (from google-api-core<2dev,>=1.13.0->google-api-python-client) (3.7.1)\n",
      "Collecting googleapis-common-protos<2.0dev,>=1.6.0 (from google-api-core<2dev,>=1.13.0->google-api-python-client)\n",
      "  Downloading https://files.pythonhosted.org/packages/05/46/168fd780f594a4d61122f7f3dc0561686084319ad73b4febbf02ae8b32cf/googleapis-common-protos-1.51.0.tar.gz\n",
      "Collecting pyasn1<0.5.0,>=0.4.6 (from pyasn1-modules>=0.2.1->google-auth>=1.4.1->google-api-python-client)\n",
      "\u001b[?25l  Downloading https://files.pythonhosted.org/packages/62/1e/a94a8d635fa3ce4cfc7f506003548d0a2447ae76fd5ca53932970fe3053f/pyasn1-0.4.8-py2.py3-none-any.whl (77kB)\n",
      "\u001b[K     |████████████████████████████████| 81kB 12.1MB/s eta 0:00:01\n",
      "\u001b[?25hRequirement already satisfied, skipping upgrade: certifi>=2017.4.17 in /opt/conda/lib/python3.7/site-packages (from requests<3.0.0dev,>=2.18.0->google-api-core<2dev,>=1.13.0->google-api-python-client) (2019.6.16)\n",
      "Requirement already satisfied, skipping upgrade: urllib3!=1.25.0,!=1.25.1,<1.26,>=1.21.1 in /opt/conda/lib/python3.7/site-packages (from requests<3.0.0dev,>=2.18.0->google-api-core<2dev,>=1.13.0->google-api-python-client) (1.25.3)\n",
      "Requirement already satisfied, skipping upgrade: idna<2.9,>=2.5 in /opt/conda/lib/python3.7/site-packages (from requests<3.0.0dev,>=2.18.0->google-api-core<2dev,>=1.13.0->google-api-python-client) (2.8)\n",
      "Requirement already satisfied, skipping upgrade: chardet<3.1.0,>=3.0.2 in /opt/conda/lib/python3.7/site-packages (from requests<3.0.0dev,>=2.18.0->google-api-core<2dev,>=1.13.0->google-api-python-client) (3.0.4)\n",
      "Building wheels for collected packages: googleapis-common-protos\n",
      "  Building wheel for googleapis-common-protos (setup.py) ... \u001b[?25ldone\n",
      "\u001b[?25h  Created wheel for googleapis-common-protos: filename=googleapis_common_protos-1.51.0-cp37-none-any.whl size=77593 sha256=7ec82b5f605c9a205fbd519b41439d5a908fcb2428289eaa3050fe072e2fbd4e\n",
      "  Stored in directory: /home/jovyan/.cache/pip/wheels/2c/f9/7f/6eb87e636072bf467e25348bbeb96849333e6a080dca78f706\n",
      "Successfully built googleapis-common-protos\n",
      "Installing collected packages: pyasn1, pyasn1-modules, cachetools, rsa, google-auth, googleapis-common-protos, google-api-core, httplib2, google-auth-httplib2, uritemplate, google-api-python-client\n",
      "Successfully installed cachetools-4.1.0 google-api-core-1.17.0 google-api-python-client-1.8.2 google-auth-1.14.1 google-auth-httplib2-0.0.3 googleapis-common-protos-1.51.0 httplib2-0.17.3 pyasn1-0.4.8 pyasn1-modules-0.2.8 rsa-4.0 uritemplate-3.0.1\n",
      "Requirement already up-to-date: google-auth in /opt/conda/lib/python3.7/site-packages (1.14.1)\n",
      "Requirement already satisfied, skipping upgrade: setuptools>=40.3.0 in /opt/conda/lib/python3.7/site-packages (from google-auth) (41.0.1)\n",
      "Requirement already satisfied, skipping upgrade: six>=1.9.0 in /opt/conda/lib/python3.7/site-packages (from google-auth) (1.12.0)\n",
      "Requirement already satisfied, skipping upgrade: pyasn1-modules>=0.2.1 in /opt/conda/lib/python3.7/site-packages (from google-auth) (0.2.8)\n",
      "Requirement already satisfied, skipping upgrade: cachetools<5.0,>=2.0.0 in /opt/conda/lib/python3.7/site-packages (from google-auth) (4.1.0)\n",
      "Requirement already satisfied, skipping upgrade: rsa<4.1,>=3.1.4 in /opt/conda/lib/python3.7/site-packages (from google-auth) (4.0)\n",
      "Requirement already satisfied, skipping upgrade: pyasn1<0.5.0,>=0.4.6 in /opt/conda/lib/python3.7/site-packages (from pyasn1-modules>=0.2.1->google-auth) (0.4.8)\n",
      "   ga:medium ga:sessions            ga:source ga:users\n",
      "0     (none)         164             (direct)      155\n",
      "1   referral           1  admin.cioreview.com        1\n",
      "2   referral           1    app.fundstack.com        1\n",
      "3   referral           1       dealmarket.com        1\n",
      "4   referral          12               f10.ch       12\n",
      "5   referral           1        getpocket.com        1\n",
      "6        cpc          31               google       21\n",
      "7    organic          92               google       51\n",
      "8   referral           1        hexometer.com        1\n",
      "9   referral           1       l.facebook.com        1\n",
      "10  referral           1      l.messenger.com        1\n",
      "11  referral           1   lazioinnovatore.it        1\n",
      "12  referral           1           leddjc.net        1\n",
      "13  referral           5         linkedin.com        5\n",
      "14  referral           1      producthunt.com        1\n",
      "15  referral           2          webflow.com        1\n"
     ]
    }
   ],
   "source": [
    "#params\n",
    "\n",
    "askdata_token='_ciao_'"
   ]
  },
  {
   "cell_type": "code",
   "execution_count": 1,
   "metadata": {
    "collapsed": true,
    "jupyter": {
     "outputs_hidden": true
    }
   },
   "outputs": [
    {
     "name": "stdout",
     "output_type": "stream",
     "text": [
      "Collecting googleads\n",
      "\u001b[?25l  Downloading https://files.pythonhosted.org/packages/64/0d/a942887529881847139d8ad7809eba831fff6ec4f0361596ff7c2260bc7c/googleads-23.0.1.tar.gz (45kB)\n",
      "\u001b[K     |████████████████████████████████| 51kB 4.1MB/s eta 0:00:011\n",
      "\u001b[?25hCollecting google-auth<2.0.0,>=1.0.0 (from googleads)\n",
      "\u001b[?25l  Downloading https://files.pythonhosted.org/packages/d2/f8/1623d69e5de22e499b68a0cb5e5d02cd6a2843e55acc19f314f48fe04299/google_auth-1.14.1-py2.py3-none-any.whl (89kB)\n",
      "\u001b[K     |████████████████████████████████| 92kB 11.1MB/s eta 0:00:01\n",
      "\u001b[?25hCollecting google-auth-oauthlib<1.0.0,>=0.0.1 (from googleads)\n",
      "  Downloading https://files.pythonhosted.org/packages/7b/b8/88def36e74bee9fce511c9519571f4e485e890093ab7442284f4ffaef60b/google_auth_oauthlib-0.4.1-py2.py3-none-any.whl\n",
      "Requirement already satisfied: pytz>=2015.7 in /opt/conda/lib/python3.7/site-packages (from googleads) (2019.2)\n",
      "Requirement already satisfied: PyYAML<6.0,>=5.1 in /opt/conda/lib/python3.7/site-packages (from googleads) (5.1.2)\n",
      "Requirement already satisfied: requests<3.0.0,>=2.0.0 in /opt/conda/lib/python3.7/site-packages (from googleads) (2.22.0)\n",
      "Collecting xmltodict<1.0.0,>=0.9.2 (from googleads)\n",
      "  Downloading https://files.pythonhosted.org/packages/28/fd/30d5c1d3ac29ce229f6bdc40bbc20b28f716e8b363140c26eff19122d8a5/xmltodict-0.12.0-py2.py3-none-any.whl\n",
      "Collecting zeep>=2.5.0 (from googleads)\n",
      "\u001b[?25l  Downloading https://files.pythonhosted.org/packages/5e/7e/31dc5db254f4bd788f03947bae4ee38117789f2d4872a4c11a05b57700db/zeep-3.4.0-py2.py3-none-any.whl (99kB)\n",
      "\u001b[K     |████████████████████████████████| 102kB 16.5MB/s ta 0:00:01\n",
      "\u001b[?25hRequirement already satisfied: six>=1.9.0 in /opt/conda/lib/python3.7/site-packages (from google-auth<2.0.0,>=1.0.0->googleads) (1.12.0)\n",
      "Collecting cachetools<5.0,>=2.0.0 (from google-auth<2.0.0,>=1.0.0->googleads)\n",
      "  Downloading https://files.pythonhosted.org/packages/b3/59/524ffb454d05001e2be74c14745b485681c6ed5f2e625f71d135704c0909/cachetools-4.1.0-py3-none-any.whl\n",
      "Requirement already satisfied: setuptools>=40.3.0 in /opt/conda/lib/python3.7/site-packages (from google-auth<2.0.0,>=1.0.0->googleads) (41.0.1)\n",
      "Collecting pyasn1-modules>=0.2.1 (from google-auth<2.0.0,>=1.0.0->googleads)\n",
      "\u001b[?25l  Downloading https://files.pythonhosted.org/packages/95/de/214830a981892a3e286c3794f41ae67a4495df1108c3da8a9f62159b9a9d/pyasn1_modules-0.2.8-py2.py3-none-any.whl (155kB)\n",
      "\u001b[K     |████████████████████████████████| 163kB 28.8MB/s eta 0:00:01\n",
      "\u001b[?25hCollecting rsa<4.1,>=3.1.4 (from google-auth<2.0.0,>=1.0.0->googleads)\n",
      "  Downloading https://files.pythonhosted.org/packages/02/e5/38518af393f7c214357079ce67a317307936896e961e35450b70fad2a9cf/rsa-4.0-py2.py3-none-any.whl\n",
      "Collecting requests-oauthlib>=0.7.0 (from google-auth-oauthlib<1.0.0,>=0.0.1->googleads)\n",
      "  Downloading https://files.pythonhosted.org/packages/a3/12/b92740d845ab62ea4edf04d2f4164d82532b5a0b03836d4d4e71c6f3d379/requests_oauthlib-1.3.0-py2.py3-none-any.whl\n",
      "Requirement already satisfied: urllib3!=1.25.0,!=1.25.1,<1.26,>=1.21.1 in /opt/conda/lib/python3.7/site-packages (from requests<3.0.0,>=2.0.0->googleads) (1.25.3)\n",
      "Requirement already satisfied: idna<2.9,>=2.5 in /opt/conda/lib/python3.7/site-packages (from requests<3.0.0,>=2.0.0->googleads) (2.8)\n",
      "Requirement already satisfied: chardet<3.1.0,>=3.0.2 in /opt/conda/lib/python3.7/site-packages (from requests<3.0.0,>=2.0.0->googleads) (3.0.4)\n",
      "Requirement already satisfied: certifi>=2017.4.17 in /opt/conda/lib/python3.7/site-packages (from requests<3.0.0,>=2.0.0->googleads) (2019.6.16)\n",
      "Requirement already satisfied: attrs>=17.2.0 in /opt/conda/lib/python3.7/site-packages (from zeep>=2.5.0->googleads) (19.1.0)\n",
      "Collecting cached-property>=1.3.0 (from zeep>=2.5.0->googleads)\n",
      "  Downloading https://files.pythonhosted.org/packages/3b/86/85c1be2e8db9e13ef9a350aecd6dea292bd612fa288c2f40d035bb750ded/cached_property-1.5.1-py2.py3-none-any.whl\n",
      "Collecting appdirs>=1.4.0 (from zeep>=2.5.0->googleads)\n",
      "  Downloading https://files.pythonhosted.org/packages/56/eb/810e700ed1349edde4cbdc1b2a21e28cdf115f9faf263f6bbf8447c1abf3/appdirs-1.4.3-py2.py3-none-any.whl\n",
      "Collecting requests-toolbelt>=0.7.1 (from zeep>=2.5.0->googleads)\n",
      "\u001b[?25l  Downloading https://files.pythonhosted.org/packages/60/ef/7681134338fc097acef8d9b2f8abe0458e4d87559c689a8c306d0957ece5/requests_toolbelt-0.9.1-py2.py3-none-any.whl (54kB)\n",
      "\u001b[K     |████████████████████████████████| 61kB 15.4MB/s eta 0:00:01\n",
      "\u001b[?25hRequirement already satisfied: defusedxml>=0.4.1 in /opt/conda/lib/python3.7/site-packages (from zeep>=2.5.0->googleads) (0.5.0)\n",
      "Collecting lxml>=3.1.0 (from zeep>=2.5.0->googleads)\n",
      "\u001b[?25l  Downloading https://files.pythonhosted.org/packages/85/9e/93e2c3af278c7c8b6826666bbcb145af2829bd761c3b329e51cd6343836c/lxml-4.5.0-cp37-cp37m-manylinux1_x86_64.whl (5.7MB)\n",
      "\u001b[K     |████████████████████████████████| 5.7MB 29.3MB/s eta 0:00:01     |█████████████                   | 2.3MB 29.3MB/s eta 0:00:01     |██████████████████████▊         | 4.1MB 29.3MB/s eta 0:00:01\n",
      "\u001b[?25hCollecting isodate>=0.5.4 (from zeep>=2.5.0->googleads)\n",
      "\u001b[?25l  Downloading https://files.pythonhosted.org/packages/9b/9f/b36f7774ff5ea8e428fdcfc4bb332c39ee5b9362ddd3d40d9516a55221b2/isodate-0.6.0-py2.py3-none-any.whl (45kB)\n",
      "\u001b[K     |████████████████████████████████| 51kB 13.8MB/s eta 0:00:01\n",
      "\u001b[?25hCollecting pyasn1<0.5.0,>=0.4.6 (from pyasn1-modules>=0.2.1->google-auth<2.0.0,>=1.0.0->googleads)\n",
      "\u001b[?25l  Downloading https://files.pythonhosted.org/packages/62/1e/a94a8d635fa3ce4cfc7f506003548d0a2447ae76fd5ca53932970fe3053f/pyasn1-0.4.8-py2.py3-none-any.whl (77kB)\n",
      "\u001b[K     |████████████████████████████████| 81kB 18.3MB/s eta 0:00:01\n",
      "\u001b[?25hRequirement already satisfied: oauthlib>=3.0.0 in /opt/conda/lib/python3.7/site-packages (from requests-oauthlib>=0.7.0->google-auth-oauthlib<1.0.0,>=0.0.1->googleads) (3.0.1)\n",
      "Building wheels for collected packages: googleads\n",
      "  Building wheel for googleads (setup.py) ... \u001b[?25ldone\n",
      "\u001b[?25h  Created wheel for googleads: filename=googleads-23.0.1-cp37-none-any.whl size=46343 sha256=ff3110b153afb74212d4780fc90ae3015f3a4d56aa9aca4bfbda68e0f697462e\n",
      "  Stored in directory: /home/jovyan/.cache/pip/wheels/57/a9/ab/be72b6f63412d84e41f47eb4f534445109af83c122ec5a8c42\n",
      "Successfully built googleads\n",
      "Installing collected packages: cachetools, pyasn1, pyasn1-modules, rsa, google-auth, requests-oauthlib, google-auth-oauthlib, xmltodict, cached-property, appdirs, requests-toolbelt, lxml, isodate, zeep, googleads\n",
      "Successfully installed appdirs-1.4.3 cached-property-1.5.1 cachetools-4.1.0 google-auth-1.14.1 google-auth-oauthlib-0.4.1 googleads-23.0.1 isodate-0.6.0 lxml-4.5.0 pyasn1-0.4.8 pyasn1-modules-0.2.8 requests-oauthlib-1.3.0 requests-toolbelt-0.9.1 rsa-4.0 xmltodict-0.12.0 zeep-3.4.0\n"
     ]
    }
   ],
   "source": [
    "!pip install googleads\n"
   ]
  },
  {
   "cell_type": "code",
   "execution_count": 22,
   "metadata": {},
   "outputs": [],
   "source": [
    "# install the SDK\n",
    "#!pip install papermill\n",
    "# install the Askdata SDK\n",
    "#!pip install askdata_python_client\n",
    "\n",
    "import os \n",
    "\n",
    "os.environ['OAUTHLIB_RELAX_TOKEN_SCOPE'] = '1'\n",
    "\n",
    "from googleads import oauth2\n",
    "import google.oauth2.credentials\n",
    "import google_auth_oauthlib.flow\n",
    "\n",
    "#Create Client ID and secret\n",
    "#https://console.developers.google.com/apis/credentials\n",
    "\n",
    "# Initialize the flow using the client ID and secret downloaded earlier.\n",
    "# Note: You can use the GetAPIScope helper function to retrieve the\n",
    "# appropriate scope for AdWords or Ad Manager.\n",
    "flow = google_auth_oauthlib.flow.Flow.from_client_secrets_file(\n",
    "    'client_secret_275301324384-a735laovjlook0ugqoj3v6drr1bvp0kc.apps.googleusercontent.com.json', scopes=[oauth2.GetAPIScope('adwords')])\n",
    "# Indicate where the API server will redirect the user after the user completes\n",
    "# the authorization flow. The redirect URI is required.\n",
    "flow.redirect_uri = 'https://www.askdata.com'\n",
    "\n",
    "# Generate URL for request to Google's OAuth 2.0 server.\n",
    "# Use kwargs to set optional request parameters.\n",
    "authorization_url, state = flow.authorization_url(\n",
    "# Enable offline access so that you can refresh an access token without\n",
    "# re-prompting the user for permission. Recommended for web server apps.\n",
    "access_type='offline',\n",
    "# Enable incremental authorization. Recommended as a best practice.\n",
    "include_granted_scopes='true')\n"
   ]
  },
  {
   "cell_type": "code",
   "execution_count": 23,
   "metadata": {},
   "outputs": [
    {
     "name": "stdout",
     "output_type": "stream",
     "text": [
      "https://accounts.google.com/o/oauth2/auth?response_type=code&client_id=275301324384-a735laovjlook0ugqoj3v6drr1bvp0kc.apps.googleusercontent.com&redirect_uri=https%3A%2F%2Fwww.askdata.com&scope=https%3A%2F%2Fwww.googleapis.com%2Fauth%2Fadwords&state=OC323Fai9oI3uOhLNLL2fJysKISjNF&access_type=offline&include_granted_scopes=true\n"
     ]
    }
   ],
   "source": [
    "print(authorization_url)"
   ]
  },
  {
   "cell_type": "code",
   "execution_count": 25,
   "metadata": {},
   "outputs": [],
   "source": [
    "#get token manually from redirect URL\n",
    "\n",
    "auth_code = '4/zAH-xclUxOH6I9nBE1A2khOYuoSjbERb460bGxyA9pWANmki1KiMsvchyMMmteSyCU8RDJIScz4SNt1qbZeBek8'\n",
    "flow.fetch_token(code=auth_code)\n",
    "credentials = flow.credentials\n"
   ]
  },
  {
   "cell_type": "code",
   "execution_count": 34,
   "metadata": {},
   "outputs": [
    {
     "name": "stdout",
     "output_type": "stream",
     "text": [
      "None\n",
      "ya29.a0Ae4lvC1i3eBhCSG6QvMxtwJkxOGbvYTPTLoD7MKxwoJ2TnWu__rSfVXUyW7HZNAAxKo2aObpygo7At5HO6JMV-zWv3OUx0dKsCAU8s08hyzWUeZKbcIaLqTZXtwtrDoGlRgfD-e8c1W5shFH0MAVOvbxUhkAnzn2Yec\n",
      "https://oauth2.googleapis.com/token\n",
      "275301324384-a735laovjlook0ugqoj3v6drr1bvp0kc.apps.googleusercontent.com\n",
      "IRJ1_3-nV0woJ4KP4aERo8Kl\n",
      "['https://www.googleapis.com/auth/adwords']\n"
     ]
    }
   ],
   "source": [
    "print(credentials.refresh_token)\n",
    "print(credentials.token)\n",
    "print(credentials.token_uri)\n",
    "print(credentials.client_secret)\n",
    "print(credentials.scopes)\n"
   ]
  },
  {
   "cell_type": "code",
   "execution_count": 35,
   "metadata": {},
   "outputs": [],
   "source": [
    "\n",
    "from googleads import adwords\n",
    "\n",
    "# Initialize the GoogleRefreshTokenClient using the credentials you received\n",
    "# in the earlier steps.\n",
    "oauth2_client = oauth2.GoogleRefreshTokenClient(\n",
    "    credentials.client_id,credentials.client_secret, credentials.token)\n",
    "\n",
    "\n"
   ]
  },
  {
   "cell_type": "code",
   "execution_count": null,
   "metadata": {},
   "outputs": [],
   "source": [
    "# In progress\n",
    "# Tutorial: https://towardsdatascience.com/getting-adwords-kpis-reports-via-api-python-step-by-step-guide-245fc74d9d73\n",
    "\n",
    "# Initialize the AdWords client.\n",
    "adwords_client = adwords.AdWordsClient(\n",
    "    developer_token, oauth2_client, user_agent, client_customer_id=client_customer_id)\n"
   ]
  }
 ],
 "metadata": {
  "kernelspec": {
   "display_name": "Python 3",
   "language": "python",
   "name": "python3"
  },
  "language_info": {
   "codemirror_mode": {
    "name": "ipython",
    "version": 3
   },
   "file_extension": ".py",
   "mimetype": "text/x-python",
   "name": "python",
   "nbconvert_exporter": "python",
   "pygments_lexer": "ipython3",
   "version": "3.8.3"
  }
 },
 "nbformat": 4,
 "nbformat_minor": 4
}
