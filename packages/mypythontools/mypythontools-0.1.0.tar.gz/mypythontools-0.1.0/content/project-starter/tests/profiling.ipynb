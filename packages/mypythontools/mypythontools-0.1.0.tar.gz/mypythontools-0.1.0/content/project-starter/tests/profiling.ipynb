{
 "cells": [
  {
   "source": [
    "import sys\n",
    "from pathlib import Path\n",
    "import numpy as np\n",
    "import pandas as pd\n",
    "import os\n",
    "\n",
    "sys.path.insert(0, 'SET_YOUR_NAME')\n",
    "\n",
    "import SET_YOUR_NAME\n",
    "\n",
    "%load_ext memory_profiler\n",
    "%load_ext line_profiler\n"
   ],
   "cell_type": "code",
   "metadata": {},
   "execution_count": null,
   "outputs": []
  },
  {
   "source": [
    "# Set some data object that can be tested\n",
    "\n",
    "arr = np.random.randn(100, 100)\n",
    "big_arr = np.random.randn(10000, 10000)\n",
    "df = pd.DataFrame(arr)\n",
    "big_df = pd.DataFrame(big_arr)"
   ],
   "cell_type": "code",
   "metadata": {},
   "execution_count": null,
   "outputs": []
  },
  {
   "cell_type": "code",
   "execution_count": null,
   "metadata": {},
   "outputs": [],
   "source": [
    "# Memory profiling\n",
    "\n",
    "# %mprun -f SET_YOUR_NAME.function SET_YOUR_NAME.function(args)\n",
    "\n",
    "# Time profiling\n",
    "\n",
    "# %lprun -f SET_YOUR_NAME.function SET_YOUR_NAME.function(args)"
   ]
  }
 ],
 "metadata": {
  "kernelspec": {
   "name": "python392jvsc74a57bd0c1d09f119af83acc786b8c46b86461bcdd860f238987d55363cb76535f94177b",
   "display_name": "Python 3.9.2 64-bit"
  },
  "language_info": {
   "codemirror_mode": {
    "name": "ipython",
    "version": 3
   },
   "file_extension": ".py",
   "mimetype": "text/x-python",
   "name": "python",
   "nbconvert_exporter": "python",
   "pygments_lexer": "ipython3",
   "version": "3.9.2-final"
  },
  "toc": {
   "base_numbering": 1,
   "nav_menu": {},
   "number_sections": true,
   "sideBar": true,
   "skip_h1_title": false,
   "title_cell": "Table of Contents",
   "title_sidebar": "Contents",
   "toc_cell": false,
   "toc_position": {},
   "toc_section_display": true,
   "toc_window_display": false
  },
  "metadata": {
   "interpreter": {
    "hash": "c1d09f119af83acc786b8c46b86461bcdd860f238987d55363cb76535f94177b"
   }
  }
 },
 "nbformat": 4,
 "nbformat_minor": 2
}