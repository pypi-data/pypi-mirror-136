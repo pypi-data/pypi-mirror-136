{
 "cells": [
  {
   "cell_type": "markdown",
   "id": "d7277bec",
   "metadata": {},
   "source": [
    "# NOTEBOOK: Discover dependencies required automatically"
   ]
  },
  {
   "cell_type": "markdown",
   "id": "2234818e",
   "metadata": {},
   "source": [
    "This notebook will show you how you can use thoth feature to discover dependencies used in your notebook and make your notebook reproducible."
   ]
  },
  {
   "cell_type": "code",
   "execution_count": null,
   "id": "952af91b",
   "metadata": {},
   "outputs": [],
   "source": [
    "import pandas as pd\n",
    "import numpy as np  # noqa"
   ]
  },
  {
   "cell_type": "code",
   "execution_count": null,
   "id": "4c0c33c9",
   "metadata": {},
   "outputs": [],
   "source": [
    "df = pd.DataFrame()"
   ]
  },
  {
   "cell_type": "code",
   "execution_count": 2,
   "id": "7622c3fb",
   "metadata": {},
   "outputs": [
    {
     "data": {
      "text/html": [
       "<pre style=\"white-space:pre;overflow-x:auto;line-height:normal;font-family:Menlo,'DejaVu Sans Mono',consolas,'Courier New',monospace\"><span style=\"font-style: italic\">                                     Horus check results                                     </span>\n",
       "                               ╷                                                ╷            \n",
       " <span style=\"color: #008000; text-decoration-color: #008000; font-weight: bold\"> Key                          </span>│<span style=\"color: #008000; text-decoration-color: #008000; font-weight: bold\"> Message                                        </span>│<span style=\"color: #008000; text-decoration-color: #008000; font-weight: bold\"> Type      </span> \n",
       " ══════════════════════════════╪════════════════════════════════════════════════╪═══════════ \n",
       " <span style=\"color: #008080; text-decoration-color: #008080\"> notebook_name                </span>│<span style=\"color: #008080; text-decoration-color: #008080\"> discover-my-notebook                           </span>│<span style=\"color: #008080; text-decoration-color: #008080\"> </span><span style=\"color: #008000; text-decoration-color: #008000\">✔️ INFO   </span><span style=\"color: #008080; text-decoration-color: #008080\"> </span> \n",
       " <span style=\"color: #008080; text-decoration-color: #008080\"> programming_language         </span>│<span style=\"color: #008080; text-decoration-color: #008080\"> python                                         </span>│<span style=\"color: #008080; text-decoration-color: #008080\"> </span><span style=\"color: #008000; text-decoration-color: #008000\">✔️ INFO   </span><span style=\"color: #008080; text-decoration-color: #008080\"> </span> \n",
       " <span style=\"color: #008080; text-decoration-color: #008080\"> kernel_name                  </span>│<span style=\"color: #008080; text-decoration-color: #008080\"> python3                                        </span>│<span style=\"color: #008080; text-decoration-color: #008080\"> </span><span style=\"color: #008000; text-decoration-color: #008000\">✔️ INFO   </span><span style=\"color: #008080; text-decoration-color: #008080\"> </span> \n",
       " <span style=\"color: #008080; text-decoration-color: #008080\"> dependency_resolution_engine </span>│<span style=\"color: #008080; text-decoration-color: #008080\"> key is not present in notebook metadata. It    </span>│<span style=\"color: #008080; text-decoration-color: #008080\"> </span><span style=\"color: #808000; text-decoration-color: #808000\">⚠️ WARNING</span><span style=\"color: #008080; text-decoration-color: #008080\"> </span> \n",
       "                               │<span style=\"color: #008080; text-decoration-color: #008080\"> will be set after creating Pipfile and running </span>│            \n",
       "                               │<span style=\"color: #008080; text-decoration-color: #008080\"> %horus lock                                    </span>│            \n",
       " <span style=\"color: #008080; text-decoration-color: #008080\"> requirements                 </span>│<span style=\"color: #008080; text-decoration-color: #008080\"> key is not present in notebook metadata. You   </span>│<span style=\"color: #008080; text-decoration-color: #008080\"> </span><span style=\"color: #800000; text-decoration-color: #800000; font-weight: bold\">❌ ERROR </span><span style=\"color: #008080; text-decoration-color: #008080\"> </span> \n",
       "                               │<span style=\"color: #008080; text-decoration-color: #008080\"> can run %horus requirements with its options   </span>│            \n",
       "                               │<span style=\"color: #008080; text-decoration-color: #008080\"> to set them.                                   </span>│            \n",
       " <span style=\"color: #008080; text-decoration-color: #008080\"> requirements_lock            </span>│<span style=\"color: #008080; text-decoration-color: #008080\"> key is not present in notebook metadata. You   </span>│<span style=\"color: #008080; text-decoration-color: #008080\"> </span><span style=\"color: #800000; text-decoration-color: #800000; font-weight: bold\">❌ ERROR </span><span style=\"color: #008080; text-decoration-color: #008080\"> </span> \n",
       "                               │<span style=\"color: #008080; text-decoration-color: #008080\"> can run %horus lock if Pipfile already exists. </span>│            \n",
       "                               ╵                                                ╵            \n",
       "</pre>\n"
      ],
      "text/plain": [
       "\u001b[3m                                     Horus check results                                     \u001b[0m\n",
       "                               ╷                                                ╷            \n",
       " \u001b[1;32m \u001b[0m\u001b[1;32mKey                         \u001b[0m\u001b[1;32m \u001b[0m│\u001b[1;32m \u001b[0m\u001b[1;32mMessage                                       \u001b[0m\u001b[1;32m \u001b[0m│\u001b[1;32m \u001b[0m\u001b[1;32mType     \u001b[0m\u001b[1;32m \u001b[0m \n",
       " ══════════════════════════════╪════════════════════════════════════════════════╪═══════════ \n",
       " \u001b[36m \u001b[0m\u001b[36mnotebook_name               \u001b[0m\u001b[36m \u001b[0m│\u001b[36m \u001b[0m\u001b[36mdiscover-my-notebook                          \u001b[0m\u001b[36m \u001b[0m│\u001b[36m \u001b[0m\u001b[32m✔️ INFO   \u001b[0m\u001b[36m \u001b[0m \n",
       " \u001b[36m \u001b[0m\u001b[36mprogramming_language        \u001b[0m\u001b[36m \u001b[0m│\u001b[36m \u001b[0m\u001b[36mpython                                        \u001b[0m\u001b[36m \u001b[0m│\u001b[36m \u001b[0m\u001b[32m✔️ INFO   \u001b[0m\u001b[36m \u001b[0m \n",
       " \u001b[36m \u001b[0m\u001b[36mkernel_name                 \u001b[0m\u001b[36m \u001b[0m│\u001b[36m \u001b[0m\u001b[36mpython3                                       \u001b[0m\u001b[36m \u001b[0m│\u001b[36m \u001b[0m\u001b[32m✔️ INFO   \u001b[0m\u001b[36m \u001b[0m \n",
       " \u001b[36m \u001b[0m\u001b[36mdependency_resolution_engine\u001b[0m\u001b[36m \u001b[0m│\u001b[36m \u001b[0m\u001b[36mkey is not present in notebook metadata. It   \u001b[0m\u001b[36m \u001b[0m│\u001b[36m \u001b[0m\u001b[33m⚠️ WARNING\u001b[0m\u001b[36m \u001b[0m \n",
       "                               │\u001b[36m \u001b[0m\u001b[36mwill be set after creating Pipfile and running\u001b[0m\u001b[36m \u001b[0m│            \n",
       "                               │\u001b[36m \u001b[0m\u001b[36m%horus lock                                   \u001b[0m\u001b[36m \u001b[0m│            \n",
       " \u001b[36m \u001b[0m\u001b[36mrequirements                \u001b[0m\u001b[36m \u001b[0m│\u001b[36m \u001b[0m\u001b[36mkey is not present in notebook metadata. You  \u001b[0m\u001b[36m \u001b[0m│\u001b[36m \u001b[0m\u001b[1;31m❌ ERROR \u001b[0m\u001b[36m \u001b[0m \n",
       "                               │\u001b[36m \u001b[0m\u001b[36mcan run %horus requirements with its options  \u001b[0m\u001b[36m \u001b[0m│            \n",
       "                               │\u001b[36m \u001b[0m\u001b[36mto set them.                                  \u001b[0m\u001b[36m \u001b[0m│            \n",
       " \u001b[36m \u001b[0m\u001b[36mrequirements_lock           \u001b[0m\u001b[36m \u001b[0m│\u001b[36m \u001b[0m\u001b[36mkey is not present in notebook metadata. You  \u001b[0m\u001b[36m \u001b[0m│\u001b[36m \u001b[0m\u001b[1;31m❌ ERROR \u001b[0m\u001b[36m \u001b[0m \n",
       "                               │\u001b[36m \u001b[0m\u001b[36mcan run %horus lock if Pipfile already exists.\u001b[0m\u001b[36m \u001b[0m│            \n",
       "                               ╵                                                ╵            \n"
      ]
     },
     "metadata": {},
     "output_type": "display_data"
    }
   ],
   "source": [
    "# Run this command to check if the notebook has dependencies requirments\n",
    "%horus check"
   ]
  },
  {
   "cell_type": "code",
   "execution_count": 6,
   "id": "4c24a6ec",
   "metadata": {},
   "outputs": [
    {
     "data": {
      "text/plain": [
       "'{\"requirements\": {\"packages\": {\"pandas\": \"*\"}, \"dev-packages\": {}, \"source\": [{\"url\": \"https://pypi.org/simple\", \"verify_ssl\": true, \"name\": \"pypi\"}], \"requires\": {\"python_version\": \"3.8\"}}, \"force\": false}'"
      ]
     },
     "execution_count": 6,
     "metadata": {},
     "output_type": "execute_result"
    }
   ],
   "source": [
    "# Run this command to automatically discover what dependencies needs your notebook\n",
    "%horus discover"
   ]
  },
  {
   "cell_type": "code",
   "execution_count": null,
   "id": "dbd6549a",
   "metadata": {},
   "outputs": [],
   "source": [
    "# Run this command to check if the dependencies have been added\n",
    "%horus check"
   ]
  },
  {
   "cell_type": "code",
   "execution_count": null,
   "id": "d061642f",
   "metadata": {},
   "outputs": [],
   "source": [
    "# Run this command to see the Pipfile present in the notebook\n",
    "%horus show --pipfile"
   ]
  },
  {
   "cell_type": "code",
   "execution_count": null,
   "id": "61e04f45",
   "metadata": {},
   "outputs": [],
   "source": [
    "# Run this command to lock dependencies and create a kernel for your notebook using Thoth resolution engine\n",
    "# (alternative: add --pipenv parameter to use Pipevn resolution engine)\n",
    "%horus lock"
   ]
  },
  {
   "cell_type": "code",
   "execution_count": null,
   "id": "bba88a5f",
   "metadata": {},
   "outputs": [],
   "source": [
    "# Run this command to verify all dependencies requirements to guarantee reproducibility are satisfied\n",
    "%horus check"
   ]
  }
 ],
 "metadata": {
  "kernelspec": {
   "display_name": "Python 3 (ipykernel)",
   "language": "python",
   "name": "python3"
  },
  "language_info": {
   "codemirror_mode": {
    "name": "ipython",
    "version": 3
   },
   "file_extension": ".py",
   "mimetype": "text/x-python",
   "name": "python",
   "nbconvert_exporter": "python",
   "pygments_lexer": "ipython3",
   "version": "3.8.12"
  }
 },
 "nbformat": 4,
 "nbformat_minor": 5
}
