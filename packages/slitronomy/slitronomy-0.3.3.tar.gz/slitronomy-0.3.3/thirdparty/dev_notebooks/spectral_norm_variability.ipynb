{
 "cells": [
  {
   "cell_type": "markdown",
   "metadata": {},
   "source": [
    "# Assess spectral norm variability\n",
    "\n",
    "The computation of the spectral norm is now slower than computing the lensing operator and the noise levels in starlet space. In order to obtain further gain in computation time, we would like to assess the dependency of the spectral norm of the operator H(F(Phi_T_s().)) to variations of F, i.e. to variations of lens model parameters.\n",
    "\n",
    "If it does not vary a lot, we do not have to recompute the spectral norm at each lens model proposition. It can be approximated to a conservative estimate, or recompute every $N$ iterations."
   ]
  },
  {
   "cell_type": "code",
   "execution_count": 1,
   "metadata": {},
   "outputs": [],
   "source": [
    "__author__ = 'aymgal'\n",
    "import copy\n",
    "import pprint\n",
    "import tqdm\n",
    "import numpy as np\n",
    "import matplotlib.pyplot as plt\n",
    "\n",
    "import lenstronomy.Util.util as lenstro_util\n",
    "from lenstronomy.Data.imaging_data import ImageData\n",
    "from lenstronomy.Data.psf import PSF\n",
    "from lenstronomy.LensModel.lens_model import LensModel\n",
    "from lenstronomy.LightModel.light_model import LightModel\n",
    "from lenstronomy.Util import kernel_util\n",
    "\n",
    "from lenstronomy.ImSim.image_sparse_solve import ImageSparseFit\n",
    "from slitronomy.Util.util import dirac_impulse\n",
    "from slitronomy.Util.plot_util import nice_colorbar\n",
    "\n",
    "%matplotlib inline\n",
    "\n",
    "lens_model_type = 'power-law'\n",
    "perfect_seeing = False\n",
    "\n",
    "np.random.seed(42)"
   ]
  },
  {
   "cell_type": "code",
   "execution_count": 2,
   "metadata": {},
   "outputs": [],
   "source": [
    "lin_scale = lambda x: x\n",
    "log_scale = lambda x: np.log10(x)\n",
    "sqrt_scale = lambda x: np.sqrt(x)"
   ]
  },
  {
   "cell_type": "markdown",
   "metadata": {},
   "source": [
    "## Setup sparse solver"
   ]
  },
  {
   "cell_type": "code",
   "execution_count": 3,
   "metadata": {},
   "outputs": [],
   "source": [
    "# data specifics\n",
    "num_pix = 99  # cutout pixel size\n",
    "delta_pix = 0.08  # pixel size in arcsec (area per pixel = deltaPix**2)\n",
    "\n",
    "background_rms = 0.05  # background noise per pixel\n",
    "\n",
    "psf_fwhm = 0.2  # full width half max of PSF, in delta_pix units\n",
    "psf_num_pix = 41"
   ]
  },
  {
   "cell_type": "code",
   "execution_count": 4,
   "metadata": {},
   "outputs": [],
   "source": [
    "# data specification (coordinates, etc.)\n",
    "_, _, ra_at_xy_0, dec_at_xy_0, _, _, Mpix2coord, _ \\\n",
    "    = lenstro_util.make_grid_with_coordtransform(numPix=num_pix, deltapix=delta_pix, subgrid_res=1, \n",
    "                                                 inverse=False, left_lower=False)\n",
    "\n",
    "kwargs_data = {\n",
    "    'background_rms': background_rms,\n",
    "    'noise_map': background_rms * np.ones((num_pix, num_pix)),\n",
    "    'ra_at_xy_0': ra_at_xy_0, 'dec_at_xy_0': dec_at_xy_0, \n",
    "    'transform_pix2angle': Mpix2coord,\n",
    "    'image_data': np.zeros((num_pix, num_pix)) # we do not care about the actual imaging data\n",
    "}\n",
    "data_class = ImageData(**kwargs_data)"
   ]
  },
  {
   "cell_type": "code",
   "execution_count": 5,
   "metadata": {},
   "outputs": [
    {
     "name": "stdout",
     "output_type": "stream",
     "text": [
      "(41, 41)\n"
     ]
    }
   ],
   "source": [
    "# PSF specification\n",
    "if perfect_seeing:\n",
    "    kwargs_psf = {'psf_type': 'NONE'}\n",
    "else:\n",
    "    psf_kernel = kernel_util.kernel_gaussian(psf_num_pix, delta_pix, psf_fwhm)\n",
    "    print(psf_kernel.shape)\n",
    "    kwargs_psf = {'psf_type': 'PIXEL', 'kernel_point_source': psf_kernel}\n",
    "    #kwargs_psf = {'psf_type': 'GAUSSIAN', 'fwhm': psf_fwhm, 'pixel_size': delta_pix, 'truncation': 11}\n",
    "psf_class = PSF(**kwargs_psf)\n",
    "\n",
    "#plt.title(\"PSF kernel\")\n",
    "#im = plt.imshow(psf_class.kernel_point_source, origin='lower')\n",
    "#nice_colorbar(im)\n",
    "#plt.show()"
   ]
  },
  {
   "cell_type": "code",
   "execution_count": 6,
   "metadata": {},
   "outputs": [
    {
     "name": "stdout",
     "output_type": "stream",
     "text": [
      "initial source operator spectral norm 0.9811394749665199\n"
     ]
    }
   ],
   "source": [
    "if lens_model_type == 'power-law':\n",
    "    lens_model_list = ['SPEMD', 'SHEAR_GAMMA_PSI']\n",
    "    kwargs_spemd = {'theta_E': 1.8, 'gamma': 2, 'center_x': 0, 'center_y': 0, 'e1': 0, 'e2': 0}\n",
    "    kwargs_shear = {'gamma_ext': 0.02, 'psi_ext': 0, 'ra_0': 0, 'dec_0': 0}\n",
    "    kwargs_lens = [kwargs_spemd, kwargs_shear]\n",
    "elif lens_model_type == 'composite':\n",
    "    lens_model_list = ['HERNQUIST', 'NFW_ELLIPSE', 'SHEAR_GAMMA_PSI']\n",
    "    kwargs_hernquist = {'theta_E': 1.8, 'gamma': 2, 'center_x': 0, 'center_y': 0, 'e1': 0, 'e2': 0}\n",
    "    kwargs_nfw = {'Rs': 20, 'gamma': 2, 'center_x': 0, 'center_y': 0, 'e1': 0, 'e2': 0}\n",
    "    kwargs_shear = {'gamma_ext': 0.02, 'psi_ext': 0, 'ra_0': 0, 'dec_0': 0}\n",
    "    kwargs_lens = [kwargs_spemd, kwargs_shear]\n",
    "lens_model_class = LensModel(lens_model_list=lens_model_list)\n",
    "\n",
    "source_model_list = ['STARLETS']\n",
    "kwargs_source = [{'n_scales': 6}]\n",
    "source_model_class = LightModel(light_model_list=source_model_list)\n",
    "\n",
    "kwargs_sparse_solver = {\n",
    "    'source_interpolation': 'bilinear',\n",
    "    'subgrid_res_source': 2,\n",
    "    'minimal_source_plane': False,\n",
    "    'fixed_spectral_norm_source': None,  # otherwise it fixes a value...which is not what we want here ;) \n",
    "}\n",
    "\n",
    "imageSparseFit = ImageSparseFit(data_class, psf_class=psf_class, \n",
    "                                lens_model_class=lens_model_class,\n",
    "                                source_model_class=source_model_class,\n",
    "                                kwargs_sparse_solver=kwargs_sparse_solver)\n",
    "sparseSolver = imageSparseFit.sparseSolver\n",
    "sparseSolver.prepare_solver(kwargs_lens, kwargs_source)\n",
    "print(\"initial source operator spectral norm\", sparseSolver.spectral_norm_source)"
   ]
  },
  {
   "cell_type": "markdown",
   "metadata": {},
   "source": [
    "## Draw samples of lens model parameters and compute spectral norm"
   ]
  },
  {
   "cell_type": "code",
   "execution_count": 7,
   "metadata": {},
   "outputs": [
    {
     "name": "stderr",
     "output_type": "stream",
     "text": [
      "100%|██████████| 2000/2000 [06:18<00:00,  5.39it/s]\n",
      "100%|██████████| 2000/2000 [10:22<00:00,  3.18it/s]\n"
     ]
    }
   ],
   "source": [
    "n_iter = 2000\n",
    "n_scales_list = [6, 10]\n",
    "\n",
    "spec_norm_list = []\n",
    "kwargs_lens_list = []\n",
    "for n_scales_iter in n_scales_list:\n",
    "    kwargs_source_iter = copy.deepcopy(kwargs_source)\n",
    "    kwargs_source_iter[0]['n_scales'] = n_scales_iter\n",
    "    spec_norm_sublist = []\n",
    "    kwargs_lens_sublist = []\n",
    "    for _ in tqdm.tqdm(range(n_iter)):\n",
    "        kwargs_lens_iter = copy.deepcopy(kwargs_lens)\n",
    "        if lens_model_type == 'power-law':\n",
    "            kwargs_lens_iter[0]['theta_E'] = np.random.uniform(0.5, delta_pix*num_pix/4)\n",
    "            kwargs_lens_iter[0]['gamma'] = np.random.uniform(1.8, 2.2)\n",
    "            kwargs_lens_iter[0]['center_x'] = np.random.uniform(-0.5, 0.5)\n",
    "            kwargs_lens_iter[0]['center_y'] = np.random.uniform(-0.5, 0.5)\n",
    "            kwargs_lens_iter[0]['e1'] = np.random.uniform(-0.5, 0.5)\n",
    "            kwargs_lens_iter[0]['e2'] = np.random.uniform(-0.5, 0.5)\n",
    "        kwargs_lens_iter[-1]['gamma_ext'] = np.random.uniform(0, 0.02)\n",
    "        kwargs_lens_iter[-1]['psi_ext'] = np.random.uniform(-np.pi, np.pi)\n",
    "        kwargs_lens_sublist.append(kwargs_lens_iter)\n",
    "        try:\n",
    "            # compute lensing operator and spectral norm\n",
    "            sparseSolver.prepare_solver(kwargs_lens_iter, kwargs_source_iter)\n",
    "        except:\n",
    "            spec_norm_sublist.append(np.nan)  # most likely an error in lensing op\n",
    "        else:\n",
    "            spec_norm_sublist.append(sparseSolver.spectral_norm_source)\n",
    "    kwargs_lens_list.append(kwargs_lens_sublist)\n",
    "    spec_norm_list.append(spec_norm_sublist)\n",
    "spec_norm_list = np.array(spec_norm_list).T"
   ]
  },
  {
   "cell_type": "code",
   "execution_count": 10,
   "metadata": {},
   "outputs": [
    {
     "name": "stderr",
     "output_type": "stream",
     "text": [
      "/Users/aymericg/anaconda3/envs/pystro36/lib/python3.6/site-packages/ipykernel_launcher.py:4: RuntimeWarning: invalid value encountered in less_equal\n",
      "  after removing the cwd from sys.path.\n",
      "/Users/aymericg/anaconda3/envs/pystro36/lib/python3.6/site-packages/ipykernel_launcher.py:14: RuntimeWarning: invalid value encountered in less_equal\n",
      "  \n",
      "/Users/aymericg/anaconda3/envs/pystro36/lib/python3.6/site-packages/ipykernel_launcher.py:8: MatplotlibDeprecationWarning: Adding an axes using the same arguments as a previous axes currently reuses the earlier instance.  In a future version, a new instance will always be created and returned.  Meanwhile, this warning can be suppressed, and the future behavior ensured, by passing a unique label to each axes instance.\n",
      "  \n",
      "/Users/aymericg/anaconda3/envs/pystro36/lib/python3.6/site-packages/ipykernel_launcher.py:11: MatplotlibDeprecationWarning: Adding an axes using the same arguments as a previous axes currently reuses the earlier instance.  In a future version, a new instance will always be created and returned.  Meanwhile, this warning can be suppressed, and the future behavior ensured, by passing a unique label to each axes instance.\n",
      "  # This is added back by InteractiveShellApp.init_path()\n",
      "/Users/aymericg/anaconda3/envs/pystro36/lib/python3.6/site-packages/ipykernel_launcher.py:13: MatplotlibDeprecationWarning: Adding an axes using the same arguments as a previous axes currently reuses the earlier instance.  In a future version, a new instance will always be created and returned.  Meanwhile, this warning can be suppressed, and the future behavior ensured, by passing a unique label to each axes instance.\n",
      "  del sys.path[0]\n"
     ]
    },
    {
     "name": "stdout",
     "output_type": "stream",
     "text": [
      "[10.52442303 10.00765295] [0.95635298 0.95806724] [192.5085083  168.11957627] 0.023443470967510722\n"
     ]
    },
    {
     "data": {
      "image/png": "[encoded data removed]",
      "text/plain": [
       "<Figure size 864x288 with 3 Axes>"
      ]
     },
     "metadata": {
      "needs_background": "light"
     },
     "output_type": "display_data"
    }
   ],
   "source": [
    "print(np.nanmean(spec_norm_list, axis=0), \n",
    "      np.nanmedian(spec_norm_list, axis=0), \n",
    "      np.nanstd(spec_norm_list, axis=0),\n",
    "      np.nanstd(spec_norm_list[spec_norm_list <= 1], axis=0))\n",
    "\n",
    "fig = plt.figure(figsize=(12, 4))\n",
    "for i in range(len(n_scales_list)):\n",
    "    ax = plt.subplot(1, 3, 1)\n",
    "    ax.scatter(range(n_iter), spec_norm_list[:, i], alpha=0.5, label=\"n_scales={}\".format(n_scales_list[i]))\n",
    "    ax.legend()\n",
    "    ax = plt.subplot(1, 3, 2)\n",
    "    ax.hist(spec_norm_list[:, i], bins=50, alpha=0.5)\n",
    "    ax = plt.subplot(1, 3, 3)\n",
    "    ax.hist(spec_norm_list[spec_norm_list[:, i] <= 1, i], bins=20, alpha=0.5)\n",
    "plt.show()"
   ]
  },
  {
   "cell_type": "code",
   "execution_count": 28,
   "metadata": {
    "scrolled": false
   },
   "outputs": [
    {
     "name": "stdout",
     "output_type": "stream",
     "text": [
      "[ 561  813 1384 1831 1885]\n",
      "3780.7470822262185\n",
      "[{'center_x': 0.07503777500059206,\n",
      "  'center_y': -0.31820041759343365,\n",
      "  'e1': -0.4283950231868061,\n",
      "  'e2': 0.057446758389545605,\n",
      "  'gamma': 2.1728237989917485,\n",
      "  'theta_E': 1.6219473048213209},\n",
      " {'dec_0': 0,\n",
      "  'gamma_ext': 2.3450389256935987e-05,\n",
      "  'psi_ext': 0.4788519266916702,\n",
      "  'ra_0': 0}]\n",
      "4267.6756259892645\n",
      "[{'center_x': 0.16618523177178168,\n",
      "  'center_y': -0.1535930031693078,\n",
      "  'e1': -0.11857199318853673,\n",
      "  'e2': -0.44243719962818917,\n",
      "  'gamma': 2.1958726402120368,\n",
      "  'theta_E': 1.9220067071592635},\n",
      " {'dec_0': 0,\n",
      "  'gamma_ext': 0.005813361456995696,\n",
      "  'psi_ext': 2.3536768384917632,\n",
      "  'ra_0': 0}]\n",
      "3498.970738508474\n",
      "[{'center_x': -0.36011502888184777,\n",
      "  'center_y': 0.17072110948575991,\n",
      "  'e1': -0.14123215893847818,\n",
      "  'e2': -0.25862022458169154,\n",
      "  'gamma': 2.194052791014312,\n",
      "  'theta_E': 1.8301267469466134},\n",
      " {'dec_0': 0,\n",
      "  'gamma_ext': 0.009356289626257727,\n",
      "  'psi_ext': -0.5229017915274188,\n",
      "  'ra_0': 0}]\n",
      "3141.9084646349497\n",
      "[{'center_x': 0.4126048568686388,\n",
      "  'center_y': -0.4040870920976134,\n",
      "  'e1': -0.43529335348189313,\n",
      "  'e2': -0.046527993308242754,\n",
      "  'gamma': 2.1947335508540777,\n",
      "  'theta_E': 1.6714320776741531},\n",
      " {'dec_0': 0,\n",
      "  'gamma_ext': 0.010157648130373056,\n",
      "  'psi_ext': -0.2072315966376106,\n",
      "  'ra_0': 0}]\n",
      "4423.6417228213695\n",
      "[{'center_x': 0.26093498541133286,\n",
      "  'center_y': -0.0035865439474349614,\n",
      "  'e1': 0.007592361726952879,\n",
      "  'e2': 0.16634624941058196,\n",
      "  'gamma': 2.1872319146925117,\n",
      "  'theta_E': 1.7004964748832894},\n",
      " {'dec_0': 0,\n",
      "  'gamma_ext': 0.00929230798029981,\n",
      "  'psi_ext': -0.3455679526457338,\n",
      "  'ra_0': 0}]\n"
     ]
    },
    {
     "name": "stderr",
     "output_type": "stream",
     "text": [
      "/Users/aymericg/anaconda3/envs/pystro36/lib/python3.6/site-packages/ipykernel_launcher.py:1: RuntimeWarning: invalid value encountered in greater\n",
      "  \"\"\"Entry point for launching an IPython kernel.\n"
     ]
    }
   ],
   "source": [
    "indices_large_norm = np.where(spec_norm_list[:, 0] > 1)[0]\n",
    "print(indices_large_norm)\n",
    "for idx in indices_large_norm:\n",
    "    print(spec_norm_list[idx, 0])\n",
    "    pprint.pprint(kwargs_lens_list[0][idx])\n",
    "    "
   ]
  },
  {
   "cell_type": "code",
   "execution_count": 27,
   "metadata": {
    "scrolled": false
   },
   "outputs": [
    {
     "name": "stdout",
     "output_type": "stream",
     "text": [
      "[ 338 1461 1625 1773]\n",
      "nan\n",
      "[{'center_x': 0.08340375752421136,\n",
      "  'center_y': 0.34246147724569653,\n",
      "  'e1': 0.12996490669726768,\n",
      "  'e2': -0.34325053149240325,\n",
      "  'gamma': 2.1624478445386965,\n",
      "  'theta_E': 1.8976428679014956},\n",
      " {'dec_0': 0,\n",
      "  'gamma_ext': 0.00315502941319737,\n",
      "  'psi_ext': -0.7818627981718933,\n",
      "  'ra_0': 0}]\n",
      "nan\n",
      "[{'center_x': -0.3138928203797744,\n",
      "  'center_y': 0.088828287604928,\n",
      "  'e1': 0.37420309403827035,\n",
      "  'e2': -0.25590789061949837,\n",
      "  'gamma': 2.1644626400207443,\n",
      "  'theta_E': 1.8734921317759825},\n",
      " {'dec_0': 0,\n",
      "  'gamma_ext': 0.01342381325421365,\n",
      "  'psi_ext': 2.741580665843891,\n",
      "  'ra_0': 0}]\n",
      "nan\n",
      "[{'center_x': -0.334508350440185,\n",
      "  'center_y': 0.4459645245951164,\n",
      "  'e1': 0.2834985624807044,\n",
      "  'e2': 0.2532519477569165,\n",
      "  'gamma': 2.1693115520179154,\n",
      "  'theta_E': 1.9586193991733443},\n",
      " {'dec_0': 0,\n",
      "  'gamma_ext': 0.00493975414787069,\n",
      "  'psi_ext': 0.3706958756196128,\n",
      "  'ra_0': 0}]\n",
      "nan\n",
      "[{'center_x': 0.2429275011447216,\n",
      "  'center_y': -0.49292691365747265,\n",
      "  'e1': 0.23575341036612385,\n",
      "  'e2': -0.09276399196150664,\n",
      "  'gamma': 2.192434922213006,\n",
      "  'theta_E': 1.4935367385807425},\n",
      " {'dec_0': 0,\n",
      "  'gamma_ext': 0.0006570148154047484,\n",
      "  'psi_ext': -0.29288144835746,\n",
      "  'ra_0': 0}]\n"
     ]
    }
   ],
   "source": [
    "indices_nans_norm = np.where(np.isnan(spec_norm_list[:, 0]))[0]\n",
    "print(indices_nans_norm)\n",
    "for idx in indices_nans_norm:\n",
    "    print(spec_norm_list[idx, 0])\n",
    "    pprint.pprint(kwargs_lens_list[0][idx])"
   ]
  },
  {
   "cell_type": "code",
   "execution_count": null,
   "metadata": {},
   "outputs": [],
   "source": []
  },
  {
   "cell_type": "code",
   "execution_count": null,
   "metadata": {},
   "outputs": [],
   "source": []
  }
 ],
 "metadata": {
  "kernelspec": {
   "display_name": "Pystro3.6",
   "language": "python",
   "name": "pystro3.6"
  },
  "language_info": {
   "codemirror_mode": {
    "name": "ipython",
    "version": 3
   },
   "file_extension": ".py",
   "mimetype": "text/x-python",
   "name": "python",
   "nbconvert_exporter": "python",
   "pygments_lexer": "ipython3",
   "version": "3.6.8"
  }
 },
 "nbformat": 4,
 "nbformat_minor": 1
}
