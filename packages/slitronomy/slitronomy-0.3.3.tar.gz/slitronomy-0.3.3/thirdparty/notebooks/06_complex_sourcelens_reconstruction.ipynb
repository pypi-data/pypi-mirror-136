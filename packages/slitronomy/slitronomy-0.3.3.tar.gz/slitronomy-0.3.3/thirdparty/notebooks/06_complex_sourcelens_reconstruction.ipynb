{
 "cells": [
  {
   "cell_type": "markdown",
   "metadata": {},
   "source": [
    "# Complex source+lens reconstruction using _starlets_\n",
    "This notebooks aims to be a first tentative to express light on pixelated grid, and building the mapping between source and image planes, for an implementation in _lenstronomy_."
   ]
  },
  {
   "cell_type": "code",
   "execution_count": 1,
   "metadata": {},
   "outputs": [],
   "source": [
    "__author__ = 'aymgal'\n",
    "import os\n",
    "import sys\n",
    "import copy\n",
    "import time\n",
    "import numpy as np\n",
    "import matplotlib.pyplot as plt\n",
    "import astropy.io.fits as pf\n",
    "import pysap\n",
    "import pickle as pkl\n",
    "\n",
    "import lenstronomy.Util.simulation_util as sim_util\n",
    "import lenstronomy.Util.image_util as image_util\n",
    "import lenstronomy.Util.util as lenstro_util\n",
    "from lenstronomy.ImSim.image_model import ImageModel\n",
    "from lenstronomy.Data.imaging_data import ImageData\n",
    "from lenstronomy.Data.psf import PSF\n",
    "from lenstronomy.LensModel.lens_model import LensModel\n",
    "from lenstronomy.LightModel.light_model import LightModel\n",
    "from lenstronomy.Util import kernel_util\n",
    "\n",
    "from lenstronomy.ImSim.image_sparse_solve import ImageSparseFit\n",
    "from slitronomy.Util.util import dirac_impulse\n",
    "from slitronomy.Util.plot_util import nice_colorbar, log_cmap\n",
    "\n",
    "%matplotlib inline\n",
    "\n",
    "subgrid_res_source = 2\n",
    "\n",
    "np.random.seed(18)"
   ]
  },
  {
   "cell_type": "code",
   "execution_count": 2,
   "metadata": {},
   "outputs": [],
   "source": [
    "lin_scale = lambda x: x\n",
    "log_scale = lambda x: np.log10(x)\n",
    "sqrt_scale = lambda x: np.sqrt(x)"
   ]
  },
  {
   "cell_type": "markdown",
   "metadata": {},
   "source": [
    "## Global settings "
   ]
  },
  {
   "cell_type": "code",
   "execution_count": 3,
   "metadata": {},
   "outputs": [],
   "source": [
    "# data specifics\n",
    "num_pix = 110  # number of side pixels\n",
    "delta_pix = 0.08  # pixel size in arcsec (area per pixel = deltaPix**2)\n",
    "\n",
    "background_rms = 0.1  # background noise per pixel\n",
    "exp_time = 100 # exposure time (arbitrary units, flux per pixel is in units #photons/exp_time unit)\n",
    "\n",
    "psf_fwhm = 0.2  # full width half max of PSF, in delta_pix units\n",
    "psf_num_pix = 41  # number of side pixels for the PSF kernel \n",
    "\n",
    "lens_light_type = 'analytical'  # 'analytical' for double Sérsic or 'real' for interpolated HST image"
   ]
  },
  {
   "cell_type": "code",
   "execution_count": 4,
   "metadata": {},
   "outputs": [
    {
     "name": "stdout",
     "output_type": "stream",
     "text": [
      "(41, 41) (82, 82)\n"
     ]
    },
    {
     "data": {
      "image/png": "[encoded data removed]",
      "text/plain": [
       "<Figure size 432x288 with 2 Axes>"
      ]
     },
     "metadata": {
      "needs_background": "light"
     },
     "output_type": "display_data"
    }
   ],
   "source": [
    "# data specification (coordinates, etc.)\n",
    "_, _, ra_at_xy_0, dec_at_xy_0, _, _, Mpix2coord, _ \\\n",
    "    = lenstro_util.make_grid_with_coordtransform(numPix=num_pix, deltapix=delta_pix, subgrid_res=1, \n",
    "                                                 inverse=False, left_lower=False)\n",
    "\n",
    "kwargs_data = {\n",
    "    'background_rms': background_rms,\n",
    "    'ra_at_xy_0': ra_at_xy_0, 'dec_at_xy_0': dec_at_xy_0, \n",
    "    'transform_pix2angle': Mpix2coord,\n",
    "    'image_data': np.zeros((num_pix, num_pix))\n",
    "}\n",
    "if exp_time is not None:\n",
    "    kwargs_data['exposure_time'] = np.ones((num_pix, num_pix)) * exp_time\n",
    "data_class = ImageData(**kwargs_data)\n",
    "\n",
    "# PSF specification\n",
    "no_convolution = False\n",
    "if no_convolution:\n",
    "    kwargs_psf = {'psf_type': 'NONE'}\n",
    "else:\n",
    "    psf_kernel = kernel_util.kernel_gaussian(psf_num_pix, delta_pix, psf_fwhm)\n",
    "    psf_kernel_hd = kernel_util.kernel_gaussian(int(psf_num_pix*subgrid_res_source), \n",
    "                                                  delta_pix/subgrid_res_source, \n",
    "                                                  psf_fwhm)\n",
    "    print(psf_kernel.shape, psf_kernel_hd.shape)\n",
    "    kwargs_psf = {'psf_type': 'PIXEL', 'kernel_point_source': psf_kernel}\n",
    "    #kwargs_psf = {'psf_type': 'GAUSSIAN', 'fwhm': psf_fwhm, 'pixel_size': delta_pix, 'truncation': 11}\n",
    "psf_class = PSF(**kwargs_psf)\n",
    "\n",
    "plt.title(\"PSF kernel\")\n",
    "im = plt.imshow(psf_class.kernel_point_source, origin='lower')\n",
    "nice_colorbar(im)\n",
    "plt.show()"
   ]
  },
  {
   "cell_type": "markdown",
   "metadata": {},
   "source": [
    "## Setup the lens model"
   ]
  },
  {
   "cell_type": "code",
   "execution_count": 5,
   "metadata": {},
   "outputs": [],
   "source": [
    "# single power-law elliptical mass distribution\n",
    "lens_model_list = ['SIE']\n",
    "kwargs_sie = {'theta_E': 2.2, 'center_x': 0, 'center_y': 0, 'e1': 0.1, 'e2': -0.1}\n",
    "kwargs_lens = [kwargs_sie]\n",
    "lens_model_class = LensModel(lens_model_list=lens_model_list)"
   ]
  },
  {
   "cell_type": "markdown",
   "metadata": {},
   "source": [
    "## Setup the source surface brightness"
   ]
  },
  {
   "cell_type": "code",
   "execution_count": 6,
   "metadata": {},
   "outputs": [],
   "source": [
    "# list of source light profiles\n",
    "# get an pre-processed source galaxy from galsim\n",
    "source_dir = os.path.join('data', 'sources')\n",
    "galsim_index = 1\n",
    "delta_pix_mas = int(1000 * delta_pix)\n",
    "source_filename = 'source_galsim{}_pixsize{}mas_ssres{}.fits'.format(galsim_index, delta_pix_mas, subgrid_res_source)\n",
    "# load a source galaxy pre-generated with galsim\n",
    "with pf.open(os.path.join(source_dir, source_filename)) as f:\n",
    "    galsim_source_subgrid = f[0].data\n",
    "# remove negative pixels\n",
    "galsim_source_subgrid[galsim_source_subgrid < 0] = 0.\n",
    "# normalize so max is 1 (amplitude is defined with 'amp' parameter below\n",
    "galsim_source_subgrid /= galsim_source_subgrid.max()\n",
    "galsim_delta_pix = delta_pix / subgrid_res_source\n",
    "# light profile in lenstronomy conventions\n",
    "source_model_list = ['INTERPOL']\n",
    "# specify scale, centering and rotation angle for interpolation on source grid\n",
    "kwargs_interpol_source = {'amp': 500, 'image': galsim_source_subgrid, 'scale': galsim_delta_pix,\n",
    "                          'center_x': +0.2, 'center_y': -0.1, 'phi_G': 0}\n",
    "kwargs_source = [kwargs_interpol_source]\n",
    "source_model_class = LightModel(light_model_list=source_model_list)"
   ]
  },
  {
   "cell_type": "markdown",
   "metadata": {},
   "source": [
    "## Setup the lens surface brightness"
   ]
  },
  {
   "cell_type": "code",
   "execution_count": 7,
   "metadata": {},
   "outputs": [],
   "source": [
    "if lens_light_type == 'analytical':\n",
    "    lens_light_model_list = ['SERSIC_ELLIPSE', 'SERSIC_ELLIPSE']\n",
    "    kwargs_lens_light = [\n",
    "        {'amp': 30, 'R_sersic': 2, 'n_sersic': 1, 'e1': kwargs_sie['e1'], 'e2': kwargs_sie['e2'],\n",
    "         'center_x': kwargs_sie['center_x'], 'center_y': kwargs_sie['center_y']},\n",
    "        {'amp': 30, 'R_sersic': 2, 'n_sersic': 4, 'e1': kwargs_sie['e1'], 'e2': kwargs_sie['e2'],\n",
    "         'center_x': kwargs_sie['center_x'], 'center_y': kwargs_sie['center_y']}\n",
    "    ]\n",
    "    \n",
    "elif lens_light_type == 'real':\n",
    "    #data_path = ('data/lens/cutout_LRG.fits')\n",
    "    data_path = ('data/lens/Galaxy_SLIT_data.fits')\n",
    "    with pf.open(data_path) as f:\n",
    "        lrg_light = f[0].data\n",
    "    lens_light_model_list = ['INTERPOL']\n",
    "    factor = 1\n",
    "    kwargs_interpol_lens = {'image': lrg_light, 'amp': 400, 'center_x': 0, 'center_y': 0, 'phi_G': 0, \n",
    "                            'scale': 0.05}\n",
    "    kwargs_lens_light = [kwargs_interpol_lens]\n",
    "lens_light_model_class = LightModel(light_model_list=lens_light_model_list)"
   ]
  },
  {
   "cell_type": "markdown",
   "metadata": {},
   "source": [
    "## Simulate the image and add noise"
   ]
  },
  {
   "cell_type": "code",
   "execution_count": 8,
   "metadata": {},
   "outputs": [],
   "source": [
    "# numerical settings of lenstronomy\n",
    "kwargs_numerics = {'supersampling_factor': 3, 'supersampling_convolution': False}\n",
    "\n",
    "# get the simalated lens image (i.e. image plane)\n",
    "imageModel = ImageModel(data_class, psf_class, lens_model_class, source_model_class, \n",
    "                        lens_light_model_class, point_source_class=None, \n",
    "                        kwargs_numerics=kwargs_numerics)\n",
    "\n",
    "image_sim_no_noise = imageModel.image(kwargs_lens, kwargs_source, kwargs_lens_light, kwargs_ps=None)\n",
    "\n",
    "bkg = image_util.add_background(image_sim_no_noise, sigma_bkd=background_rms)\n",
    "noise = bkg\n",
    "if exp_time is not None:\n",
    "    poisson = image_util.add_poisson(image_sim_no_noise, exp_time=exp_time)\n",
    "    noise += poisson\n",
    "image_sim = image_sim_no_noise + noise\n",
    "image_sim_1d = lenstro_util.image2array(image_sim)\n",
    "\n",
    "kwargs_data['image_data'] = image_sim\n",
    "kwargs_data['noise_map'] = background_rms * np.ones_like(image_sim)\n",
    "#data_class.update_data(image_sim)\n",
    "data_class = ImageData(**kwargs_data)"
   ]
  },
  {
   "cell_type": "code",
   "execution_count": 9,
   "metadata": {},
   "outputs": [],
   "source": [
    "# get the light distribution in source plane (at image resolution here!)\n",
    "source_sim = imageModel.source_surface_brightness(kwargs_source, unconvolved=True, de_lensed=True)\n",
    "source_sim_1d = lenstro_util.image2array(source_sim)\n",
    "\n",
    "# get the lens light in image, convolved\n",
    "lens_light_sim_conv = imageModel.lens_surface_brightness(kwargs_lens_light, unconvolved=False)"
   ]
  },
  {
   "cell_type": "markdown",
   "metadata": {},
   "source": [
    "## Visualize imaging data"
   ]
  },
  {
   "cell_type": "code",
   "execution_count": 10,
   "metadata": {
    "scrolled": false
   },
   "outputs": [
    {
     "data": {
      "image/png": "[encoded data removed]",
      "text/plain": [
       "<Figure size 1080x288 with 6 Axes>"
      ]
     },
     "metadata": {
      "needs_background": "light"
     },
     "output_type": "display_data"
    }
   ],
   "source": [
    "fig = plt.figure(figsize=(15, 4))\n",
    "\n",
    "ax = plt.subplot2grid((1, 3), (0, 0), fig=fig)\n",
    "ax.set_title(\"image plane, convolved\")\n",
    "im = ax.imshow(lin_scale(image_sim), origin='lower', cmap=log_cmap('cubehelix', 1e-2, 1))\n",
    "nice_colorbar(im)\n",
    "\n",
    "ax = plt.subplot2grid((1, 3), (0, 1))\n",
    "ax.set_title(\"source plane, UNconvolved\")\n",
    "im = ax.imshow(lin_scale(source_sim), origin='lower', cmap=log_cmap('cubehelix', 1e-2, 1))\n",
    "nice_colorbar(im)\n",
    "\n",
    "ax = plt.subplot2grid((1, 3), (0, 2))\n",
    "ax.set_title(\"image plane, convolved\")\n",
    "im = ax.imshow(lin_scale(lens_light_sim_conv), origin='lower', cmap=log_cmap('cubehelix', 1e-2, 1))\n",
    "nice_colorbar(im)\n",
    "\n",
    "plt.show()"
   ]
  },
  {
   "cell_type": "markdown",
   "metadata": {},
   "source": [
    "## Sparse optimizazion to reconstruct the source light"
   ]
  },
  {
   "cell_type": "code",
   "execution_count": 11,
   "metadata": {},
   "outputs": [],
   "source": [
    "source_model_list_sparsefit = ['STARLETS']\n",
    "kwargs_starlets_source = {'n_scales': 6, 'n_pixels': np.size(image_sim)*subgrid_res_source**2}\n",
    "kwargs_source_sparsefit = [kwargs_starlets_source]\n",
    "source_model_class_sparsefit = LightModel(light_model_list=source_model_list_sparsefit)\n",
    "\n",
    "lens_light_model_list_sparsefit = ['STARLETS']\n",
    "kwargs_starlets_lens_light = {'n_scales': 6, 'n_pixels': np.size(image_sim)}\n",
    "kwargs_lens_light_sparsefit = [kwargs_starlets_lens_light]\n",
    "lens_light_model_class_sparsefit = LightModel(light_model_list=lens_light_model_list_sparsefit)\n",
    "\n",
    "\n",
    "init_lens_light_model = lens_light_sim_conv.copy()\n",
    "\n",
    "\n",
    "likelihood_mask = None\n",
    "\n",
    "kwargs_sparse_solver = {\n",
    "    'source_interpolation': 'bilinear',\n",
    "    \n",
    "    'subgrid_res_source': subgrid_res_source,\n",
    "    'minimal_source_plane': False,   # reduce source plane to minimal size depending on imaging data an mask\n",
    "    'min_num_pix_source': 80,  # minimal number of source pixels (on a side)\n",
    "    \n",
    "    'formulation': 'analysis',  # 'analysis' or 'synthesis'\n",
    "    'min_threshold': 100,  # minimum threshold, in units of noise\n",
    "    'threshold_increment_high_freq': 100,   # threshold increment for first starlet scale (high frequencies)\n",
    "    'threshold_decrease_type': 'linear',  # along with MOM estimation\n",
    "    'sparsity_prior_norm': 1,\n",
    "    'force_positivity': True,\n",
    "    \n",
    "    'num_iter_global': 100,  # number of times the solver goes back and forth between source and lens light \n",
    "    'num_iter_source': 20,   # number of iterations for source estimation at fixed lens light\n",
    "    'num_iter_lens': 10,     # number of iterations for lens light estimation at fixed source\n",
    "    'num_iter_weights': 1,   # outer reweighting loop (if l1-norm) \n",
    "    \n",
    "    'verbose': False,     # for printing some info during iterations\n",
    "    'show_steps': False,  # for display plot of current source and lens light estimations\n",
    "    'thread_count': 8,\n",
    "}\n",
    "\n",
    "imageSparseFit = ImageSparseFit(data_class, psf_class=psf_class, \n",
    "                                lens_model_class=lens_model_class,\n",
    "                                source_model_class=source_model_class_sparsefit,\n",
    "                                lens_light_model_class=lens_light_model_class_sparsefit,\n",
    "                                likelihood_mask=likelihood_mask,\n",
    "                                kwargs_sparse_solver=kwargs_sparse_solver)"
   ]
  },
  {
   "cell_type": "code",
   "execution_count": 12,
   "metadata": {
    "scrolled": false
   },
   "outputs": [
    {
     "name": "stdout",
     "output_type": "stream",
     "text": [
      "Running solver...\n",
      "Runtime : 47.674 s\n"
     ]
    }
   ],
   "source": [
    "print(\"Running solver...\")\n",
    "start_time = time.time()\n",
    "solver_results = imageSparseFit.image_sparse_solve(kwargs_lens, kwargs_source=kwargs_source_sparsefit,\n",
    "                                                   kwargs_lens_light=kwargs_lens_light_sparsefit,\n",
    "                                                   init_lens_light_model=init_lens_light_model)\n",
    "end_time = time.time()\n",
    "print(\"Runtime : {:.3f} s\".format(end_time-start_time))\n"
   ]
  },
  {
   "cell_type": "markdown",
   "metadata": {},
   "source": [
    "## Plot results"
   ]
  },
  {
   "cell_type": "code",
   "execution_count": null,
   "metadata": {
    "scrolled": false
   },
   "outputs": [
    {
     "name": "stdout",
     "output_type": "stream",
     "text": [
      "Negative source pixels ? False (min = 0.00e+00)\n"
     ]
    }
   ],
   "source": [
    "sparseSolver = imageSparseFit.sparseSolver\n",
    "#lensingOperator = imageSparseFit.lensingOperator\n",
    "\n",
    "fig = sparseSolver.plot_results(log_scale=True, vmin_res=-6, vmax_res=6,\n",
    "                                vmin_source=1e-2, vmax_source=1e1,\n",
    "                                vmin_image=1e-2, vmax_image=1e1)\n",
    "plt.show()"
   ]
  },
  {
   "cell_type": "markdown",
   "metadata": {},
   "source": [
    "## Display noise levels in source plane, in starlet space"
   ]
  },
  {
   "cell_type": "code",
   "execution_count": null,
   "metadata": {},
   "outputs": [],
   "source": [
    "#nl = sparseSolver.noise.levels_image\n",
    "nl = sparseSolver.noise.levels_source\n",
    "print(nl.shape)\n",
    "\n",
    "for n in range(len(nl)):\n",
    "    plt.figure()\n",
    "    plt.imshow(nl[n], origin='lower', cmap='gist_stern')\n",
    "    plt.colorbar()\n",
    "    plt.show()\n"
   ]
  },
  {
   "cell_type": "markdown",
   "metadata": {},
   "source": [
    "## Analyze residuals in source plane"
   ]
  },
  {
   "cell_type": "markdown",
   "metadata": {},
   "source": [
    "## Project reconstructions and groundtruth on common grids "
   ]
  },
  {
   "cell_type": "code",
   "execution_count": null,
   "metadata": {},
   "outputs": [],
   "source": [
    "# coordinates grid of image plane\n",
    "ra_grid, dec_grid = lenstro_util.make_grid(numPix=num_pix, deltapix=delta_pix)\n",
    "\n",
    "# reconstructed lens light\n",
    "lens_estimate = lens_light_model_class_sparsefit.surface_brightness(ra_grid, dec_grid, kwargs_lens_light_sparsefit)\n",
    "lens_estimate = lenstro_util.array2image(lens_estimate)\n",
    "\n",
    "# coordinates grid of source plane\n",
    "ra_grid_hd, dec_grid_hd = lenstro_util.make_grid(numPix=num_pix, deltapix=delta_pix,\n",
    "                                                 subgrid_res=subgrid_res_source)\n",
    "\n",
    "# reconstructed source\n",
    "source_estimate_hd = source_model_class_sparsefit.surface_brightness(ra_grid_hd, dec_grid_hd, kwargs_source_sparsefit)\n",
    "source_estimate_hd = lenstro_util.array2image(source_estimate_hd)\n",
    "\n",
    "# true source\n",
    "source_sim_hd = source_model_class.surface_brightness(ra_grid_hd, dec_grid_hd, kwargs_source)\n",
    "source_sim_hd = lenstro_util.array2image(source_sim_hd)\n",
    "source_sim_hd *= delta_pix**2  # unit conversion"
   ]
  },
  {
   "cell_type": "markdown",
   "metadata": {},
   "source": [
    "## Plots"
   ]
  },
  {
   "cell_type": "code",
   "execution_count": null,
   "metadata": {
    "scrolled": false
   },
   "outputs": [],
   "source": [
    "residuals_source_hd = source_sim_hd - source_estimate_hd\n",
    "residuals_lens = lens_light_sim_conv - lens_estimate\n",
    "\n",
    "\n",
    "fig, axes = plt.subplots(2, 3, figsize=(15, 10))\n",
    "\n",
    "ax = axes[0, 0]\n",
    "ax.set_title(\"reconstructed source (unconvolved)\")\n",
    "im = ax.imshow(source_estimate_hd, origin='lower', cmap='gist_stern', vmax=3.5)\n",
    "ax.set_xlim(len(source_estimate_hd)/4, 3*len(source_estimate_hd)/4)\n",
    "ax.set_ylim(len(source_sim_hd)/4, 3*len(source_sim_hd)/4)\n",
    "nice_colorbar(im)\n",
    "ax = axes[0, 1]\n",
    "ax.set_title(\"true source (unconvolved)\")\n",
    "im = ax.imshow(source_sim_hd, origin='lower', cmap='gist_stern', vmax=3.5)\n",
    "ax.set_xlim(len(source_sim_hd)/4, 3*len(source_sim_hd)/4)\n",
    "ax.set_ylim(len(source_sim_hd)/4, 3*len(source_sim_hd)/4)\n",
    "nice_colorbar(im)\n",
    "ax = axes[0, 2]\n",
    "ax.set_title(\"truth - model (unconvolved)\")\n",
    "im = ax.imshow(residuals_source_hd, origin='lower', cmap='RdBu_r', vmin=-1, vmax=1)\n",
    "ax.set_xlim(len(residuals_source_hd)/4, 3*len(residuals_source_hd)/4)\n",
    "ax.set_ylim(len(residuals_source_hd)/4, 3*len(residuals_source_hd)/4)\n",
    "nice_colorbar(im)\n",
    "\n",
    "ax = axes[1, 0]\n",
    "ax.set_title(\"reconstructed lens (convolved)\")\n",
    "im = ax.imshow(lens_estimate, origin='lower', cmap='gist_stern', vmax=15)\n",
    "nice_colorbar(im)\n",
    "ax = axes[1, 1]\n",
    "ax.set_title(\"true lens (convolved)\")\n",
    "im = ax.imshow(lens_light_sim_conv, origin='lower', cmap='gist_stern', vmax=15)\n",
    "nice_colorbar(im)\n",
    "ax = axes[1, 2]\n",
    "ax.set_title(\"truth - model (convolved)\")\n",
    "im = ax.imshow(residuals_lens, origin='lower', cmap='RdBu_r', vmin=-0.6, vmax=0.6)\n",
    "nice_colorbar(im)\n",
    "\n",
    "plt.show()"
   ]
  },
  {
   "cell_type": "code",
   "execution_count": null,
   "metadata": {},
   "outputs": [],
   "source": []
  },
  {
   "cell_type": "code",
   "execution_count": null,
   "metadata": {},
   "outputs": [],
   "source": []
  }
 ],
 "metadata": {
  "kernelspec": {
   "display_name": "Pystro3.6",
   "language": "python",
   "name": "pystro3.6"
  },
  "language_info": {
   "codemirror_mode": {
    "name": "ipython",
    "version": 3
   },
   "file_extension": ".py",
   "mimetype": "text/x-python",
   "name": "python",
   "nbconvert_exporter": "python",
   "pygments_lexer": "ipython3",
   "version": "3.6.8"
  }
 },
 "nbformat": 4,
 "nbformat_minor": 1
}
