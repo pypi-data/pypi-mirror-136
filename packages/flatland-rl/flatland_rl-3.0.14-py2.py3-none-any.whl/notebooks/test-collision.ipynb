{
 "cells": [
  {
   "cell_type": "markdown",
   "metadata": {},
   "source": [
    "# Test Collisions\n",
    "A visual test of a \"rear-shunt\" collision, to ensure that the agent does not get marked as collided permananently."
   ]
  },
  {
   "cell_type": "code",
   "execution_count": null,
   "metadata": {},
   "outputs": [],
   "source": [
    "%load_ext autoreload\n",
    "%autoreload 2\n",
    "from IPython.core import display \n",
    "display.display(display.HTML(\"<style>.container { width:95% !important; }</style>\"))"
   ]
  },
  {
   "cell_type": "code",
   "execution_count": null,
   "metadata": {},
   "outputs": [],
   "source": [
    "import PIL\n",
    "from IPython import display\n",
    "from ipycanvas import canvas\n",
    "import time"
   ]
  },
  {
   "cell_type": "code",
   "execution_count": null,
   "metadata": {},
   "outputs": [],
   "source": [
    "from flatland.envs import malfunction_generators as malgen\n",
    "from flatland.envs.agent_utils import EnvAgent\n",
    "#from flatland.envs import sparse_rail_gen as spgen\n",
    "from flatland.envs import rail_generators as rail_gen\n",
    "from flatland.envs import agent_chains as ac\n",
    "from flatland.envs.rail_env import RailEnv, RailEnvActions\n",
    "from flatland.envs.persistence import RailEnvPersister\n",
    "from flatland.utils.rendertools import RenderTool\n",
    "from flatland.utils import env_edit_utils as eeu\n",
    "from flatland.utils import jupyter_utils as ju"
   ]
  },
  {
   "cell_type": "code",
   "execution_count": null,
   "metadata": {},
   "outputs": [],
   "source": [
    "env, envModel = eeu.makeTestEnv(\"concentric_loops\", nAg=2, bUCF=True)\n",
    "behaviour = ju.ForwardWithPause(env, [ju.AgentPause(0, 12, 5)])\n",
    "oEC = ju.EnvCanvas(env, behaviour)\n",
    "env.reset(regenerate_rail=False)\n",
    "oEC.show()\n",
    "for i in range(25):\n",
    "    oEC.step()\n",
    "    oEC.render()\n",
    "    time.sleep(0.1)"
   ]
  },
  {
   "cell_type": "code",
   "execution_count": null,
   "metadata": {},
   "outputs": [],
   "source": [
    "dAgStateExpected = {0: (8, 5, 3), 1: (8, 6, 3)} \n",
    "# {0: (7, 15, 2), 1: (6, 15, 2)}\n",
    "\n",
    "dAgState={}\n",
    "for iAg, ag in enumerate(env.agents):\n",
    "    dAgState[iAg] = (*ag.position, ag.direction)\n",
    "print(\"Expected:\", dAgStateExpected)\n",
    "print(\"Actual:\", dAgState)\n",
    "assert dAgState == dAgStateExpected"
   ]
  }
 ],
 "metadata": {
  "hide_input": false,
  "kernelspec": {
   "display_name": "Python 3",
   "language": "python",
   "name": "python3"
  },
  "language_info": {
   "codemirror_mode": {
    "name": "ipython",
    "version": 3
   },
   "file_extension": ".py",
   "mimetype": "text/x-python",
   "name": "python",
   "nbconvert_exporter": "python",
   "pygments_lexer": "ipython3",
   "version": "3.6.7"
  },
  "latex_envs": {
   "LaTeX_envs_menu_present": true,
   "autoclose": false,
   "autocomplete": true,
   "bibliofile": "biblio.bib",
   "cite_by": "apalike",
   "current_citInitial": 1,
   "eqLabelWithNumbers": true,
   "eqNumInitial": 1,
   "hotkeys": {
    "equation": "Ctrl-E",
    "itemize": "Ctrl-I"
   },
   "labels_anchors": false,
   "latex_user_defs": false,
   "report_style_numbering": false,
   "user_envs_cfg": false
  },
  "toc": {
   "base_numbering": 1,
   "nav_menu": {},
   "number_sections": true,
   "sideBar": true,
   "skip_h1_title": false,
   "title_cell": "Table of Contents",
   "title_sidebar": "Contents",
   "toc_cell": false,
   "toc_position": {},
   "toc_section_display": true,
   "toc_window_display": false
  },
  "varInspector": {
   "cols": {
    "lenName": 16,
    "lenType": 16,
    "lenVar": 40
   },
   "kernels_config": {
    "python": {
     "delete_cmd_postfix": "",
     "delete_cmd_prefix": "del ",
     "library": "var_list.py",
     "varRefreshCmd": "print(var_dic_list())"
    },
    "r": {
     "delete_cmd_postfix": ") ",
     "delete_cmd_prefix": "rm(",
     "library": "var_list.r",
     "varRefreshCmd": "cat(var_dic_list()) "
    }
   },
   "types_to_exclude": [
    "module",
    "function",
    "builtin_function_or_method",
    "instance",
    "_Feature"
   ],
   "window_display": false
  },
  "widgets": {
   "application/vnd.jupyter.widget-state+json": {
    "state": {
     "0f519ff851d642d6a67cbc7f2b76c6ef": {
      "model_module": "ipycanvas",
      "model_module_version": "^0.4.1",
      "model_name": "CanvasModel",
      "state": {
       "_dom_classes": [],
       "_model_module": "ipycanvas",
       "_model_module_version": "^0.4.1",
       "_model_name": "CanvasModel",
       "_view_count": null,
       "_view_module": "ipycanvas",
       "_view_module_version": "^0.4.1",
       "_view_name": "CanvasView",
       "image_data": null,
       "layout": "IPY_MODEL_24409cd7812a436582ba0ac1c4ece5ee",
       "size": [
        600,
        300
       ],
       "sync_image_data": false
      }
     },
     "24409cd7812a436582ba0ac1c4ece5ee": {
      "model_module": "@jupyter-widgets/base",
      "model_module_version": "1.2.0",
      "model_name": "LayoutModel",
      "state": {
       "_model_module": "@jupyter-widgets/base",
       "_model_module_version": "1.2.0",
       "_model_name": "LayoutModel",
       "_view_count": null,
       "_view_module": "@jupyter-widgets/base",
       "_view_module_version": "1.2.0",
       "_view_name": "LayoutView",
       "align_content": null,
       "align_items": null,
       "align_self": null,
       "border": null,
       "bottom": null,
       "display": null,
       "flex": null,
       "flex_flow": null,
       "grid_area": null,
       "grid_auto_columns": null,
       "grid_auto_flow": null,
       "grid_auto_rows": null,
       "grid_column": null,
       "grid_gap": null,
       "grid_row": null,
       "grid_template_areas": null,
       "grid_template_columns": null,
       "grid_template_rows": null,
       "height": "300px",
       "justify_content": null,
       "justify_items": null,
       "left": null,
       "margin": null,
       "max_height": null,
       "max_width": null,
       "min_height": null,
       "min_width": null,
       "object_fit": null,
       "object_position": null,
       "order": null,
       "overflow": null,
       "overflow_x": null,
       "overflow_y": null,
       "padding": null,
       "right": null,
       "top": null,
       "visibility": null,
       "width": "600px"
      }
     }
    },
    "version_major": 2,
    "version_minor": 0
   }
  }
 },
 "nbformat": 4,
 "nbformat_minor": 2
}
